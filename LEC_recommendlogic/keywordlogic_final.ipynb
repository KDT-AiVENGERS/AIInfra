{
 "cells": [
  {
   "cell_type": "code",
   "execution_count": 1,
   "metadata": {},
   "outputs": [],
   "source": [
    "import pandas as pd\n",
    "# 공고 jd 하나가 들어가면 그에 대한 강의들이 나오도록 \n",
    "def Rec_Lec(jds_pd : pd.DataFrame, udemy_pd : pd.DataFrame, keyword_jds_pd : pd.DataFrame, keyword_udemy_pd : pd.DataFrame):\n",
    "    jds_pd = jds_pd.reset_index(drop = True)\n",
    "\n",
    "    #공고의 문자열 병합 및 소문자화\n",
    "    string = jds_pd['자격요건'][0] + jds_pd['우대조건'][0] + jds_pd['주요업무'][0]\n",
    "    string = string.lower().replace(' ', '')\n",
    "\n",
    "    # udemy, 공고 사이에 겹치는 키워드를 추출하는 함수\n",
    "    def make_keywords(keyword_jds_pd, keyword_udemy_pd):\n",
    "        keywords = pd.merge(keyword_jds_pd, keyword_udemy_pd, on = '단어명', how = 'inner')['단어명'].values\n",
    "        \n",
    "        return keywords\n",
    "\n",
    "    keywords = make_keywords(keyword_jds_pd, keyword_udemy_pd)\n",
    "    \n",
    "    # 중복된 키워드 안에서 JD 안에 있는 keyword를 추출\n",
    "    k_list = []\n",
    "    for keyword in keywords:\n",
    "        if keyword in string:\n",
    "            k_list.append(keyword)\n",
    "\n",
    "    # 강의별로 keyword를 순회시키면서 해당 keyword가 몇개가 들어있는지 counting\n",
    "    n = len(udemy_pd)\n",
    "    Rec_dict = dict()\n",
    "    for idx in range(n):\n",
    "        Udemy_string = udemy_pd.loc[idx, '강의소개'] + udemy_pd.loc[idx, '강의명']\n",
    "        Udemy_string = Udemy_string.lower().replace(' ', '')\n",
    "        count = 0\n",
    "        \n",
    "        for key in k_list:\n",
    "            count += Udemy_string.count(key)\n",
    "            \n",
    "        Rec_dict[idx] = count\n",
    "    \n",
    "    Rec_dict = dict(sorted(Rec_dict.items(), key = lambda x: x[1], reverse = True))\n",
    "    \n",
    "    return Rec_dict\n"
   ]
  },
  {
   "cell_type": "code",
   "execution_count": 2,
   "metadata": {},
   "outputs": [],
   "source": [
    "udemy_skills = pd.read_csv('udemy_skills.csv') # 유데미 키워드\n",
    "jd_skills = pd.read_csv('job_skills.csv') # 공고 키워드\n",
    "jds_pd = pd.read_csv('pre_result.csv') # 공고\n",
    "udemy_pd = pd.read_csv('udemy_resultKE_prep.csv') # 유데미 강의"
   ]
  },
  {
   "cell_type": "code",
   "execution_count": 3,
   "metadata": {},
   "outputs": [],
   "source": [
    "index_score_dict = Rec_Lec(jds_pd.iloc[100:101,:], udemy_pd, jd_skills, udemy_skills)"
   ]
  },
  {
   "cell_type": "code",
   "execution_count": 5,
   "metadata": {},
   "outputs": [
    {
     "data": {
      "text/plain": [
       "[{'Unnamed: 0': 2092,\n",
       "  '대분류': 'data-science',\n",
       "  '소분류': 'TensorFlow',\n",
       "  '강의명': 'A Complete Guide on TensorFlow 2.0 using Keras API',\n",
       "  '난이도': '초급자',\n",
       "  '가격(현재가격)': 59000,\n",
       "  '총소요시간': '13시간',\n",
       "  '강의소개': '배울 내용\\r\\nHow to use Tensorflow 2.0 in Data Science\\r\\nImportant differences between Tensorflow 1.x and Tensorflow 2.0\\r\\nHow to implement Artificial Neural Networks in Tensorflow 2.0\\r\\nHow to implement Convolutional Neural Networks in Tensorflow 2.0\\r\\nHow to implement Recurrent Neural Networks in Tensorflow 2.0\\r\\nHow to build your own Transfer Learning application in Tensorflow 2.0\\r\\nHow to build a stock market trading bot using Reinforcement Learning (Deep-Q Network)\\r\\nHow to build Machine Learning Pipeline in Tensorflow 2.0\\r\\nHow to conduct Data Validation and Dataset Preprocessing using TensorFlow Data Validation and TensorFlow Transform.\\r\\nPutting a TensorFlow 2.0 model into production\\r\\n더 보기',\n",
       "  '언어': '영어',\n",
       "  '출처': 'https://www.udemy.com/course/tensorflow-2/'},\n",
       " {'Unnamed: 0': 2553,\n",
       "  '대분류': 'data-science',\n",
       "  '소분류': 'Deep Learning',\n",
       "  '강의명': 'Tensorflow-Pytorch-TensorRT-ONNX-From Zero to Hero',\n",
       "  '난이도': '모든 수준',\n",
       "  '가격(현재가격)': 17000,\n",
       "  '총소요시간': '10시간 30분',\n",
       "  '강의소개': '배울 내용\\r\\n1. What is Docker and How to use Docker\\r\\n2. What is Kubernet and How to use with Docker\\r\\n3. Nvidia SuperComputer and Cuda Programming Language\\r\\n4. What are OpenCL and OpenGL and when to use ?\\r\\n6.(LAB) Tensorflow and Pytorch Installation, Configuration with Docker\\r\\n7. (LAB)DockerFile, Docker Compile and Docker Compose Debug file configuration\\r\\n8. (LAB)Different YOLO version, comparisons, and when to use which version of YOLO according to your problem\\r\\n9. (LAB)Jupyter Notebook Editor as well as Visual Studio Coding Skills\\r\\n10. (LAB) Visual Studio Code Setup and Docker Debugger with VS\\r\\n11. (LAB) what is ONNX fframework and how to use apply onnx to your custom problems\\r\\n더 보기',\n",
       "  '언어': '영어',\n",
       "  '출처': 'https://www.udemy.com/course/learn-tensorflow-pytorch-tensorrt-onnx-from-scratch/'},\n",
       " {'Unnamed: 0': 320,\n",
       "  '대분류': 'web-development',\n",
       "  '소분류': 'Docker',\n",
       "  '강의명': 'Hands on With Docker & Docker Compose From a Docker Captain',\n",
       "  '난이도': '초급자',\n",
       "  '가격(현재가격)': 20000,\n",
       "  '총소요시간': '4시간 30분',\n",
       "  '강의소개': '배울 내용\\r\\nUnderstand what Docker is and isn\\'t\\r\\nInstall Docker on MacOS, Windows & Linux\\r\\nUnderstand Docker\\'s ecosystem\\r\\nMaster Docker\\'s core features\\r\\nMaster Docker Compose\\'s core features\\r\\nBuild, run and push your own custom Docker images\\r\\nManage real world web applications with Docker\\r\\nSkills to \"Dockerize\" your own web applications no matter what framework you use',\n",
       "  '언어': '영어',\n",
       "  '출처': 'https://www.udemy.com/course/hands-on-with-docker-and-docker-compose/'},\n",
       " {'Unnamed: 0': 1975,\n",
       "  '대분류': 'data-science',\n",
       "  '소분류': 'TensorFlow',\n",
       "  '강의명': '【한글자막】 TensorFlow 2.0 : 딥러닝 모델 구현 마스터 패키지',\n",
       "  '난이도': '초급자',\n",
       "  '가격(현재가격)': 17000,\n",
       "  '총소요시간': '13시간',\n",
       "  '강의소개': '배울 내용\\r\\n데이터 사이언스에서 TensorFlow 2.0을 사용하는 방법\\r\\nTensorFlow 1.x와 Tensorflow 2.0의 주요 차이점\\r\\nTensorFlow 2.0에서 인공 신경망을 구현하는 법\\r\\nTensorFlow 2.0에서 CNN을 구현하는 법\\r\\nTensorFlow 2.0에서 RNN을 구현하는 법\\r\\nTensorFlow 2.0으로 자신만의 전이 학습 애플리케이션을 구축하는 법\\r\\n강화학습(Deep Q-Learning) 모델을 통해 주식 거래 봇을 만드는 방법\\r\\nTensorFlow 2.0에서 머신러닝 데이터 파이프라인을 구축하는 법\\r\\nTensorflow 변환을 사용하여 데이터 유효성 검사 및 데이터셋 전처리를 수행하는 법\\r\\nTensorFlow 2.0로 구현한 모델을 실제 서비스에서 운영하는 법\\r\\n더 보기',\n",
       "  '언어': '한국어',\n",
       "  '출처': 'https://www.udemy.com/course/best-keras-api-tensorflow-20/'},\n",
       " {'Unnamed: 0': 738,\n",
       "  '대분류': 'web-development',\n",
       "  '소분류': 'Docker',\n",
       "  '강의명': 'Learn Docker with .Net Core For Absolute Beginners',\n",
       "  '난이도': '초급자',\n",
       "  '가격(현재가격)': 19000,\n",
       "  '총소요시간': '1시간',\n",
       "  '강의소개': '배울 내용\\r\\nLearn all the essentials of Docker (Docker Files , Images , Containers)\\r\\nUnderstand Containerization\\r\\nBuild .Net Core App with Docker\\r\\nBuild Docker Images\\r\\nRun Docker Container\\r\\nPush Docker Image To Docker Hub\\r\\nDeploy Docker Image To Microsoft Azure Container Instance\\r\\nPull Docker Image inside another machine',\n",
       "  '언어': '영어',\n",
       "  '출처': 'https://www.udemy.com/course/learn-docker-with-net-core-for-absolute-beginners/'}]"
      ]
     },
     "execution_count": 5,
     "metadata": {},
     "output_type": "execute_result"
    }
   ],
   "source": [
    "index_sorted = list(index_score_dict.keys())\n",
    "list(map(lambda x: udemy_pd.loc[x].to_dict(), index_sorted[0:5]))"
   ]
  }
 ],
 "metadata": {
  "kernelspec": {
   "display_name": "webc",
   "language": "python",
   "name": "python3"
  },
  "language_info": {
   "codemirror_mode": {
    "name": "ipython",
    "version": 3
   },
   "file_extension": ".py",
   "mimetype": "text/x-python",
   "name": "python",
   "nbconvert_exporter": "python",
   "pygments_lexer": "ipython3",
   "version": "3.10.12"
  },
  "orig_nbformat": 4,
  "vscode": {
   "interpreter": {
    "hash": "3935845f948549943e2f5f17a3c246e79ebff7d3d327e796805a708e44123008"
   }
  }
 },
 "nbformat": 4,
 "nbformat_minor": 2
}
