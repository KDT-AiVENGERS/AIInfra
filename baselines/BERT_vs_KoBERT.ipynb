{
 "cells": [
  {
   "cell_type": "code",
   "execution_count": 1,
   "metadata": {},
   "outputs": [
    {
     "name": "stderr",
     "output_type": "stream",
     "text": [
      "/Users/tglim/miniforge3/envs/aiinfra/lib/python3.10/site-packages/tqdm/auto.py:21: TqdmWarning: IProgress not found. Please update jupyter and ipywidgets. See https://ipywidgets.readthedocs.io/en/stable/user_install.html\n",
      "  from .autonotebook import tqdm as notebook_tqdm\n"
     ]
    }
   ],
   "source": [
    "import torch\n",
    "from transformers import AutoTokenizer, BertForMaskedLM, LongformerForMaskedLM\n",
    "import numpy as np"
   ]
  },
  {
   "cell_type": "markdown",
   "metadata": {},
   "source": [
    "# 1. BERT"
   ]
  },
  {
   "cell_type": "code",
   "execution_count": 2,
   "metadata": {},
   "outputs": [
    {
     "name": "stderr",
     "output_type": "stream",
     "text": [
      "Some weights of the model checkpoint at bert-base-multilingual-cased were not used when initializing BertForMaskedLM: ['cls.seq_relationship.bias', 'cls.seq_relationship.weight']\n",
      "- This IS expected if you are initializing BertForMaskedLM from the checkpoint of a model trained on another task or with another architecture (e.g. initializing a BertForSequenceClassification model from a BertForPreTraining model).\n",
      "- This IS NOT expected if you are initializing BertForMaskedLM from the checkpoint of a model that you expect to be exactly identical (initializing a BertForSequenceClassification model from a BertForSequenceClassification model).\n"
     ]
    }
   ],
   "source": [
    "tokenizer = AutoTokenizer.from_pretrained('bert-base-multilingual-cased')\n",
    "model = BertForMaskedLM.from_pretrained('bert-base-multilingual-cased')"
   ]
  },
  {
   "cell_type": "code",
   "execution_count": 3,
   "metadata": {},
   "outputs": [],
   "source": [
    "inputs = tokenizer([\n",
    "    'The capital of France is Paris.',\n",
    "    'The capital of France is Paris.',\n",
    "    'The capital of France is Paris.',\n",
    "    '우리나라의 수도는 Seoul 이다.',\n",
    "    '강남에는 외국인이 많이 보인다.',\n",
    "    'Javascript 는 웹개발에 필수적인 programming 언어이다.',\n",
    "    '나 오늘 미용실에 다녀와서 기분이 좋아. 다음엔 너도 같이 가자.',\n",
    "    '가끔 ㅇㅗ타가 날 수 이ㅆ지만 너른 마음으로 양해바랍니다.',\n",
    "    '당신 혹시 React.js 와 Node.js 라는 프레임워크에 대해 잘 알아요?',\n",
    "], return_tensors='pt', padding=True)\n",
    "\n",
    "for tokens in inputs.input_ids:\n",
    "    token_len = 0\n",
    "    for token in tokens:\n",
    "        if token != tokenizer.pad_token_id:\n",
    "            token_len += 1\n",
    "            continue\n",
    "        break\n",
    "    tokens[np.random.randint(1, token_len - 2)] = tokenizer.mask_token_id\n",
    "\n",
    "with torch.inference_mode():\n",
    "    logits = model(**inputs).logits\n",
    "\n",
    "sentence_index, mask_token_index = (inputs.input_ids == tokenizer.mask_token_id).nonzero(as_tuple=True)\n",
    "\n",
    "predicted_token_id = []\n",
    "for index, sentence in enumerate(sentence_index):\n",
    "    if sentence >= len(predicted_token_id):\n",
    "        predicted_token_id.append([])\n",
    "\n",
    "    predicted_token_id[-1].append(tokenizer.decode(logits[sentence, mask_token_index[index]].argmax(axis=-1)))"
   ]
  },
  {
   "cell_type": "code",
   "execution_count": 4,
   "metadata": {},
   "outputs": [
    {
     "data": {
      "text/plain": [
       "['[CLS] The capital of [MASK] is Paris. [SEP] [PAD] [PAD] [PAD] [PAD] [PAD] [PAD] [PAD] [PAD] [PAD] [PAD] [PAD] [PAD] [PAD] [PAD] [PAD] [PAD] [PAD] [PAD] [PAD] [PAD] [PAD]',\n",
       " '[CLS] The capital of France is [MASK]. [SEP] [PAD] [PAD] [PAD] [PAD] [PAD] [PAD] [PAD] [PAD] [PAD] [PAD] [PAD] [PAD] [PAD] [PAD] [PAD] [PAD] [PAD] [PAD] [PAD] [PAD] [PAD]',\n",
       " '[CLS] The capital of France is [MASK]. [SEP] [PAD] [PAD] [PAD] [PAD] [PAD] [PAD] [PAD] [PAD] [PAD] [PAD] [PAD] [PAD] [PAD] [PAD] [PAD] [PAD] [PAD] [PAD] [PAD] [PAD] [PAD]',\n",
       " '[CLS] 우리나라의 수도는 Seoul [MASK]. [SEP] [PAD] [PAD] [PAD] [PAD] [PAD] [PAD] [PAD] [PAD] [PAD] [PAD] [PAD] [PAD] [PAD] [PAD] [PAD] [PAD] [PAD] [PAD] [PAD]',\n",
       " '[CLS] 강남에는 외 [MASK]인이 많이 보인다. [SEP] [PAD] [PAD] [PAD] [PAD] [PAD] [PAD] [PAD] [PAD] [PAD] [PAD] [PAD] [PAD] [PAD] [PAD] [PAD] [PAD] [PAD] [PAD] [PAD]',\n",
       " '[CLS] Java [MASK]ript 는 웹개발에 필수적인 programming 언어이다. [SEP] [PAD] [PAD] [PAD] [PAD] [PAD] [PAD] [PAD] [PAD] [PAD] [PAD] [PAD] [PAD]',\n",
       " '[CLS] 나 오늘 미 [MASK]실에 다녀와서 기분이 좋아. 다음엔 너도 같이 가자. [SEP] [PAD] [PAD] [PAD]',\n",
       " '[CLS] 가끔 [UNK] 날 수 [UNK] [MASK]른 마음으로 양해바랍니다. [SEP] [PAD] [PAD] [PAD] [PAD] [PAD] [PAD] [PAD] [PAD] [PAD] [PAD] [PAD]',\n",
       " '[CLS] 당신 혹시 React. js 와 Node. js 라는 프레 [MASK]워크에 대해 잘 알아요? [SEP]']"
      ]
     },
     "execution_count": 4,
     "metadata": {},
     "output_type": "execute_result"
    }
   ],
   "source": [
    "tokenizer.batch_decode(inputs.input_ids)"
   ]
  },
  {
   "cell_type": "code",
   "execution_count": 5,
   "metadata": {},
   "outputs": [
    {
     "name": "stdout",
     "output_type": "stream",
     "text": [
      "torch.Size([9, 30, 119547])\n",
      "tensor([0, 1, 2, 3, 4, 5, 6, 7, 8]) tensor([ 4,  6,  6,  8,  5,  2,  5,  7, 19])\n",
      "[['France'], ['Paris'], ['Paris'], ['##이다'], ['##국'], ['##sc'], ['##사'], ['푸'], ['##임']]\n"
     ]
    }
   ],
   "source": [
    "print(logits.shape)\n",
    "print(sentence_index, mask_token_index)\n",
    "print(predicted_token_id)"
   ]
  },
  {
   "cell_type": "code",
   "execution_count": 6,
   "metadata": {},
   "outputs": [],
   "source": [
    "labels = tokenizer([\n",
    "    'The capital of France is Paris.',\n",
    "    'The capital of France is Paris.',\n",
    "    'The capital of France is Paris.',\n",
    "    '우리나라의 수도는 Seoul 이다.',\n",
    "    '강남에는 외국인이 많이 보인다.',\n",
    "    'Javascript 는 웹개발에 필수적인 programming 언어이다.',\n",
    "    '나 오늘 미용실에 다녀와서 기분이 좋아. 다음엔 너도 같이 가자.',\n",
    "    '가끔 ㅇㅗ타가 날 수 이ㅆ지만 너른 마음으로 양해바랍니다.',\n",
    "    '당신 혹시 React.js 와 Node.js 라는 프레임워크에 대해 잘 알아요?',\n",
    "], return_tensors='pt', padding=True)['input_ids']\n",
    "\n",
    "labels = torch.where(inputs.input_ids == tokenizer.mask_token_id, labels, -100)\n",
    "\n",
    "outputs = model(**inputs, labels=labels)"
   ]
  },
  {
   "cell_type": "code",
   "execution_count": 7,
   "metadata": {},
   "outputs": [
    {
     "name": "stdout",
     "output_type": "stream",
     "text": [
      "torch.Size([9, 30])\n",
      "tensor(2.6566, grad_fn=<NllLossBackward0>)\n"
     ]
    }
   ],
   "source": [
    "print(labels.shape)\n",
    "print(outputs.loss)"
   ]
  },
  {
   "cell_type": "markdown",
   "metadata": {},
   "source": [
    "# 2. KoBERT"
   ]
  },
  {
   "cell_type": "code",
   "execution_count": 8,
   "metadata": {},
   "outputs": [
    {
     "name": "stderr",
     "output_type": "stream",
     "text": [
      "The tokenizer class you load from this checkpoint is not the same type as the class this function is called from. It may result in unexpected tokenization. \n",
      "The tokenizer class you load from this checkpoint is 'XLNetTokenizer'. \n",
      "The class this function is called from is 'KoBERTTokenizer'.\n",
      "Some weights of BertForMaskedLM were not initialized from the model checkpoint at skt/kobert-base-v1 and are newly initialized: ['cls.predictions.transform.dense.bias', 'cls.predictions.transform.LayerNorm.bias', 'cls.predictions.transform.dense.weight', 'cls.predictions.transform.LayerNorm.weight', 'cls.predictions.bias']\n",
      "You should probably TRAIN this model on a down-stream task to be able to use it for predictions and inference.\n"
     ]
    }
   ],
   "source": [
    "from kobert_tokenizer import KoBERTTokenizer\n",
    "\n",
    "tokenizer = KoBERTTokenizer.from_pretrained('skt/kobert-base-v1')\n",
    "model = BertForMaskedLM.from_pretrained('skt/kobert-base-v1')"
   ]
  },
  {
   "cell_type": "code",
   "execution_count": 9,
   "metadata": {},
   "outputs": [],
   "source": [
    "inputs = tokenizer([\n",
    "    'The capital of France is Paris.',\n",
    "    'The capital of France is Paris.',\n",
    "    'The capital of France is Paris.',\n",
    "    '우리나라의 수도는 Seoul 이다.',\n",
    "    '강남에는 외국인이 많이 보인다.',\n",
    "    'Javascript 는 웹개발에 필수적인 programming 언어이다.',\n",
    "    '나 오늘 미용실에 다녀와서 기분이 좋아. 다음엔 너도 같이 가자.',\n",
    "    '가끔 ㅇㅗ타가 날 수 이ㅆ지만 너른 마음으로 양해바랍니다.',\n",
    "    '당신 혹시 React.js 와 Node.js 라는 프레임워크에 대해 잘 알아요?',\n",
    "], return_tensors='pt', padding=True)\n",
    "\n",
    "for tokens in inputs.input_ids:\n",
    "    token_len = 0\n",
    "    for token in tokens:\n",
    "        if token != tokenizer.pad_token_id:\n",
    "            token_len += 1\n",
    "            continue\n",
    "        break\n",
    "    tokens[np.random.randint(1, token_len - 2)] = tokenizer.mask_token_id\n",
    "\n",
    "with torch.inference_mode():\n",
    "    logits = model(**inputs).logits\n",
    "\n",
    "sentence_index, mask_token_index = (inputs.input_ids == tokenizer.mask_token_id).nonzero(as_tuple=True)\n",
    "\n",
    "predicted_token_id = []\n",
    "for index, sentence in enumerate(sentence_index):\n",
    "    if sentence >= len(predicted_token_id):\n",
    "        predicted_token_id.append([])\n",
    "\n",
    "    predicted_token_id[-1].append(tokenizer.decode(logits[sentence, mask_token_index[index]].argmax(axis=-1)))"
   ]
  },
  {
   "cell_type": "code",
   "execution_count": 10,
   "metadata": {},
   "outputs": [
    {
     "data": {
      "text/plain": [
       "['[CLS] The capital of Fr[MASK]ce is Paris.[SEP][PAD][PAD][PAD][PAD][PAD][PAD][PAD][PAD][PAD][PAD][PAD][PAD][PAD][PAD][PAD][PAD]',\n",
       " '[CLS] [MASK] capital of France is Paris.[SEP][PAD][PAD][PAD][PAD][PAD][PAD][PAD][PAD][PAD][PAD][PAD][PAD][PAD][PAD][PAD][PAD]',\n",
       " '[CLS] The capit[MASK] of France is Paris.[SEP][PAD][PAD][PAD][PAD][PAD][PAD][PAD][PAD][PAD][PAD][PAD][PAD][PAD][PAD][PAD][PAD]',\n",
       " '[CLS] 우리나라의[MASK]는 Seoul 이다.[SEP][PAD][PAD][PAD][PAD][PAD][PAD][PAD][PAD][PAD][PAD][PAD][PAD][PAD][PAD][PAD][PAD][PAD][PAD][PAD][PAD][PAD][PAD][PAD][PAD]',\n",
       " '[CLS][MASK]에는 외국인이 많이 보인다.[SEP][PAD][PAD][PAD][PAD][PAD][PAD][PAD][PAD][PAD][PAD][PAD][PAD][PAD][PAD][PAD][PAD][PAD][PAD][PAD][PAD][PAD][PAD][PAD][PAD][PAD][PAD][PAD][PAD]',\n",
       " '[CLS] Javascript 는 웹개발에 필수적인 pro[MASK]ramming 언어이다.[SEP][PAD][PAD][PAD][PAD][PAD][PAD][PAD][PAD][PAD]',\n",
       " '[CLS] 나 오늘 미용실에 다녀와서 기분이 좋아. 다음[MASK] 너도 같이 가자.[SEP][PAD][PAD][PAD][PAD][PAD][PAD][PAD][PAD][PAD][PAD][PAD][PAD][PAD]',\n",
       " '[CLS] [MASK]끔 오타가 날 수 이[UNK]지만 너른 마음으로 양해바랍니다.[SEP][PAD][PAD][PAD][PAD][PAD][PAD][PAD][PAD][PAD][PAD][PAD][PAD][PAD][PAD]',\n",
       " '[CLS] 당신 혹시 React.js 와 No[MASK]e.js 라는 프레임워크에 대해 잘 알아요?[SEP]']"
      ]
     },
     "execution_count": 10,
     "metadata": {},
     "output_type": "execute_result"
    }
   ],
   "source": [
    "tokenizer.batch_decode(inputs.input_ids)"
   ]
  },
  {
   "cell_type": "code",
   "execution_count": 11,
   "metadata": {},
   "outputs": [
    {
     "name": "stdout",
     "output_type": "stream",
     "text": [
      "torch.Size([9, 37, 8002])\n",
      "tensor([0, 1, 2, 3, 4, 5, 6, 7, 8]) tensor([11,  2,  7,  3,  1, 19, 15,  2, 17])\n",
      "[['쑤'], ['컵'], ['뜯'], ['보이'], ['잣'], ['크로스'], ['텁'], ['캡'], ['빠']]\n"
     ]
    }
   ],
   "source": [
    "print(logits.shape)\n",
    "print(sentence_index, mask_token_index)\n",
    "print(predicted_token_id)"
   ]
  },
  {
   "cell_type": "code",
   "execution_count": 12,
   "metadata": {},
   "outputs": [],
   "source": [
    "labels = tokenizer([\n",
    "    'The capital of France is Paris.',\n",
    "    'The capital of France is Paris.',\n",
    "    'The capital of France is Paris.',\n",
    "    '우리나라의 수도는 Seoul 이다.',\n",
    "    '강남에는 외국인이 많이 보인다.',\n",
    "    'Javascript 는 웹개발에 필수적인 programming 언어이다.',\n",
    "    '나 오늘 미용실에 다녀와서 기분이 좋아. 다음엔 너도 같이 가자.',\n",
    "    '가끔 ㅇㅗ타가 날 수 이ㅆ지만 너른 마음으로 양해바랍니다.',\n",
    "    '당신 혹시 React.js 와 Node.js 라는 프레임워크에 대해 잘 알아요?',\n",
    "], return_tensors='pt', padding=True)['input_ids']\n",
    "\n",
    "labels = torch.where(inputs.input_ids == tokenizer.mask_token_id, labels, -100)\n",
    "\n",
    "outputs = model(**inputs, labels=labels)"
   ]
  },
  {
   "cell_type": "code",
   "execution_count": 13,
   "metadata": {},
   "outputs": [
    {
     "name": "stdout",
     "output_type": "stream",
     "text": [
      "torch.Size([9, 37])\n",
      "tensor(10.9358, grad_fn=<NllLossBackward0>)\n"
     ]
    }
   ],
   "source": [
    "print(labels.shape)\n",
    "print(outputs.loss)"
   ]
  },
  {
   "cell_type": "markdown",
   "metadata": {},
   "source": [
    "# 3. LongFormer\n",
    "* requirement: pip protobuf 버전 3.20.0 ~ 3.20.3"
   ]
  },
  {
   "cell_type": "code",
   "execution_count": 2,
   "metadata": {},
   "outputs": [
    {
     "name": "stderr",
     "output_type": "stream",
     "text": [
      "Some weights of the model checkpoint at AshtonIsNotHere/xlm-roberta-long-base-4096 were not used when initializing LongformerForMaskedLM: ['longformer.embeddings.position_ids']\n",
      "- This IS expected if you are initializing LongformerForMaskedLM from the checkpoint of a model trained on another task or with another architecture (e.g. initializing a BertForSequenceClassification model from a BertForPreTraining model).\n",
      "- This IS NOT expected if you are initializing LongformerForMaskedLM from the checkpoint of a model that you expect to be exactly identical (initializing a BertForSequenceClassification model from a BertForSequenceClassification model).\n"
     ]
    }
   ],
   "source": [
    "MAX_SEQUENCE_LENGTH = 4096\n",
    "\n",
    "tokenizer = AutoTokenizer.from_pretrained(\n",
    "    'AshtonIsNotHere/xlm-roberta-long-base-4096',\n",
    "    max_length=MAX_SEQUENCE_LENGTH,\n",
    "    padding=\"max_length\",\n",
    "    truncation=True,\n",
    ")\n",
    "model = LongformerForMaskedLM.from_pretrained(\n",
    "    'AshtonIsNotHere/xlm-roberta-long-base-4096',\n",
    "    max_length=MAX_SEQUENCE_LENGTH\n",
    ")"
   ]
  },
  {
   "cell_type": "code",
   "execution_count": 3,
   "metadata": {},
   "outputs": [],
   "source": [
    "inputs = tokenizer([\n",
    "    'The capital of France is Paris.',\n",
    "    'The capital of France is Paris.',\n",
    "    'The capital of France is Paris.',\n",
    "    '우리나라의 수도는 Seoul 이다.',\n",
    "    '강남에는 외국인이 많이 보인다.',\n",
    "    'Javascript 는 웹개발에 필수적인 programming 언어이다.',\n",
    "    '나 오늘 미용실에 다녀와서 기분이 좋아. 다음엔 너도 같이 가자.',\n",
    "    '가끔 ㅇㅗ타가 날 수 이ㅆ지만 너른 마음으로 양해바랍니다.',\n",
    "    '당신 혹시 React.js 와 Node.js 라는 프레임워크에 대해 잘 알아요?',\n",
    "], return_tensors='pt', padding=True)\n",
    "\n",
    "for tokens in inputs.input_ids:\n",
    "    token_len = 0\n",
    "    for token in tokens:\n",
    "        if token != tokenizer.pad_token_id:\n",
    "            token_len += 1\n",
    "            continue\n",
    "        break\n",
    "    tokens[np.random.randint(1, token_len - 2)] = tokenizer.mask_token_id\n",
    "\n",
    "with torch.inference_mode():\n",
    "    logits = model(**inputs).logits\n",
    "\n",
    "sentence_index, mask_token_index = (inputs.input_ids == tokenizer.mask_token_id).nonzero(as_tuple=True)\n",
    "\n",
    "predicted_token_id = []\n",
    "for index, sentence in enumerate(sentence_index):\n",
    "    if sentence >= len(predicted_token_id):\n",
    "        predicted_token_id.append([])\n",
    "\n",
    "    predicted_token_id[-1].append(tokenizer.decode(logits[sentence, mask_token_index[index]].argmax(axis=-1)))"
   ]
  },
  {
   "cell_type": "code",
   "execution_count": 4,
   "metadata": {},
   "outputs": [
    {
     "data": {
      "text/plain": [
       "['<s> The capital<mask> France is Paris.</s><pad><pad><pad><pad><pad><pad><pad><pad><pad><pad><pad><pad><pad><pad>',\n",
       " '<s><mask> capital of France is Paris.</s><pad><pad><pad><pad><pad><pad><pad><pad><pad><pad><pad><pad><pad><pad>',\n",
       " '<s> The capital of<mask> is Paris.</s><pad><pad><pad><pad><pad><pad><pad><pad><pad><pad><pad><pad><pad><pad>',\n",
       " '<s> 우리나라의 수도는<mask> 이다.</s><pad><pad><pad><pad><pad><pad><pad><pad><pad><pad><pad><pad><pad>',\n",
       " '<s> 강남<mask> 외국인이 많이 보인다.</s><pad><pad><pad><pad><pad><pad><pad><pad><pad><pad><pad><pad><pad><pad>',\n",
       " '<s> Javascript 는 웹개발에 필수적인<mask>ng 언어이다.</s><pad><pad><pad><pad><pad><pad><pad><pad>',\n",
       " '<s> 나 오늘 미용실에 다녀와서 기분이 좋아. 다음<mask> 너도 같이 가자.</s>',\n",
       " '<s> 가끔 오타가 날 수 이ᄊ지만 너른 마음<mask> 양해바랍니다.</s><pad>',\n",
       " '<s> 당신 혹시 React.js 와 Node.js<mask>라는 프레임워크에 대해 잘 알아요?</s>']"
      ]
     },
     "execution_count": 4,
     "metadata": {},
     "output_type": "execute_result"
    }
   ],
   "source": [
    "tokenizer.batch_decode(inputs.input_ids)"
   ]
  },
  {
   "cell_type": "code",
   "execution_count": 5,
   "metadata": {},
   "outputs": [
    {
     "name": "stdout",
     "output_type": "stream",
     "text": [
      "torch.Size([9, 23, 250002])\n",
      "tensor([0, 1, 2, 3, 4, 5, 6, 7, 8]) tensor([ 3,  1,  4,  5,  2,  9, 15, 15, 12])\n",
      "[['of'], ['The'], ['France'], ['서울'], ['에서는'], ['programmi'], ['에'], ['으로'], ['']]\n"
     ]
    }
   ],
   "source": [
    "print(logits.shape)\n",
    "print(sentence_index, mask_token_index)\n",
    "print(predicted_token_id)"
   ]
  },
  {
   "cell_type": "code",
   "execution_count": 6,
   "metadata": {},
   "outputs": [],
   "source": [
    "labels = tokenizer([\n",
    "    'The capital of France is Paris.',\n",
    "    'The capital of France is Paris.',\n",
    "    'The capital of France is Paris.',\n",
    "    '우리나라의 수도는 Seoul 이다.',\n",
    "    '강남에는 외국인이 많이 보인다.',\n",
    "    'Javascript 는 웹개발에 필수적인 programming 언어이다.',\n",
    "    '나 오늘 미용실에 다녀와서 기분이 좋아. 다음엔 너도 같이 가자.',\n",
    "    '가끔 ㅇㅗ타가 날 수 이ㅆ지만 너른 마음으로 양해바랍니다.',\n",
    "    '당신 혹시 React.js 와 Node.js 라는 프레임워크에 대해 잘 알아요?',\n",
    "], return_tensors='pt', padding=True)['input_ids']\n",
    "\n",
    "labels = torch.where(inputs.input_ids == tokenizer.mask_token_id, labels, -100)\n",
    "\n",
    "outputs = model(**inputs, labels=labels)"
   ]
  },
  {
   "cell_type": "code",
   "execution_count": 7,
   "metadata": {},
   "outputs": [
    {
     "name": "stdout",
     "output_type": "stream",
     "text": [
      "torch.Size([9, 23])\n",
      "tensor(1.3794, grad_fn=<NllLossBackward0>)\n"
     ]
    }
   ],
   "source": [
    "print(labels.shape)\n",
    "print(outputs.loss)"
   ]
  },
  {
   "cell_type": "markdown",
   "metadata": {},
   "source": [
    "# test for adding tokens to dictionary"
   ]
  },
  {
   "cell_type": "code",
   "execution_count": null,
   "metadata": {},
   "outputs": [],
   "source": [
    "# tokenizer.add_tokens('React')\n",
    "# newEmbedding = model.get_input_embeddings()\n",
    "# newEmbedding.weight.dtype\n",
    "# newEmbedding.weight = torch.nn.Parameter(torch.concat([newEmbedding.weight, torch.zeros((1, 768))], dim=0))\n",
    "# model.set_input_embeddings(newEmbedding)\n",
    "# newEmbedding"
   ]
  }
 ],
 "metadata": {
  "kernelspec": {
   "display_name": "aiinfra",
   "language": "python",
   "name": "python3"
  },
  "language_info": {
   "codemirror_mode": {
    "name": "ipython",
    "version": 3
   },
   "file_extension": ".py",
   "mimetype": "text/x-python",
   "name": "python",
   "nbconvert_exporter": "python",
   "pygments_lexer": "ipython3",
   "version": "3.10.12"
  },
  "orig_nbformat": 4
 },
 "nbformat": 4,
 "nbformat_minor": 2
}
