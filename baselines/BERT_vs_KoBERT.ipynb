{
 "cells": [
  {
   "cell_type": "code",
   "execution_count": 3,
   "metadata": {},
   "outputs": [],
   "source": [
    "import torch\n",
    "from transformers import AutoTokenizer, BertForMaskedLM\n",
    "import numpy as np"
   ]
  },
  {
   "cell_type": "markdown",
   "metadata": {},
   "source": [
    "# 1. BERT"
   ]
  },
  {
   "cell_type": "code",
   "execution_count": 2,
   "metadata": {},
   "outputs": [
    {
     "name": "stderr",
     "output_type": "stream",
     "text": [
      "Some weights of the model checkpoint at bert-base-multilingual-cased were not used when initializing BertForMaskedLM: ['cls.seq_relationship.bias', 'cls.seq_relationship.weight']\n",
      "- This IS expected if you are initializing BertForMaskedLM from the checkpoint of a model trained on another task or with another architecture (e.g. initializing a BertForSequenceClassification model from a BertForPreTraining model).\n",
      "- This IS NOT expected if you are initializing BertForMaskedLM from the checkpoint of a model that you expect to be exactly identical (initializing a BertForSequenceClassification model from a BertForSequenceClassification model).\n"
     ]
    }
   ],
   "source": [
    "tokenizer = AutoTokenizer.from_pretrained('bert-base-multilingual-cased')\n",
    "model = BertForMaskedLM.from_pretrained('bert-base-multilingual-cased')"
   ]
  },
  {
   "cell_type": "code",
   "execution_count": 10,
   "metadata": {},
   "outputs": [],
   "source": [
    "inputs = tokenizer([\n",
    "    'The capital of France is Paris.',\n",
    "    'The capital of France is Paris.',\n",
    "    'The capital of France is Paris.',\n",
    "    '우리나라의 수도는 Seoul 이다.',\n",
    "    '강남에는 외국인이 많이 보인다.',\n",
    "    'Javascript 는 웹개발에 필수적인 programming 언어이다.',\n",
    "    '나 오늘 미용실에 다녀와서 기분이 좋아. 다음엔 너도 같이 가자.',\n",
    "], return_tensors='pt', padding=True)\n",
    "\n",
    "for tokens in inputs.input_ids:\n",
    "    token_len = 0\n",
    "    for token in tokens:\n",
    "        if token != torch.tensor(0):\n",
    "            token_len += 1\n",
    "            continue\n",
    "        break\n",
    "    tokens[np.random.randint(1, token_len - 2)] = tokenizer.mask_token_id\n",
    "\n",
    "with torch.inference_mode():\n",
    "    logits = model(**inputs).logits\n",
    "\n",
    "sentence_index, mask_token_index = (inputs.input_ids == tokenizer.mask_token_id).nonzero(as_tuple=True)\n",
    "\n",
    "predicted_token_id = []\n",
    "for index, sentence in enumerate(sentence_index):\n",
    "    if sentence >= len(predicted_token_id):\n",
    "        predicted_token_id.append([])\n",
    "\n",
    "    predicted_token_id[-1].append(tokenizer.decode(logits[sentence, mask_token_index[index]].argmax(axis=-1)))"
   ]
  },
  {
   "cell_type": "code",
   "execution_count": 11,
   "metadata": {},
   "outputs": [
    {
     "data": {
      "text/plain": [
       "['[CLS] The capital of [MASK] is Paris. [SEP] [PAD] [PAD] [PAD] [PAD] [PAD] [PAD] [PAD] [PAD] [PAD] [PAD] [PAD] [PAD] [PAD] [PAD] [PAD] [PAD] [PAD] [PAD]',\n",
       " '[CLS] The capital of France [MASK] Paris. [SEP] [PAD] [PAD] [PAD] [PAD] [PAD] [PAD] [PAD] [PAD] [PAD] [PAD] [PAD] [PAD] [PAD] [PAD] [PAD] [PAD] [PAD] [PAD]',\n",
       " '[CLS] The capital [MASK] France is Paris. [SEP] [PAD] [PAD] [PAD] [PAD] [PAD] [PAD] [PAD] [PAD] [PAD] [PAD] [PAD] [PAD] [PAD] [PAD] [PAD] [PAD] [PAD] [PAD]',\n",
       " '[CLS] 우 [MASK]나라의 수도는 Seoul 이다. [SEP] [PAD] [PAD] [PAD] [PAD] [PAD] [PAD] [PAD] [PAD] [PAD] [PAD] [PAD] [PAD] [PAD] [PAD] [PAD] [PAD]',\n",
       " '[CLS] 강남에는 외국 [MASK] 많이 보인다. [SEP] [PAD] [PAD] [PAD] [PAD] [PAD] [PAD] [PAD] [PAD] [PAD] [PAD] [PAD] [PAD] [PAD] [PAD] [PAD] [PAD]',\n",
       " '[CLS] Javascript 는 웹개발에 필수적인 programming [MASK]어이다. [SEP] [PAD] [PAD] [PAD] [PAD] [PAD] [PAD] [PAD] [PAD] [PAD]',\n",
       " '[CLS] 나 오늘 미용실에 다녀와서 기분이 좋아. 다음엔 너도 [MASK] 가자. [SEP]']"
      ]
     },
     "execution_count": 11,
     "metadata": {},
     "output_type": "execute_result"
    }
   ],
   "source": [
    "tokenizer.batch_decode(inputs.input_ids)"
   ]
  },
  {
   "cell_type": "code",
   "execution_count": 12,
   "metadata": {},
   "outputs": [
    {
     "name": "stdout",
     "output_type": "stream",
     "text": [
      "torch.Size([7, 27, 119547])\n",
      "tensor([0, 1, 2, 3, 4, 5, 6]) tensor([ 4,  5,  3,  2,  6, 13, 22])\n",
      "[['France'], ['is'], ['of'], ['##리'], ['##이'], ['언'], ['함께']]\n"
     ]
    }
   ],
   "source": [
    "print(logits.shape)\n",
    "print(sentence_index, mask_token_index)\n",
    "print(predicted_token_id)"
   ]
  },
  {
   "cell_type": "code",
   "execution_count": 13,
   "metadata": {},
   "outputs": [],
   "source": [
    "labels = tokenizer([\n",
    "    'The capital of France is Paris.',\n",
    "    'The capital of France is Paris.',\n",
    "    'The capital of France is Paris.',\n",
    "    '우리나라의 수도는 Seoul 이다.',\n",
    "    '강남에는 외국인이 많이 보인다.',\n",
    "    'Javascript 는 웹개발에 필수적인 programming 언어이다.',\n",
    "    '나 오늘 미용실에 다녀와서 기분이 좋아. 다음엔 너도 같이 가자.',\n",
    "], return_tensors='pt', padding=True)['input_ids']\n",
    "\n",
    "labels = torch.where(inputs.input_ids == tokenizer.mask_token_id, labels, -100)\n",
    "\n",
    "outputs = model(**inputs, labels=labels)"
   ]
  },
  {
   "cell_type": "code",
   "execution_count": 15,
   "metadata": {},
   "outputs": [
    {
     "name": "stdout",
     "output_type": "stream",
     "text": [
      "torch.Size([7, 27])\n",
      "tensor(1.4978, grad_fn=<NllLossBackward0>)\n"
     ]
    }
   ],
   "source": [
    "print(labels.shape)\n",
    "print(outputs.loss)"
   ]
  },
  {
   "cell_type": "markdown",
   "metadata": {},
   "source": [
    "# 2. KoBERT"
   ]
  },
  {
   "cell_type": "code",
   "execution_count": 16,
   "metadata": {},
   "outputs": [
    {
     "name": "stderr",
     "output_type": "stream",
     "text": [
      "The tokenizer class you load from this checkpoint is not the same type as the class this function is called from. It may result in unexpected tokenization. \n",
      "The tokenizer class you load from this checkpoint is 'XLNetTokenizer'. \n",
      "The class this function is called from is 'KoBERTTokenizer'.\n",
      "Some weights of BertForMaskedLM were not initialized from the model checkpoint at skt/kobert-base-v1 and are newly initialized: ['cls.predictions.bias', 'cls.predictions.transform.dense.bias', 'cls.predictions.transform.LayerNorm.bias', 'cls.predictions.transform.dense.weight', 'cls.predictions.transform.LayerNorm.weight']\n",
      "You should probably TRAIN this model on a down-stream task to be able to use it for predictions and inference.\n"
     ]
    }
   ],
   "source": [
    "from kobert_tokenizer import KoBERTTokenizer\n",
    "\n",
    "tokenizer = KoBERTTokenizer.from_pretrained('skt/kobert-base-v1')\n",
    "model = BertForMaskedLM.from_pretrained('skt/kobert-base-v1')"
   ]
  },
  {
   "cell_type": "code",
   "execution_count": 17,
   "metadata": {},
   "outputs": [],
   "source": [
    "inputs = tokenizer([\n",
    "    'The capital of France is Paris.',\n",
    "    'The capital of France is Paris.',\n",
    "    'The capital of France is Paris.',\n",
    "    '우리나라의 수도는 Seoul 이다.',\n",
    "    '강남에는 외국인이 많이 보인다.',\n",
    "    'Javascript 는 웹개발에 필수적인 programming 언어이다.',\n",
    "    '나 오늘 미용실에 다녀와서 기분이 좋아. 다음엔 너도 같이 가자.',\n",
    "], return_tensors='pt', padding=True)\n",
    "\n",
    "for tokens in inputs.input_ids:\n",
    "    token_len = 0\n",
    "    for token in tokens:\n",
    "        if token != torch.tensor(0):\n",
    "            token_len += 1\n",
    "            continue\n",
    "        break\n",
    "    tokens[np.random.randint(1, token_len - 2)] = tokenizer.mask_token_id\n",
    "\n",
    "with torch.inference_mode():\n",
    "    logits = model(**inputs).logits\n",
    "\n",
    "sentence_index, mask_token_index = (inputs.input_ids == tokenizer.mask_token_id).nonzero(as_tuple=True)\n",
    "\n",
    "predicted_token_id = []\n",
    "for index, sentence in enumerate(sentence_index):\n",
    "    if sentence >= len(predicted_token_id):\n",
    "        predicted_token_id.append([])\n",
    "\n",
    "    predicted_token_id[-1].append(tokenizer.decode(logits[sentence, mask_token_index[index]].argmax(axis=-1)))"
   ]
  },
  {
   "cell_type": "code",
   "execution_count": 18,
   "metadata": {},
   "outputs": [
    {
     "data": {
      "text/plain": [
       "['[CLS] The capital of France is[MASK]aris.[SEP][PAD][PAD][PAD][PAD][PAD][PAD][PAD]',\n",
       " '[CLS] The c[MASK]pital of France is Paris.[SEP][PAD][PAD][PAD][PAD][PAD][PAD][PAD]',\n",
       " '[CLS] The capital[MASK] France is Paris.[SEP][PAD][PAD][PAD][PAD][PAD][PAD][PAD]',\n",
       " '[CLS] 우리나라의 수도[MASK] Seoul 이다.[SEP][PAD][PAD][PAD][PAD][PAD][PAD][PAD][PAD][PAD][PAD][PAD][PAD][PAD][PAD][PAD]',\n",
       " '[CLS] 강남에는 외국인이 많이 보인다.[SEP][PAD][PAD][PAD][PAD][PAD][PAD][PAD][MASK][PAD][PAD][PAD][PAD][PAD][PAD][PAD][PAD][PAD][PAD][PAD]',\n",
       " '[CLS] Javascript 는 웹개발에 필수적인 pro[MASK]ramming 언어이다.[SEP]',\n",
       " '[CLS] 나 오늘 미용실[MASK] 다녀와서 기분이 좋아. 다음엔 너도 같이 가자.[SEP][PAD][PAD][PAD][PAD]']"
      ]
     },
     "execution_count": 18,
     "metadata": {},
     "output_type": "execute_result"
    }
   ],
   "source": [
    "tokenizer.batch_decode(inputs.input_ids)"
   ]
  },
  {
   "cell_type": "code",
   "execution_count": 19,
   "metadata": {},
   "outputs": [
    {
     "name": "stdout",
     "output_type": "stream",
     "text": [
      "torch.Size([7, 28, 8002])\n",
      "tensor([0, 1, 2, 3, 4, 5, 6]) tensor([16,  4,  8,  4, 16, 19,  6])\n",
      "[['뻤'], ['총'], ['열애설'], ['깍'], ['불리는'], ['늘'], ['껑']]\n"
     ]
    }
   ],
   "source": [
    "print(logits.shape)\n",
    "print(sentence_index, mask_token_index)\n",
    "print(predicted_token_id)"
   ]
  },
  {
   "cell_type": "code",
   "execution_count": 20,
   "metadata": {},
   "outputs": [],
   "source": [
    "labels = tokenizer([\n",
    "    'The capital of France is Paris.',\n",
    "    'The capital of France is Paris.',\n",
    "    'The capital of France is Paris.',\n",
    "    '우리나라의 수도는 Seoul 이다.',\n",
    "    '강남에는 외국인이 많이 보인다.',\n",
    "    'Javascript 는 웹개발에 필수적인 programming 언어이다.',\n",
    "    '나 오늘 미용실에 다녀와서 기분이 좋아. 다음엔 너도 같이 가자.',\n",
    "], return_tensors='pt', padding=True)['input_ids']\n",
    "\n",
    "labels = torch.where(inputs.input_ids == tokenizer.mask_token_id, labels, -100)\n",
    "\n",
    "outputs = model(**inputs, labels=labels)"
   ]
  },
  {
   "cell_type": "code",
   "execution_count": 22,
   "metadata": {},
   "outputs": [
    {
     "name": "stdout",
     "output_type": "stream",
     "text": [
      "torch.Size([7, 28])\n",
      "tensor(11.6062, grad_fn=<NllLossBackward0>)\n"
     ]
    }
   ],
   "source": [
    "print(labels.shape)\n",
    "print(outputs.loss)"
   ]
  },
  {
   "cell_type": "code",
   "execution_count": null,
   "metadata": {},
   "outputs": [],
   "source": []
  }
 ],
 "metadata": {
  "kernelspec": {
   "display_name": "aiinfra",
   "language": "python",
   "name": "python3"
  },
  "language_info": {
   "codemirror_mode": {
    "name": "ipython",
    "version": 3
   },
   "file_extension": ".py",
   "mimetype": "text/x-python",
   "name": "python",
   "nbconvert_exporter": "python",
   "pygments_lexer": "ipython3",
   "version": "3.10.12"
  },
  "orig_nbformat": 4
 },
 "nbformat": 4,
 "nbformat_minor": 2
}
