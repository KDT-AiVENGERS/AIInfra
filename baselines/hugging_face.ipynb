{
 "cells": [
  {
   "attachments": {},
   "cell_type": "markdown",
   "metadata": {},
   "source": [
    "## Importing Modules\n",
    "\n",
    "필요한 모듈을 Import 합니다.\n"
   ]
  },
  {
   "cell_type": "code",
   "execution_count": 1,
   "metadata": {},
   "outputs": [
    {
     "name": "stderr",
     "output_type": "stream",
     "text": [
      "/opt/homebrew/Caskroom/miniconda/base/envs/jobVS_infra_test/lib/python3.11/site-packages/tqdm/auto.py:21: TqdmWarning: IProgress not found. Please update jupyter and ipywidgets. See https://ipywidgets.readthedocs.io/en/stable/user_install.html\n",
      "  from .autonotebook import tqdm as notebook_tqdm\n"
     ]
    }
   ],
   "source": [
    "# Modules About Hydra\n",
    "from hydra import initialize, initialize_config_module, initialize_config_dir, compose\n",
    "from omegaconf import DictConfig\n",
    "\n",
    "# Modules About Torch\n",
    "import torch\n",
    "import torch.nn.functional as F\n",
    "import torchmetrics\n",
    "from torch import nn\n",
    "from torch.utils.data import DataLoader\n",
    "from torchvision import datasets, transforms\n",
    "\n",
    "# Modules About Pytorch Lightning\n",
    "import pytorch_lightning as pl\n",
    "from pytorch_lightning import LightningModule, LightningDataModule\n",
    "from pytorch_lightning.loggers import TensorBoardLogger, WandbLogger\n",
    "\n",
    "# Modules About HuggingFace Transformers\n",
    "from transformers import ViTImageProcessor, ViTForImageClassification, AdamW\n"
   ]
  },
  {
   "attachments": {},
   "cell_type": "markdown",
   "metadata": {},
   "source": [
    "## Configure Dataset\n",
    "\n",
    "Custom Dataset을 구성합니다.\n",
    "Data_Module에 있는 CustomDataset을 불러옵니다.\n"
   ]
  },
  {
   "cell_type": "code",
   "execution_count": 2,
   "metadata": {},
   "outputs": [],
   "source": [
    "class MNISTDataModule(pl.LightningDataModule):\n",
    "    def __init__(self, batch_size: int = 64, data_dir: str = \"./\"):\n",
    "        super().__init__()\n",
    "        self.data_dir = data_dir\n",
    "        self.batch_size = batch_size\n",
    "        self.transform = transforms.Compose([\n",
    "            transforms.ToTensor(),\n",
    "            # transforms.Normalize((0.1307,), (0.3081,)),\n",
    "            # ViT expects 224x224 images\n",
    "            transforms.Resize((224, 224), antialias=True),\n",
    "            transforms.Lambda(self.repeat_channels)  # ViT expects 3 channels\n",
    "        ])\n",
    "\n",
    "    def repeat_channels(self, x):\n",
    "        return x.repeat(3, 1, 1)\n",
    "\n",
    "    def setup(self, stage=None):\n",
    "        self.mnist_train = datasets.MNIST(\n",
    "            self.data_dir, train=True, download=True, transform=self.transform\n",
    "        )\n",
    "        self.mnist_val = datasets.MNIST(\n",
    "            self.data_dir, train=False, download=True, transform=self.transform\n",
    "        )\n",
    "\n",
    "    def train_dataloader(self):\n",
    "        return DataLoader(self.mnist_train, batch_size=self.batch_size)\n",
    "\n",
    "    def val_dataloader(self):\n",
    "        return DataLoader(self.mnist_val, batch_size=self.batch_size)"
   ]
  },
  {
   "cell_type": "code",
   "execution_count": 3,
   "metadata": {},
   "outputs": [],
   "source": [
    "class MyModel(pl.LightningModule):\n",
    "    def __init__(self, config):\n",
    "        super(MyModel, self).__init__()\n",
    "        self.config = config\n",
    "        self.save_hyperparameters()\n",
    "        self.model = ViTForImageClassification.from_pretrained(\n",
    "            \"google/vit-base-patch16-224\")\n",
    "        self.feature_extractor = ViTImageProcessor.from_pretrained(\n",
    "            \"google/vit-base-patch16-224\")\n",
    "\n",
    "    def forward(self, pixel_values, labels=None):\n",
    "        output = self.model(pixel_values=pixel_values, labels=labels)\n",
    "        return output.loss, output.logits\n",
    "\n",
    "    def training_step(self, batch, batch_idx):\n",
    "        images, labels = batch\n",
    "        pixel_values = self.feature_extractor(\n",
    "            images=images, return_tensors=\"pt\").pixel_values\n",
    "        loss, logits = self(images, labels)\n",
    "        self.log(\"train_loss\", loss, prog_bar=True)\n",
    "        return loss\n",
    "\n",
    "    def validation_step(self, batch, batch_idx):\n",
    "        images, labels = batch\n",
    "        pixel_values = self.feature_extractor(\n",
    "            images=images, return_tensors=\"pt\").pixel_values\n",
    "        loss, logits = self(images, labels)\n",
    "        # loss.requires_grad_(True)\n",
    "        self.log('val_loss', loss, prog_bar=True)\n",
    "\n",
    "    def configure_optimizers(self):\n",
    "        return torch.optim.AdamW(self.parameters(), lr=2e-5)"
   ]
  },
  {
   "cell_type": "code",
   "execution_count": 4,
   "metadata": {},
   "outputs": [
    {
     "name": "stderr",
     "output_type": "stream",
     "text": [
      "GPU available: True (mps), used: True\n",
      "TPU available: False, using: 0 TPU cores\n",
      "IPU available: False, using: 0 IPUs\n",
      "HPU available: False, using: 0 HPUs\n",
      "\n",
      "  | Name  | Type                      | Params\n",
      "----------------------------------------------------\n",
      "0 | model | ViTForImageClassification | 86.6 M\n",
      "----------------------------------------------------\n",
      "86.6 M    Trainable params\n",
      "0         Non-trainable params\n",
      "86.6 M    Total params\n",
      "346.271   Total estimated model params size (MB)\n"
     ]
    },
    {
     "name": "stdout",
     "output_type": "stream",
     "text": [
      "Sanity Checking: 0it [00:00, ?it/s]"
     ]
    },
    {
     "name": "stderr",
     "output_type": "stream",
     "text": [
      "/opt/homebrew/Caskroom/miniconda/base/envs/jobVS_infra_test/lib/python3.11/site-packages/pytorch_lightning/trainer/connectors/data_connector.py:432: PossibleUserWarning: The dataloader, val_dataloader, does not have many workers which may be a bottleneck. Consider increasing the value of the `num_workers` argument` (try 10 which is the number of cpus on this machine) in the `DataLoader` init to improve performance.\n",
      "  rank_zero_warn(\n"
     ]
    },
    {
     "name": "stdout",
     "output_type": "stream",
     "text": [
      "                                                                           "
     ]
    },
    {
     "name": "stderr",
     "output_type": "stream",
     "text": [
      "/opt/homebrew/Caskroom/miniconda/base/envs/jobVS_infra_test/lib/python3.11/site-packages/pytorch_lightning/trainer/connectors/data_connector.py:432: PossibleUserWarning: The dataloader, train_dataloader, does not have many workers which may be a bottleneck. Consider increasing the value of the `num_workers` argument` (try 10 which is the number of cpus on this machine) in the `DataLoader` init to improve performance.\n",
      "  rank_zero_warn(\n"
     ]
    },
    {
     "name": "stdout",
     "output_type": "stream",
     "text": [
      "Epoch 0: 100%|██████████| 938/938 [32:26<00:00,  2.08s/it, v_num=23, train_loss=0.00174, val_loss=0.0464]"
     ]
    },
    {
     "name": "stderr",
     "output_type": "stream",
     "text": [
      "`Trainer.fit` stopped: `max_epochs=1` reached.\n"
     ]
    },
    {
     "name": "stdout",
     "output_type": "stream",
     "text": [
      "Epoch 0: 100%|██████████| 938/938 [32:29<00:00,  2.08s/it, v_num=23, train_loss=0.00174, val_loss=0.0464]\n"
     ]
    }
   ],
   "source": [
    "# 데이터 로드 및 훈련\n",
    "data_module = MNISTDataModule()\n",
    "config = {}\n",
    "model = MyModel(config=config)\n",
    "trainer = pl.Trainer(max_epochs=1)\n",
    "trainer.fit(model, data_module)\n"
   ]
  },
  {
   "cell_type": "code",
   "execution_count": 36,
   "metadata": {},
   "outputs": [
    {
     "data": {
      "image/png": "[encoded data removed]",
      "text/plain": [
       "<Figure size 640x480 with 1 Axes>"
      ]
     },
     "metadata": {},
     "output_type": "display_data"
    },
    {
     "name": "stdout",
     "output_type": "stream",
     "text": [
      "True label: 0, Predicted label: 0\n"
     ]
    }
   ],
   "source": [
    "import torch\n",
    "from torchvision import datasets, transforms\n",
    "from PIL import Image\n",
    "import matplotlib.pyplot as plt\n",
    "\n",
    "# 이미지 전처리 함수\n",
    "transform = transforms.Compose([\n",
    "    transforms.ToTensor(),\n",
    "    transforms.Resize((224, 224)),  # ViT expects 224x224 images\n",
    "    transforms.Lambda(lambda x: x.repeat(3, 1, 1))  # ViT expects 3 channels\n",
    "])\n",
    "\n",
    "# MNIST 테스트 데이터셋 로드\n",
    "test_dataset = datasets.MNIST(root='./', train=False, download=True, transform=transform)\n",
    "\n",
    "# 랜덤 이미지 선택\n",
    "random_idx = torch.randint(len(test_dataset), size=(1,)).item()\n",
    "image, true_label = test_dataset[random_idx]\n",
    "\n",
    "# 이미지 확인 (optional)\n",
    "plt.imshow(image[0].squeeze(), cmap='gray')\n",
    "plt.show()\n",
    "\n",
    "# 모델에 입력하기 위해 배치 차원 추가\n",
    "image = image.unsqueeze(0)  # (1, 3, 224, 224)\n",
    "\n",
    "# 모델 생성 및 학습된 가중치 로드\n",
    "model.eval()  # Evaluation 모드\n",
    "\n",
    "# 이미지를 모델에 전달하고 출력 받기\n",
    "with torch.no_grad():\n",
    "    loss, logits = model(image)\n",
    "\n",
    "# 가장 높은 확률을 가진 클래스 예측\n",
    "_, predicted_class = torch.max(logits, dim=1)\n",
    "\n",
    "print(f'True label: {true_label}, Predicted label: {predicted_class.item()}')\n"
   ]
  },
  {
   "cell_type": "code",
   "execution_count": 38,
   "metadata": {},
   "outputs": [],
   "source": [
    "trainer.save_checkpoint(\"example.ckpt\")"
   ]
  }
 ],
 "metadata": {
  "kernelspec": {
   "display_name": "jobVS_infra_test",
   "language": "python",
   "name": "python3"
  },
  "language_info": {
   "codemirror_mode": {
    "name": "ipython",
    "version": 3
   },
   "file_extension": ".py",
   "mimetype": "text/x-python",
   "name": "python",
   "nbconvert_exporter": "python",
   "pygments_lexer": "ipython3",
   "version": "3.11.4"
  },
  "orig_nbformat": 4
 },
 "nbformat": 4,
 "nbformat_minor": 2
}
