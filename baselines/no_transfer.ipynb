{
 "cells": [
  {
   "attachments": {},
   "cell_type": "markdown",
   "metadata": {},
   "source": [
    "## Importing Modules\n",
    "\n",
    "필요한 모듈을 Import 합니다.\n"
   ]
  },
  {
   "cell_type": "code",
   "execution_count": 50,
   "metadata": {},
   "outputs": [],
   "source": [
    "# Modules About Hydra\n",
    "from hydra import initialize, initialize_config_module, initialize_config_dir, compose\n",
    "from omegaconf import DictConfig\n",
    "\n",
    "# Modules About Torch, Numpy\n",
    "import numpy as np\n",
    "import torch\n",
    "import torch.nn.functional as F\n",
    "import torchmetrics\n",
    "import torchvision\n",
    "from torch import nn\n",
    "from torch.utils.data import TensorDataset, DataLoader, random_split\n",
    "from torchvision import datasets, transforms\n",
    "\n",
    "# Modules About Pytorch Lightning\n",
    "import pytorch_lightning as pl\n",
    "from pytorch_lightning import LightningModule, LightningDataModule\n",
    "from pytorch_lightning.loggers import TensorBoardLogger, WandbLogger\n",
    "\n",
    "# Modules About Pandas, Matplotlib, Numpy\n",
    "import pandas as pd\n",
    "import matplotlib.pyplot as plt\n",
    "import seaborn as sns\n",
    "import numpy as np\n",
    "\n",
    "# Others\n",
    "from typing import List, Any\n",
    "from PIL import Image\n"
   ]
  },
  {
   "attachments": {},
   "cell_type": "markdown",
   "metadata": {},
   "source": [
    "## Configure Dataset\n",
    "\n",
    "Custom Dataset을 구성합니다.\n"
   ]
  },
  {
   "cell_type": "code",
   "execution_count": 52,
   "metadata": {},
   "outputs": [],
   "source": [
    "from pytorch_lightning.utilities.types import EVAL_DATALOADERS\n",
    "\n",
    "\n",
    "class MNISTDataModule(pl.LightningDataModule):\n",
    "    def __init__(self, batch_size: int = 64, data_dir: str = \"./\"):\n",
    "        super().__init__()\n",
    "        self.data_dir = data_dir\n",
    "        self.batch_size = batch_size\n",
    "        self.predicted_dataloader_attr = None\n",
    "\n",
    "        # Define Transforms\n",
    "        def repeat_channels(x):\n",
    "            return x.repeat(3, 1, 1)\n",
    "\n",
    "        self.transform = transforms.Compose([\n",
    "            transforms.ToTensor()\n",
    "            # ViT expects 224x224 images\n",
    "            # transforms.Resize((224, 224), antialias=True),\n",
    "            # transforms.Lambda(repeat_channels)  # ViT expects 3 channels\n",
    "        ])\n",
    "\n",
    "    def prepare_data(self):\n",
    "        # Download MNIST Data\n",
    "        datasets.MNIST(\n",
    "            self.data_dir, train=True, download=True)\n",
    "        datasets.MNIST(\n",
    "            self.data_dir, train=False, download=True)\n",
    "\n",
    "    def setup(self, stage=None):\n",
    "        mnist_train = datasets.MNIST(\n",
    "            self.data_dir, train=True, transform=self.transform)\n",
    "        mnist_test = datasets.MNIST(\n",
    "            self.data_dir, train=False, transform=self.transform)\n",
    "\n",
    "        # Split Dataset\n",
    "        self.mnist_train, self.mnist_val = random_split(\n",
    "            mnist_train, [55000, 5000])\n",
    "        self.mnist_test = mnist_test\n",
    "\n",
    "    # def _collate_fn(self, samples):\n",
    "    #     이 함수를 사용할 경우\n",
    "    #     DataLoader에 인자로 collate_fn=_collate_fn 를 추가해야합니다.\n",
    "    #     pass\n",
    "\n",
    "    def train_dataloader(self):\n",
    "        return DataLoader(self.mnist_train, batch_size=self.batch_size)\n",
    "\n",
    "    def val_dataloader(self):\n",
    "        return DataLoader(self.mnist_val, batch_size=self.batch_size)\n",
    "\n",
    "    def test_dataloader(self):\n",
    "        return DataLoader(self.mnist_test, batch_size=self.batch_size)\n",
    "\n",
    "    def predict_dataloader(self):\n",
    "        return self.predict_dataloader_attr\n",
    "\n",
    "    def predict_instantly(self, x: List[Any], y: List[int]):\n",
    "        to_tensor = torchvision.transforms.ToTensor()\n",
    "        tensor_x = torch.stack([to_tensor(item) for item in x])\n",
    "        tensor_y = torch.tensor(y)\n",
    "\n",
    "        return tensor_x, tensor_y\n"
   ]
  },
  {
   "attachments": {},
   "cell_type": "markdown",
   "metadata": {},
   "source": [
    "## Design Model\n",
    "\n",
    "Model 구조를 정의합니다.\n"
   ]
  },
  {
   "cell_type": "code",
   "execution_count": 24,
   "metadata": {},
   "outputs": [],
   "source": [
    "class CNNModel(pl.LightningModule):\n",
    "    def __init__(self, config):\n",
    "        super().__init__()\n",
    "        self.save_hyperparameters()\n",
    "        self.config = config\n",
    "        self.id2label = {i: i for i in range(10)}\n",
    "        self.label2id = {i: i for i in range(10)}\n",
    "        self.loss_func = nn.CrossEntropyLoss()\n",
    "        self.model = nn.Sequential(\n",
    "            # Convolutional layer 1\n",
    "            nn.Conv2d(1, 32, kernel_size=3, stride=1, padding=1),\n",
    "            nn.ReLU(),\n",
    "            nn.MaxPool2d(kernel_size=2, stride=2),\n",
    "\n",
    "            # Convolutional layer 2\n",
    "            nn.Conv2d(32, 64, kernel_size=3, stride=1, padding=1),\n",
    "            nn.ReLU(),\n",
    "            nn.MaxPool2d(kernel_size=2, stride=2),\n",
    "\n",
    "            # Fully connected layers\n",
    "            nn.Flatten(),\n",
    "\n",
    "            nn.Linear(64 * 7 * 7, 128),\n",
    "            nn.ReLU(),\n",
    "\n",
    "            nn.Linear(128, 64),\n",
    "            nn.ReLU(),\n",
    "\n",
    "            nn.Linear(64, 10),  # assuming output has 10 classes\n",
    "        )\n",
    "\n",
    "    def forward(self, x, y):\n",
    "        logits = self.model(x)\n",
    "        loss = self.loss_func(logits, y)\n",
    "        return loss, logits\n"
   ]
  },
  {
   "attachments": {},
   "cell_type": "markdown",
   "metadata": {},
   "source": [
    "## Task Model\n",
    "\n",
    "Task 구조를 정의합니다.\n"
   ]
  },
  {
   "cell_type": "code",
   "execution_count": 84,
   "metadata": {},
   "outputs": [],
   "source": [
    "class ClassificationTask(pl.LightningModule):\n",
    "    def __init__(self, model):\n",
    "        super().__init__()\n",
    "        # self.save_hyperparameters()\n",
    "        # self.config = config\n",
    "        self.model = model\n",
    "\n",
    "    def forward(self, x, y):\n",
    "        loss, logits = self.model(x, y)\n",
    "        return loss, logits\n",
    "\n",
    "    def training_step(self, batch, batch_idx):\n",
    "        loss, acc = self._shared_step(batch)\n",
    "        metrics = {\"train_acc\": acc, \"train_loss\": loss}\n",
    "        self.log_dict(metrics, prog_bar=True)\n",
    "        return loss\n",
    "\n",
    "    # def on_train_epoch_end(self):\n",
    "    #     pass\n",
    "\n",
    "    def validation_step(self, batch, batch_idx):\n",
    "        loss, acc = self._shared_step(batch)\n",
    "        metrics = {\"val_acc\": acc, \"val_loss\": loss}\n",
    "        self.log_dict(metrics, prog_bar=True)\n",
    "\n",
    "    # def on_validation_epoch_end(self):\n",
    "    #     pass\n",
    "\n",
    "    def test_step(self, batch, batch_idx):\n",
    "        loss, acc = self._shared_step(batch)\n",
    "        metrics = {\"test_acc\": acc, \"test_loss\": loss}\n",
    "        self.log_dict(metrics, prog_bar=True)\n",
    "\n",
    "    def _shared_step(self, batch):\n",
    "        x, y = batch\n",
    "        loss, logits = self.model(x, y)\n",
    "        acc_fn = torchmetrics.classification.MulticlassAccuracy(\n",
    "            num_classes=10).to(self.device)\n",
    "        acc = acc_fn(logits, y)\n",
    "        return loss, acc\n",
    "\n",
    "    def predict_step(self, batch, batch_idx, dataloader_idx=0):\n",
    "        x, y = batch\n",
    "        loss, logits = self.model(x, y)\n",
    "        return loss, logits\n",
    "\n",
    "    def configure_optimizers(self):\n",
    "        return torch.optim.AdamW(self.model.parameters(), lr=2e-5)"
   ]
  },
  {
   "attachments": {},
   "cell_type": "markdown",
   "metadata": {},
   "source": [
    "## Model Training\n",
    "\n",
    "Model Training을 수행합니다.\n"
   ]
  },
  {
   "cell_type": "code",
   "execution_count": 26,
   "metadata": {},
   "outputs": [
    {
     "name": "stderr",
     "output_type": "stream",
     "text": [
      "GPU available: True (mps), used: True\n",
      "TPU available: False, using: 0 TPU cores\n",
      "IPU available: False, using: 0 IPUs\n",
      "HPU available: False, using: 0 HPUs\n",
      "\n",
      "  | Name  | Type     | Params\n",
      "-----------------------------------\n",
      "0 | model | CNNModel | 429 K \n",
      "-----------------------------------\n",
      "429 K     Trainable params\n",
      "0         Non-trainable params\n",
      "429 K     Total params\n",
      "1.717     Total estimated model params size (MB)\n"
     ]
    },
    {
     "name": "stdout",
     "output_type": "stream",
     "text": [
      "                                                                           "
     ]
    },
    {
     "name": "stderr",
     "output_type": "stream",
     "text": [
      "/opt/homebrew/Caskroom/miniconda/base/envs/jobVS_infra_test/lib/python3.11/site-packages/pytorch_lightning/trainer/connectors/data_connector.py:432: PossibleUserWarning: The dataloader, val_dataloader, does not have many workers which may be a bottleneck. Consider increasing the value of the `num_workers` argument` (try 10 which is the number of cpus on this machine) in the `DataLoader` init to improve performance.\n",
      "  rank_zero_warn(\n",
      "/opt/homebrew/Caskroom/miniconda/base/envs/jobVS_infra_test/lib/python3.11/site-packages/pytorch_lightning/trainer/connectors/data_connector.py:432: PossibleUserWarning: The dataloader, train_dataloader, does not have many workers which may be a bottleneck. Consider increasing the value of the `num_workers` argument` (try 10 which is the number of cpus on this machine) in the `DataLoader` init to improve performance.\n",
      "  rank_zero_warn(\n"
     ]
    },
    {
     "name": "stdout",
     "output_type": "stream",
     "text": [
      "Epoch 0: 100%|██████████| 860/860 [00:30<00:00, 28.52it/s, v_num=121, train_acc=0.750, train_loss=0.654, val_acc=0.823, val_loss=0.698]"
     ]
    },
    {
     "name": "stderr",
     "output_type": "stream",
     "text": [
      "`Trainer.fit` stopped: `max_epochs=1` reached.\n"
     ]
    },
    {
     "name": "stdout",
     "output_type": "stream",
     "text": [
      "Epoch 0: 100%|██████████| 860/860 [00:30<00:00, 28.51it/s, v_num=121, train_acc=0.750, train_loss=0.654, val_acc=0.823, val_loss=0.698]\n"
     ]
    },
    {
     "name": "stderr",
     "output_type": "stream",
     "text": [
      "/opt/homebrew/Caskroom/miniconda/base/envs/jobVS_infra_test/lib/python3.11/site-packages/pytorch_lightning/trainer/connectors/data_connector.py:432: PossibleUserWarning: The dataloader, test_dataloader, does not have many workers which may be a bottleneck. Consider increasing the value of the `num_workers` argument` (try 10 which is the number of cpus on this machine) in the `DataLoader` init to improve performance.\n",
      "  rank_zero_warn(\n"
     ]
    },
    {
     "name": "stdout",
     "output_type": "stream",
     "text": [
      "Testing DataLoader 0: 100%|██████████| 157/157 [00:03<00:00, 43.13it/s]\n",
      "────────────────────────────────────────────────────────────────────────────────────────────────────────────────────────\n",
      "Runningstage.testing metric      DataLoader 0\n",
      "────────────────────────────────────────────────────────────────────────────────────────────────────────────────────────\n",
      "        test_acc            0.8261076211929321\n",
      "        test_loss           0.6879092454910278\n",
      "────────────────────────────────────────────────────────────────────────────────────────────────────────────────────────\n"
     ]
    }
   ],
   "source": [
    "# 데이터 로드 및 훈련\n",
    "data_module = MNISTDataModule()\n",
    "config = {}\n",
    "models = [CNNModel(config=config)]\n",
    "for model in models:\n",
    "    task = ClassificationTask(model)\n",
    "    trainer = pl.Trainer(max_epochs=1)\n",
    "    trainer.fit(task, data_module)\n",
    "    trainer.test(task, datamodule=data_module)\n",
    "    trainer.save_checkpoint(\"test_checkpoints/best_model.ckpt\")\n"
   ]
  },
  {
   "cell_type": "code",
   "execution_count": null,
   "metadata": {},
   "outputs": [],
   "source": []
  },
  {
   "attachments": {},
   "cell_type": "markdown",
   "metadata": {},
   "source": [
    "## Model Prediction\n",
    "\n",
    "직접 Model Prediction을 수행하여 모델이 제대로 동작하는지 검증합니다.\n"
   ]
  },
  {
   "cell_type": "code",
   "execution_count": 85,
   "metadata": {},
   "outputs": [
    {
     "data": {
      "image/png": "[encoded data removed]",
      "text/plain": [
       "<Figure size 640x480 with 1 Axes>"
      ]
     },
     "metadata": {},
     "output_type": "display_data"
    },
    {
     "name": "stdout",
     "output_type": "stream",
     "text": [
      "True label: 3, Predicted label: 3\n"
     ]
    }
   ],
   "source": [
    "data_module = MNISTDataModule()\n",
    "# MNIST 테스트 데이터셋 로드\n",
    "predict_dataset = datasets.MNIST(\n",
    "    root='./', train=False, download=True)\n",
    "\n",
    "# 랜덤 이미지 선택\n",
    "random_idx = torch.randint(len(predict_dataset), size=(1,)).item()\n",
    "image, true_label = predict_dataset[random_idx]\n",
    "\n",
    "# 이미지 확인 (optional)\n",
    "transform = torchvision.transforms.ToTensor()\n",
    "image_tensor = transform(image)\n",
    "plt.imshow(image_tensor[0].squeeze(), cmap='gray')\n",
    "plt.show()\n",
    "\n",
    "\n",
    "# 모델 생성 및 학습된 가중치 로드\n",
    "model_config = {}\n",
    "model = ClassificationTask.load_from_checkpoint(\n",
    "    \"test_checkpoints/best_model.ckpt\", model=CNNModel(config=model_config))\n",
    "\n",
    "model.eval()\n",
    "with torch.no_grad():\n",
    "    x, y = data_module.predict_instantly([image], [true_label])\n",
    "    loss, logits = model(x, y)\n",
    "\n",
    "# Predict Data를 원하는 DataLoader로 직접 만들어서 predict를 수행하고자 할 경우\n",
    "# data_module.predicted_dataloader_attr = your_dataloader\n",
    "# trainer = pl.Trainer()\n",
    "# loss, logits = trainer.predict(model, datamodule=data_module)\n",
    "\n",
    "\n",
    "# 가장 높은 확률을 가진 클래스 예측\n",
    "_, predicted_class = torch.max(logits, dim=1)\n",
    "\n",
    "print(f'True label: {true_label}, Predicted label: {predicted_class.item()}')"
   ]
  }
 ],
 "metadata": {
  "kernelspec": {
   "display_name": "jobVS_infra_test",
   "language": "python",
   "name": "python3"
  },
  "language_info": {
   "codemirror_mode": {
    "name": "ipython",
    "version": 3
   },
   "file_extension": ".py",
   "mimetype": "text/x-python",
   "name": "python",
   "nbconvert_exporter": "python",
   "pygments_lexer": "ipython3",
   "version": "3.11.4"
  },
  "orig_nbformat": 4
 },
 "nbformat": 4,
 "nbformat_minor": 2
}
