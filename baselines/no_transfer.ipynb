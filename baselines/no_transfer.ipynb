{
 "cells": [
  {
   "attachments": {},
   "cell_type": "markdown",
   "metadata": {},
   "source": [
    "## Importing Modules\n",
    "\n",
    "필요한 모듈을 Import 합니다.\n"
   ]
  },
  {
   "cell_type": "code",
   "execution_count": 25,
   "metadata": {},
   "outputs": [],
   "source": [
    "# Modules About Hydra\n",
    "from hydra import initialize, initialize_config_module, initialize_config_dir, compose\n",
    "from hydra.utils import instantiate\n",
    "from omegaconf import DictConfig, OmegaConf\n",
    "\n",
    "# Modules About Torch, Numpy\n",
    "import numpy as np\n",
    "import torch\n",
    "import torch.nn.functional as F\n",
    "import torchmetrics\n",
    "import torchvision\n",
    "from torch import nn\n",
    "from torch.utils.data import TensorDataset, DataLoader, random_split\n",
    "from torchvision import datasets, transforms\n",
    "\n",
    "# Modules About Pytorch Lightning\n",
    "import pytorch_lightning as pl\n",
    "from pytorch_lightning import LightningModule, LightningDataModule\n",
    "from pytorch_lightning.loggers import TensorBoardLogger, WandbLogger\n",
    "from pytorch_lightning.callbacks import ModelCheckpoint, EarlyStopping, ProgressBar\n",
    "\n",
    "# Modules About Pandas, Matplotlib, Numpy\n",
    "import pandas as pd\n",
    "import matplotlib.pyplot as plt\n",
    "import seaborn as sns\n",
    "import numpy as np\n",
    "\n",
    "# Others\n",
    "from PIL import Image\n",
    "from typing import List, Any\n",
    "import traceback\n",
    "import yaml\n",
    "import wandb\n",
    "import warnings\n",
    "warnings.filterwarnings(\"ignore\", category=UserWarning)\n"
   ]
  },
  {
   "attachments": {},
   "cell_type": "markdown",
   "metadata": {},
   "source": [
    "## Configure Dataset\n",
    "\n",
    "Custom Dataset을 구성합니다.\n"
   ]
  },
  {
   "cell_type": "code",
   "execution_count": 3,
   "metadata": {},
   "outputs": [],
   "source": [
    "\n",
    "class MNISTDataModule(pl.LightningDataModule):\n",
    "    def __init__(self, data_dir, batch_size, pred_batch_size, train_ratio, pred_dataset=None):\n",
    "        super().__init__()\n",
    "        self.data_dir = data_dir\n",
    "        self.batch_size = batch_size\n",
    "        self.pred_batch_size = pred_batch_size\n",
    "        self.train_ratio = train_ratio\n",
    "        self.pred_dataset = pred_dataset\n",
    "\n",
    "        # Define Transforms\n",
    "        def repeat_channels(x):\n",
    "            return x.repeat(3, 1, 1)\n",
    "\n",
    "        self.transform = transforms.Compose([\n",
    "            transforms.ToTensor()\n",
    "            # ViT expects 224x224 images\n",
    "            # transforms.Resize((224, 224), antialias=True),\n",
    "            # transforms.Lambda(repeat_channels)  # ViT expects 3 channels\n",
    "        ])\n",
    "\n",
    "    def prepare_data(self):\n",
    "        # Download MNIST Data\n",
    "        datasets.MNIST(\n",
    "            self.data_dir, train=True, download=True)\n",
    "        datasets.MNIST(\n",
    "            self.data_dir, train=False, download=True)\n",
    "\n",
    "    def setup(self, stage=None):\n",
    "        mnist_train = datasets.MNIST(\n",
    "            self.data_dir, train=True, transform=self.transform)\n",
    "        mnist_test = datasets.MNIST(\n",
    "            self.data_dir, train=False, transform=self.transform)\n",
    "\n",
    "        # Split Dataset\n",
    "\n",
    "        self.train_dataset, self.val_dataset = random_split(\n",
    "            mnist_train, list(map(lambda x: int(x * len(mnist_train)), [self.train_ratio, 1-self.train_ratio])))\n",
    "        self.test_dataset = mnist_test\n",
    "\n",
    "    # def _collate_fn(self, samples):\n",
    "    #     이 함수를 사용할 경우\n",
    "    #     DataLoader에 인자로 collate_fn=_collate_fn 를 추가해야합니다.\n",
    "    #     pass\n",
    "\n",
    "    def train_dataloader(self):\n",
    "        return DataLoader(self.train_dataset, batch_size=self.batch_size)\n",
    "\n",
    "    def val_dataloader(self):\n",
    "        return DataLoader(self.val_dataset, batch_size=self.batch_size)\n",
    "\n",
    "    def test_dataloader(self):\n",
    "        return DataLoader(self.test_dataset, batch_size=self.batch_size)\n",
    "\n",
    "    def predict_dataloader(self):\n",
    "        return DataLoader(self.pred_dataset, batch_size=self.pred_batch_size)\n",
    "\n",
    "    def predict_instantly(self, x: List[Any], y: List[int]):\n",
    "        to_tensor = torchvision.transforms.ToTensor()\n",
    "        tensor_x = torch.stack([to_tensor(item) for item in x])\n",
    "        tensor_y = torch.tensor(y)\n",
    "\n",
    "        return tensor_x, tensor_y\n"
   ]
  },
  {
   "attachments": {},
   "cell_type": "markdown",
   "metadata": {},
   "source": [
    "## Design Model\n",
    "\n",
    "Model 구조를 정의합니다.\n"
   ]
  },
  {
   "cell_type": "code",
   "execution_count": 4,
   "metadata": {},
   "outputs": [],
   "source": [
    "class CNNModel(pl.LightningModule):\n",
    "    def __init__(self, type):\n",
    "        super().__init__()\n",
    "        self.type = type\n",
    "        self.save_hyperparameters(\"type\")\n",
    "\n",
    "        self.model_list = {\"small\": (32, 64), \"large\": (64, 128)}\n",
    "        self.id2label = {i: i for i in range(10)}\n",
    "        self.label2id = {i: i for i in range(10)}\n",
    "        self.loss_func = nn.CrossEntropyLoss()\n",
    "        self.model = nn.Sequential(\n",
    "            # Convolutional layer 1\n",
    "            nn.Conv2d(1, self.model_list[self.type][0],\n",
    "                      kernel_size=3, stride=1, padding=1),\n",
    "            nn.ReLU(),\n",
    "            nn.MaxPool2d(kernel_size=2, stride=2),\n",
    "\n",
    "            # Convolutional layer 2\n",
    "            nn.Conv2d(self.model_list[self.type][0], self.model_list[self.type]\n",
    "                      [1], kernel_size=3, stride=1, padding=1),\n",
    "            nn.ReLU(),\n",
    "            nn.MaxPool2d(kernel_size=2, stride=2),\n",
    "\n",
    "            # Fully connected layers\n",
    "            nn.Flatten(),\n",
    "\n",
    "            nn.Linear(self.model_list[self.type][1] * 7 * 7, 128),\n",
    "            nn.ReLU(),\n",
    "\n",
    "            nn.Linear(128, 64),\n",
    "            nn.ReLU(),\n",
    "\n",
    "            nn.Linear(64, 10),  # assuming output has 10 classes\n",
    "        )\n",
    "\n",
    "    def forward(self, x, y):\n",
    "        logits = self.model(x)\n",
    "        loss = self.loss_func(logits, y)\n",
    "        return loss, logits\n"
   ]
  },
  {
   "attachments": {},
   "cell_type": "markdown",
   "metadata": {},
   "source": [
    "## Task Model\n",
    "\n",
    "Task 구조를 정의합니다.\n"
   ]
  },
  {
   "cell_type": "code",
   "execution_count": 5,
   "metadata": {},
   "outputs": [],
   "source": [
    "class ClassificationTask(pl.LightningModule):\n",
    "    def __init__(self, model, num_classes, optimizer, lr_scheduler=None):\n",
    "        super().__init__()\n",
    "        self.model = model\n",
    "        self.num_classes = num_classes\n",
    "        self.optimizer = optimizer\n",
    "        self.lr_scheduler = lr_scheduler\n",
    "        self.training_step_outputs = []\n",
    "        self.validation_step_outputs = []\n",
    "        self.save_hyperparameters(\"num_classes\", \"optimizer\", \"lr_scheduler\")\n",
    "\n",
    "    def forward(self, x, y):\n",
    "        x, y = x.to(self.device), y.to(self.device)\n",
    "        loss, logits = self.model(x, y)\n",
    "        return loss, logits\n",
    "\n",
    "    def training_step(self, batch, batch_idx):\n",
    "        loss, acc = self._shared_step(batch)\n",
    "        metrics = {\"train_acc\": acc, \"train_loss\": loss}\n",
    "        self.training_step_outputs.append(metrics)\n",
    "        self.log_dict(metrics, prog_bar=True)\n",
    "        return loss\n",
    "\n",
    "    # def on_train_epoch_end(self):\n",
    "    #     pass\n",
    "\n",
    "    def validation_step(self, batch, batch_idx):\n",
    "        loss, acc = self._shared_step(batch)\n",
    "        metrics = {\"val_acc\": acc, \"val_loss\": loss}\n",
    "        self.validation_step_outputs.append(metrics)\n",
    "        self.log_dict(metrics)\n",
    "\n",
    "    def on_validation_epoch_end(self):\n",
    "\n",
    "        if self.training_step_outputs:\n",
    "            train_avg_loss = torch.stack([x[\"train_loss\"]\n",
    "                                          for x in self.training_step_outputs]).mean()\n",
    "            train_avg_acc = torch.stack([x[\"train_acc\"]\n",
    "                                        for x in self.training_step_outputs]).mean()\n",
    "            metrics = {\"train_avg_acc\": train_avg_acc,\n",
    "                       \"train_avg_loss\": train_avg_loss}\n",
    "            self.log_dict(metrics)\n",
    "        else:\n",
    "            return\n",
    "        if self.validation_step_outputs:\n",
    "            val_avg_loss = torch.stack([x[\"val_loss\"]\n",
    "                                        for x in self.validation_step_outputs]).mean()\n",
    "            val_avg_acc = torch.stack([x[\"val_acc\"]\n",
    "                                       for x in self.validation_step_outputs]).mean()\n",
    "            metrics = {\"val_avg_acc\": val_avg_acc,\n",
    "                       \"val_avg_loss\": val_avg_loss}\n",
    "            self.log_dict(metrics)\n",
    "        else:\n",
    "            return\n",
    "        print(\"\\n\" +\n",
    "              (f'Epoch {self.current_epoch}, Avg. Training Loss: {train_avg_loss:.3f}, Avg. Training Accuracy: {train_avg_acc:.3f} ' +\n",
    "               f'Avg. Validation Loss: {val_avg_loss:.3f}, Avg. Validation Accuracy: {val_avg_acc:.3f}'), flush=True)\n",
    "        self.training_step_outputs.clear()\n",
    "        self.validation_step_outputs.clear()\n",
    "\n",
    "    def test_step(self, batch, batch_idx):\n",
    "        loss, acc = self._shared_step(batch)\n",
    "        metrics = {\"test_acc\": acc, \"test_loss\": loss}\n",
    "        self.log_dict(metrics, prog_bar=True)\n",
    "\n",
    "    def _shared_step(self, batch):\n",
    "        x, y = batch\n",
    "        loss, logits = self.model(x, y)\n",
    "        acc_fn = torchmetrics.classification.MulticlassAccuracy(\n",
    "            num_classes=self.num_classes).to(self.device)\n",
    "        acc = acc_fn(logits, y)\n",
    "        return loss, acc\n",
    "\n",
    "    def predict_step(self, batch, batch_idx, dataloader_idx=0):\n",
    "        x, y = batch\n",
    "        loss, logits = self.model(x, y)\n",
    "        return loss, logits\n",
    "\n",
    "    def configure_optimizers(self):\n",
    "        optimizer = self.optimizer\n",
    "        if self.lr_scheduler is not None:\n",
    "            return [optimizer], [self.lr_scheduler]\n",
    "        else:\n",
    "            return optimizer\n",
    "\n",
    "        # return torch.optim.AdamW(self.model.parameters(), lr=2e-5)"
   ]
  },
  {
   "cell_type": "code",
   "execution_count": 6,
   "metadata": {},
   "outputs": [
    {
     "data": {
      "text/plain": [
       "AdamW (\n",
       "Parameter Group 0\n",
       "    amsgrad: False\n",
       "    betas: (0.9, 0.999)\n",
       "    capturable: False\n",
       "    differentiable: False\n",
       "    eps: 1e-08\n",
       "    foreach: None\n",
       "    fused: None\n",
       "    lr: 2e-05\n",
       "    maximize: False\n",
       "    weight_decay: 0.01\n",
       ")"
      ]
     },
     "execution_count": 6,
     "metadata": {},
     "output_type": "execute_result"
    }
   ],
   "source": [
    "with initialize(version_base=None, config_path=\"./\"):\n",
    "    cfg = compose(config_name=\"config.yaml\")\n",
    "models = [instantiate(cfg.models[model]) for model in dir(cfg.models)]\n",
    "optimizer = instantiate(cfg.task.optimizer, params=models[0].parameters())\n",
    "optimizer"
   ]
  },
  {
   "attachments": {},
   "cell_type": "markdown",
   "metadata": {},
   "source": [
    "## Model Training\n",
    "\n",
    "Model Training을 수행합니다.\n"
   ]
  },
  {
   "cell_type": "code",
   "execution_count": 30,
   "metadata": {},
   "outputs": [
    {
     "data": {
      "text/html": [
       "Tracking run with wandb version 0.15.5"
      ],
      "text/plain": [
       "<IPython.core.display.HTML object>"
      ]
     },
     "metadata": {},
     "output_type": "display_data"
    },
    {
     "data": {
      "text/html": [
       "Run data is saved locally in <code>log/wandb/run-20230720_170800-ow93vxre</code>"
      ],
      "text/plain": [
       "<IPython.core.display.HTML object>"
      ]
     },
     "metadata": {},
     "output_type": "display_data"
    },
    {
     "data": {
      "text/html": [
       "Syncing run <strong><a href='https://wandb.ai/suwon-pabby/wandb_test/runs/ow93vxre' target=\"_blank\">version_2</a></strong> to <a href='https://wandb.ai/suwon-pabby/wandb_test' target=\"_blank\">Weights & Biases</a> (<a href='https://wandb.me/run' target=\"_blank\">docs</a>)<br/>"
      ],
      "text/plain": [
       "<IPython.core.display.HTML object>"
      ]
     },
     "metadata": {},
     "output_type": "display_data"
    },
    {
     "data": {
      "text/html": [
       " View project at <a href='https://wandb.ai/suwon-pabby/wandb_test' target=\"_blank\">https://wandb.ai/suwon-pabby/wandb_test</a>"
      ],
      "text/plain": [
       "<IPython.core.display.HTML object>"
      ]
     },
     "metadata": {},
     "output_type": "display_data"
    },
    {
     "data": {
      "text/html": [
       " View run at <a href='https://wandb.ai/suwon-pabby/wandb_test/runs/ow93vxre' target=\"_blank\">https://wandb.ai/suwon-pabby/wandb_test/runs/ow93vxre</a>"
      ],
      "text/plain": [
       "<IPython.core.display.HTML object>"
      ]
     },
     "metadata": {},
     "output_type": "display_data"
    },
    {
     "name": "stderr",
     "output_type": "stream",
     "text": [
      "GPU available: True (mps), used: True\n",
      "TPU available: False, using: 0 TPU cores\n",
      "IPU available: False, using: 0 IPUs\n",
      "HPU available: False, using: 0 HPUs\n",
      "\n",
      "  | Name  | Type     | Params\n",
      "-----------------------------------\n",
      "0 | model | CNNModel | 429 K \n",
      "-----------------------------------\n",
      "429 K     Trainable params\n",
      "0         Non-trainable params\n",
      "429 K     Total params\n",
      "1.717     Total estimated model params size (MB)\n"
     ]
    },
    {
     "name": "stdout",
     "output_type": "stream",
     "text": [
      "Epoch 0: 100%|██████████| 563/563 [00:21<00:00, 26.46it/s, v_num=vxre, train_acc=0.755, train_loss=0.910]\n",
      "Epoch 0, Avg. Training Loss: 1.757, Avg. Training Accuracy: 0.552 Avg. Validation Loss: 0.960, Avg. Validation Accuracy: 0.773\n",
      "Epoch 1: 100%|██████████| 563/563 [00:19<00:00, 28.23it/s, v_num=vxre, train_acc=0.755, train_loss=0.459]\n",
      "Epoch 1, Avg. Training Loss: 0.662, Avg. Training Accuracy: 0.823 Avg. Validation Loss: 0.519, Avg. Validation Accuracy: 0.854\n",
      "Epoch 1: 100%|██████████| 563/563 [00:29<00:00, 18.88it/s, v_num=vxre, train_acc=0.755, train_loss=0.459]"
     ]
    },
    {
     "name": "stderr",
     "output_type": "stream",
     "text": [
      "`Trainer.fit` stopped: `max_epochs=2` reached.\n"
     ]
    },
    {
     "name": "stdout",
     "output_type": "stream",
     "text": [
      "Epoch 1: 100%|██████████| 563/563 [00:29<00:00, 18.86it/s, v_num=vxre, train_acc=0.755, train_loss=0.459]\n",
      "Testing DataLoader 0: 100%|██████████| 157/157 [00:04<00:00, 38.40it/s]\n"
     ]
    },
    {
     "data": {
      "text/html": [
       "<pre style=\"white-space:pre;overflow-x:auto;line-height:normal;font-family:Menlo,'DejaVu Sans Mono',consolas,'Courier New',monospace\">┏━━━━━━━━━━━━━━━━━━━━━━━━━━━┳━━━━━━━━━━━━━━━━━━━━━━━━━━━┓\n",
       "┃<span style=\"font-weight: bold\">        Test metric        </span>┃<span style=\"font-weight: bold\">       DataLoader 0        </span>┃\n",
       "┡━━━━━━━━━━━━━━━━━━━━━━━━━━━╇━━━━━━━━━━━━━━━━━━━━━━━━━━━┩\n",
       "│<span style=\"color: #008080; text-decoration-color: #008080\">         test_acc          </span>│<span style=\"color: #800080; text-decoration-color: #800080\">    0.8615629076957703     </span>│\n",
       "│<span style=\"color: #008080; text-decoration-color: #008080\">         test_loss         </span>│<span style=\"color: #800080; text-decoration-color: #800080\">    0.4967328608036041     </span>│\n",
       "└───────────────────────────┴───────────────────────────┘\n",
       "</pre>\n"
      ],
      "text/plain": [
       "┏━━━━━━━━━━━━━━━━━━━━━━━━━━━┳━━━━━━━━━━━━━━━━━━━━━━━━━━━┓\n",
       "┃\u001b[1m \u001b[0m\u001b[1m       Test metric       \u001b[0m\u001b[1m \u001b[0m┃\u001b[1m \u001b[0m\u001b[1m      DataLoader 0       \u001b[0m\u001b[1m \u001b[0m┃\n",
       "┡━━━━━━━━━━━━━━━━━━━━━━━━━━━╇━━━━━━━━━━━━━━━━━━━━━━━━━━━┩\n",
       "│\u001b[36m \u001b[0m\u001b[36m        test_acc         \u001b[0m\u001b[36m \u001b[0m│\u001b[35m \u001b[0m\u001b[35m   0.8615629076957703    \u001b[0m\u001b[35m \u001b[0m│\n",
       "│\u001b[36m \u001b[0m\u001b[36m        test_loss        \u001b[0m\u001b[36m \u001b[0m│\u001b[35m \u001b[0m\u001b[35m   0.4967328608036041    \u001b[0m\u001b[35m \u001b[0m│\n",
       "└───────────────────────────┴───────────────────────────┘\n"
      ]
     },
     "metadata": {},
     "output_type": "display_data"
    },
    {
     "data": {
      "text/html": [
       "Waiting for W&B process to finish... <strong style=\"color:green\">(success).</strong>"
      ],
      "text/plain": [
       "<IPython.core.display.HTML object>"
      ]
     },
     "metadata": {},
     "output_type": "display_data"
    },
    {
     "data": {
      "text/html": [
       "<style>\n",
       "    table.wandb td:nth-child(1) { padding: 0 10px; text-align: left ; width: auto;} td:nth-child(2) {text-align: left ; width: 100%}\n",
       "    .wandb-row { display: flex; flex-direction: row; flex-wrap: wrap; justify-content: flex-start; width: 100% }\n",
       "    .wandb-col { display: flex; flex-direction: column; flex-basis: 100%; flex: 1; padding: 10px; }\n",
       "    </style>\n",
       "<div class=\"wandb-row\"><div class=\"wandb-col\"><h3>Run history:</h3><br/><table class=\"wandb\"><tr><td>epoch</td><td>▁▁▁▁▁▁▁▁▁▁▁▁▅▅▅▅▅▅▅▅▅▅▅▅█</td></tr><tr><td>test_acc</td><td>▁</td></tr><tr><td>test_loss</td><td>▁</td></tr><tr><td>train_acc</td><td>▁▂▄▆▅▅▅▆▆█▇▇▇▇▆█▇▇█▇▇▇</td></tr><tr><td>train_avg_acc</td><td>▁█</td></tr><tr><td>train_avg_loss</td><td>█▁</td></tr><tr><td>train_loss</td><td>███▇▇▆▆▅▃▃▃▃▂▁▂▁▂▁▂▁▁▁</td></tr><tr><td>trainer/global_step</td><td>▁▁▂▂▂▃▃▃▄▄▄▄▅▅▅▆▆▆▇▇▇▇███</td></tr><tr><td>val_acc</td><td>▁█</td></tr><tr><td>val_avg_acc</td><td>▁█</td></tr><tr><td>val_avg_loss</td><td>█▁</td></tr><tr><td>val_loss</td><td>█▁</td></tr></table><br/></div><div class=\"wandb-col\"><h3>Run summary:</h3><br/><table class=\"wandb\"><tr><td>epoch</td><td>2</td></tr><tr><td>test_acc</td><td>0.86156</td></tr><tr><td>test_loss</td><td>0.49673</td></tr><tr><td>train_acc</td><td>0.79337</td></tr><tr><td>train_avg_acc</td><td>0.82257</td></tr><tr><td>train_avg_loss</td><td>0.6621</td></tr><tr><td>train_loss</td><td>0.55247</td></tr><tr><td>trainer/global_step</td><td>1126</td></tr><tr><td>val_acc</td><td>0.85437</td></tr><tr><td>val_avg_acc</td><td>0.85437</td></tr><tr><td>val_avg_loss</td><td>0.51892</td></tr><tr><td>val_loss</td><td>0.51892</td></tr></table><br/></div></div>"
      ],
      "text/plain": [
       "<IPython.core.display.HTML object>"
      ]
     },
     "metadata": {},
     "output_type": "display_data"
    },
    {
     "data": {
      "text/html": [
       " View run <strong style=\"color:#cdcd00\">version_2</strong> at: <a href='https://wandb.ai/suwon-pabby/wandb_test/runs/ow93vxre' target=\"_blank\">https://wandb.ai/suwon-pabby/wandb_test/runs/ow93vxre</a><br/>Synced 6 W&B file(s), 0 media file(s), 0 artifact file(s) and 0 other file(s)"
      ],
      "text/plain": [
       "<IPython.core.display.HTML object>"
      ]
     },
     "metadata": {},
     "output_type": "display_data"
    },
    {
     "data": {
      "text/html": [
       "Find logs at: <code>log/wandb/run-20230720_170800-ow93vxre/logs</code>"
      ],
      "text/plain": [
       "<IPython.core.display.HTML object>"
      ]
     },
     "metadata": {},
     "output_type": "display_data"
    }
   ],
   "source": [
    "try:\n",
    "    # Set Constant\n",
    "    CHECKPOINT_PATH = \"./checkpoints\"\n",
    "    CONFIGS_PATH = \"./configs\"\n",
    "\n",
    "    # Load Configuration Object\n",
    "    with initialize(version_base=None, config_path=\"./\"):\n",
    "        cfg = compose(config_name=\"config.yaml\")\n",
    "\n",
    "    # Get Global Version Info\n",
    "    with open(\"global.yaml\", \"r\") as f:\n",
    "        global_data = yaml.safe_load(f)\n",
    "    version_count = global_data[\"next_version_count\"]\n",
    "\n",
    "    # Get config.yaml file\n",
    "    with open(\"config.yaml\", \"r\") as f:\n",
    "        cfg_data = yaml.safe_load(f)\n",
    "\n",
    "    # Save Version Config Info On Configs Folder\n",
    "    with open(f\"{CONFIGS_PATH}/version_{version_count}_config.yaml\",\n",
    "              \"w\") as f:\n",
    "        yaml.dump(cfg_data, f)\n",
    "\n",
    "    # Load Data Module\n",
    "    data_module = MNISTDataModule(data_dir=cfg.data.data_dir,\n",
    "                                  batch_size=cfg.data.batch_size,\n",
    "                                  pred_batch_size=cfg.data.pred_batch_size,\n",
    "                                  train_ratio=cfg.data.train_ratio)\n",
    "\n",
    "    # Load Training Configuration\n",
    "    models = [instantiate(cfg.models[model]) for model in dir(cfg.models)]\n",
    "\n",
    "    # Add Callbacks\n",
    "    cfg_callbacks = cfg.train.callbacks\n",
    "    callbacks = []\n",
    "    checkpoint_callback = ModelCheckpoint(**cfg_callbacks.checkpoint_callback,\n",
    "                                          dirpath=f\"{CHECKPOINT_PATH}/version_{version_count}/\"\n",
    "                                          )\n",
    "    callbacks.append(checkpoint_callback)\n",
    "\n",
    "    early_stop_callback = EarlyStopping(**cfg_callbacks.early_stop_callback)\n",
    "    callbacks.append(early_stop_callback)\n",
    "\n",
    "    num_classes = cfg.task.num_classes\n",
    "\n",
    "    # Set Logger\n",
    "    logger = instantiate(cfg.train.logger, name=f\"version_{version_count}\")\n",
    "\n",
    "    # Train\n",
    "    for model in models:\n",
    "        optimizer = instantiate(cfg.task.optimizer, params=model.parameters())\n",
    "        if cfg.task.lr_scheduler.scheduler._target_ is not None:\n",
    "            lr_scheduler = {}\n",
    "            lr_scheduler[\"scheduler\"] = instantiate(\n",
    "                cfg.task.lr_scheduler.scheduler, optimizer=optimizer)\n",
    "            lr_scheduler[\"interval\"] = cfg.task.lr_scheduler.interval\n",
    "        else:\n",
    "            lr_scheduler = None\n",
    "        task = ClassificationTask(\n",
    "            model=model, num_classes=num_classes, optimizer=optimizer, lr_scheduler=lr_scheduler)\n",
    "        trainer = pl.Trainer(max_epochs=cfg.train.max_epochs,\n",
    "                             callbacks=callbacks, logger=logger)\n",
    "        trainer.fit(task, data_module)\n",
    "        trainer.test(task, datamodule=data_module)\n",
    "        trainer.save_checkpoint(f\"{CHECKPOINT_PATH}/best_model.ckpt\")\n",
    "\n",
    "    # Save Version Config Info On Checkpoints Folder\n",
    "    with open(f\"{CHECKPOINT_PATH}/version_{version_count}/version_config.yaml\",\n",
    "              \"w\") as f:\n",
    "        yaml.dump(cfg_data, f)\n",
    "\n",
    "    # Set Version Info\n",
    "    global_data[\"next_version_count\"] += 1\n",
    "    with open(\"global.yaml\", \"w\") as f:\n",
    "        yaml.dump(global_data, f)\n",
    "\n",
    "    # Finish wandb\n",
    "    if cfg.train.logger._target_ == \"pytorch_lightning.loggers.WandbLogger\":\n",
    "        wandb.finish()\n",
    "except Exception:\n",
    "    # Finish wandb\n",
    "    if cfg.train.logger._target_ == \"pytorch_lightning.loggers.WandbLogger\":\n",
    "        wandb.finish()\n",
    "\n",
    "    print(\"An error occurred:\")\n",
    "    print(traceback.format_exc())"
   ]
  },
  {
   "cell_type": "code",
   "execution_count": 23,
   "metadata": {},
   "outputs": [
    {
     "data": {
      "text/html": [
       "Waiting for W&B process to finish... <strong style=\"color:green\">(success).</strong>"
      ],
      "text/plain": [
       "<IPython.core.display.HTML object>"
      ]
     },
     "metadata": {},
     "output_type": "display_data"
    },
    {
     "data": {
      "text/html": [
       "<style>\n",
       "    table.wandb td:nth-child(1) { padding: 0 10px; text-align: left ; width: auto;} td:nth-child(2) {text-align: left ; width: 100%}\n",
       "    .wandb-row { display: flex; flex-direction: row; flex-wrap: wrap; justify-content: flex-start; width: 100% }\n",
       "    .wandb-col { display: flex; flex-direction: column; flex-basis: 100%; flex: 1; padding: 10px; }\n",
       "    </style>\n",
       "<div class=\"wandb-row\"><div class=\"wandb-col\"><h3>Run history:</h3><br/><table class=\"wandb\"><tr><td>epoch</td><td>▁▁▁▁▁▁▁▁▁▁▅▅▅▅▅▅▅▅▅▅▁▁▁▁▁▁▁▁▁▁▅▅▅▅▅▅▅▅▅█</td></tr><tr><td>test_acc</td><td>█▁</td></tr><tr><td>test_loss</td><td>▁█</td></tr><tr><td>train_acc</td><td>▁▂▄▅▆▆▇▆▇▆▆▆▆▇▇▇▇▇▇▇▂▂▄▄▄▄▅▅▅▅▇▆▆▇▇▆▆█▇█</td></tr><tr><td>train_avg_acc</td><td>▃█▁▇</td></tr><tr><td>train_avg_loss</td><td>▇▁█▂</td></tr><tr><td>train_loss</td><td>███▇▇▆▅▅▃▄▂▂▂▂▁▁▁▁▁▁███▇▇▆▆▅▅▄▃▃▃▂▂▂▃▁▂▁</td></tr><tr><td>trainer/global_step</td><td>▁▁▂▂▃▃▃▄▄▄▅▅▆▆▆▇▇▇██▁▁▂▂▃▃▃▄▄▄▅▅▆▆▆▇▇▇██</td></tr><tr><td>val_acc</td><td>▄█▁▇</td></tr><tr><td>val_avg_acc</td><td>▄█▁▇</td></tr><tr><td>val_avg_loss</td><td>▆▁█▂</td></tr><tr><td>val_loss</td><td>▆▁█▂</td></tr></table><br/></div><div class=\"wandb-col\"><h3>Run summary:</h3><br/><table class=\"wandb\"><tr><td>epoch</td><td>2</td></tr><tr><td>test_acc</td><td>0.85454</td></tr><tr><td>test_loss</td><td>0.53507</td></tr><tr><td>train_acc</td><td>0.91349</td></tr><tr><td>train_avg_acc</td><td>0.80441</td></tr><tr><td>train_avg_loss</td><td>0.73775</td></tr><tr><td>train_loss</td><td>0.42907</td></tr><tr><td>trainer/global_step</td><td>1126</td></tr><tr><td>val_acc</td><td>0.84624</td></tr><tr><td>val_avg_acc</td><td>0.84624</td></tr><tr><td>val_avg_loss</td><td>0.55074</td></tr><tr><td>val_loss</td><td>0.55074</td></tr></table><br/></div></div>"
      ],
      "text/plain": [
       "<IPython.core.display.HTML object>"
      ]
     },
     "metadata": {},
     "output_type": "display_data"
    },
    {
     "data": {
      "text/html": [
       " View run <strong style=\"color:#cdcd00\">version_5</strong> at: <a href='https://wandb.ai/suwon-pabby/wandb_test/runs/4yo88u4t' target=\"_blank\">https://wandb.ai/suwon-pabby/wandb_test/runs/4yo88u4t</a><br/>Synced 6 W&B file(s), 0 media file(s), 0 artifact file(s) and 0 other file(s)"
      ],
      "text/plain": [
       "<IPython.core.display.HTML object>"
      ]
     },
     "metadata": {},
     "output_type": "display_data"
    },
    {
     "data": {
      "text/html": [
       "Find logs at: <code>log/wandb/run-20230720_163655-4yo88u4t/logs</code>"
      ],
      "text/plain": [
       "<IPython.core.display.HTML object>"
      ]
     },
     "metadata": {},
     "output_type": "display_data"
    }
   ],
   "source": [
    "wandb.finish()"
   ]
  },
  {
   "cell_type": "code",
   "execution_count": null,
   "metadata": {},
   "outputs": [],
   "source": [
    "# # 만일 이전 결과에서 Epoch을 이어서 실행하고 싶다면?\n",
    "# model = CNNModel(config=config)  # 기존에 학습 때 사용한 모델\n",
    "# task = ClassificationTask.load_from_checkpoint(\n",
    "#     \"test_checkpoints/checkpoints/last.ckpt\", model=model)  # 기존 최신 모델에서 체크포인트를 가져옴\n",
    "# trainer = pl.Trainer(max_epochs=30, callbacks=callbacks)\n",
    "# trainer.fit(task, data_module)\n"
   ]
  },
  {
   "attachments": {},
   "cell_type": "markdown",
   "metadata": {},
   "source": [
    "## Model Prediction\n",
    "\n",
    "직접 Model Prediction을 수행하여 모델이 제대로 동작하는지 검증합니다.\n"
   ]
  },
  {
   "cell_type": "code",
   "execution_count": null,
   "metadata": {},
   "outputs": [
    {
     "ename": "TypeError",
     "evalue": "MNISTDataModule.__init__() missing 4 required positional arguments: 'data_dir', 'batch_size', 'pred_batch_size', and 'train_ratio'",
     "output_type": "error",
     "traceback": [
      "\u001b[0;31m---------------------------------------------------------------------------\u001b[0m",
      "\u001b[0;31mTypeError\u001b[0m                                 Traceback (most recent call last)",
      "Cell \u001b[0;32mIn[8], line 1\u001b[0m\n\u001b[0;32m----> 1\u001b[0m data_module \u001b[39m=\u001b[39m MNISTDataModule()\n\u001b[1;32m      2\u001b[0m \u001b[39m# MNIST 테스트 데이터셋 로드\u001b[39;00m\n\u001b[1;32m      3\u001b[0m predict_dataset \u001b[39m=\u001b[39m datasets\u001b[39m.\u001b[39mMNIST(\n\u001b[1;32m      4\u001b[0m     root\u001b[39m=\u001b[39m\u001b[39m'\u001b[39m\u001b[39m./\u001b[39m\u001b[39m'\u001b[39m, train\u001b[39m=\u001b[39m\u001b[39mFalse\u001b[39;00m, download\u001b[39m=\u001b[39m\u001b[39mTrue\u001b[39;00m)\n",
      "\u001b[0;31mTypeError\u001b[0m: MNISTDataModule.__init__() missing 4 required positional arguments: 'data_dir', 'batch_size', 'pred_batch_size', and 'train_ratio'"
     ]
    }
   ],
   "source": [
    "data_module = MNISTDataModule()\n",
    "# MNIST 테스트 데이터셋 로드\n",
    "predict_dataset = datasets.MNIST(\n",
    "    root='./', train=False, download=True)\n",
    "\n",
    "# 랜덤 이미지 선택\n",
    "random_idx = torch.randint(len(predict_dataset), size=(1,)).item()\n",
    "image, true_label = predict_dataset[random_idx]\n",
    "\n",
    "# 이미지 확인 (optional)\n",
    "transform = torchvision.transforms.ToTensor()\n",
    "image_tensor = transform(image)\n",
    "plt.imshow(image_tensor[0].squeeze(), cmap='gray')\n",
    "plt.show()\n",
    "\n",
    "\n",
    "# 모델 생성 및 학습된 가중치 로드\n",
    "model_config = {}\n",
    "model = ClassificationTask.load_from_checkpoint(\n",
    "    \"test_checkpoints/best_model.ckpt\", model=CNNModel(config=model_config))\n",
    "\n",
    "model.eval()\n",
    "with torch.no_grad():\n",
    "    x, y = data_module.predict_instantly([image], [true_label])\n",
    "    loss, logits = model(x, y)\n",
    "\n",
    "# Predict Data를 원하는 DataLoader로 직접 만들어서 predict를 수행하고자 할 경우\n",
    "# data_module.predicted_dataloader_attr = your_dataloader\n",
    "# trainer = pl.Trainer()\n",
    "# loss, logits = trainer.predict(model, datamodule=data_module)\n",
    "\n",
    "\n",
    "# 가장 높은 확률을 가진 클래스 예측\n",
    "_, predicted_class = torch.max(logits, dim=1)\n",
    "\n",
    "print(f'True label: {true_label}, Predicted label: {predicted_class.item()}')"
   ]
  }
 ],
 "metadata": {
  "kernelspec": {
   "display_name": "jobVS_infra_test",
   "language": "python",
   "name": "python3"
  },
  "language_info": {
   "codemirror_mode": {
    "name": "ipython",
    "version": 3
   },
   "file_extension": ".py",
   "mimetype": "text/x-python",
   "name": "python",
   "nbconvert_exporter": "python",
   "pygments_lexer": "ipython3",
   "version": "3.10.12"
  },
  "orig_nbformat": 4
 },
 "nbformat": 4,
 "nbformat_minor": 2
}
