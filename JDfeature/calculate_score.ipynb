{
 "cells": [
  {
   "cell_type": "code",
   "execution_count": 2,
   "metadata": {},
   "outputs": [],
   "source": [
    "import pandas as pd\n",
    "# 각자에 맞게 경로변경 요망\n",
    "d= pd.read_csv('./dataset/sampling_data.csv')\n",
    "df = pd.read_csv('./dataset/samplejd_blank.csv')\n",
    "df2 = pd.read_csv('./dataset/samplejd_blank.csv')\n"
   ]
  },
  {
   "cell_type": "code",
   "execution_count": 3,
   "metadata": {},
   "outputs": [],
   "source": [
    "\n",
    "# dummy data 생성이므로 건너뛰세요.\n",
    "import numpy as np\n",
    "df.loc[df.query('`분류` == 1').index, '모델 유사도'] = list(np.random.randint(0, 100, 19)/100)\n",
    "df.loc[df.query('`분류` == 0').index, '모델 유사도'] = list(np.random.randint(-100, 0, 19)/100)\n",
    "df2.loc[df.query('`분류` == 1').index, '모델 유사도'] = list(np.random.randint(0, 100, 19)/100)\n",
    "df2.loc[df.query('`분류` == 0').index, '모델 유사도'] = list(np.random.randint(-100, 0, 19)/100)\n",
    "df2.to_csv('./dataset/samplejd_blank_temp2.csv', encoding = 'utf-8-sig')\n",
    "df.to_csv('./dataset/samplejd_blank_temp1.csv', encoding = 'utf-8-sig')\n",
    " \n"
   ]
  },
  {
   "cell_type": "code",
   "execution_count": 11,
   "metadata": {},
   "outputs": [],
   "source": [
    "# csv_list : 모델별 sample jd 유사도를 넣어놓은 csv 파일 경로 및 모델이름\n",
    "csv_list = [('', ''),\n",
    "            ('', ''),\n",
    "            ('', ''),\n",
    "            ('', ''),\n",
    "            ('', '')]\n",
    "\n",
    "# 아래는 dummy data로 실제 데이터를 활용할 때는 위의 list를 활용\n",
    "csv_list = [('./dataset/samplejd_blank_temp.csv', 'temporary_model_0'),\n",
    "            ('./dataset/samplejd_blank_temp1.csv', 'temporary_model_1'),\n",
    "            ('./dataset/samplejd_blank_temp2.csv', 'temporary_model_2')]\n",
    "\n"
   ]
  },
  {
   "cell_type": "code",
   "execution_count": 17,
   "metadata": {},
   "outputs": [],
   "source": [
    "\n",
    "def score(csv_list : list):\n",
    "# 입력받은 model의 csv로부터 해당 model의 점수 계산(유사공고에 대한 점수합 - 다른공고에 대한 점수합)\n",
    "    def model_score(model):\n",
    "        s1 = model.query('`분류` == 1')['모델 유사도'].sum()\n",
    "        s0 = model.query('`분류` == 0')['모델 유사도'].sum()\n",
    "        return s1 - s0\n",
    "    \n",
    "        \n",
    "    models = []\n",
    "    names = []\n",
    "    for csv_dir, name in csv_list:\n",
    "        models.append(pd.read_csv(csv_dir))\n",
    "        names.append(name)\n",
    "\n",
    "    scores = []\n",
    "    for df in models:\n",
    "        scores.append(model_score(df))\n",
    "\n",
    "    max_score = max(scores)\n",
    "    idx_max = scores.index(max_score)\n",
    "\n",
    "    print('-'*30)\n",
    "    print('best_model :', names[idx_max])\n",
    "    print('score :', round(max_score, 5))\n",
    "    print('-'*30)\n",
    "\n",
    "    return names[idx_max], round(max_score, 5)\n"
   ]
  },
  {
   "cell_type": "code",
   "execution_count": 18,
   "metadata": {},
   "outputs": [
    {
     "name": "stdout",
     "output_type": "stream",
     "text": [
      "------------------------------\n",
      "best_model : temporary_model_0\n",
      "score : 21.09\n",
      "------------------------------\n"
     ]
    },
    {
     "data": {
      "text/plain": [
       "('temporary_model_0', 21.09)"
      ]
     },
     "execution_count": 18,
     "metadata": {},
     "output_type": "execute_result"
    }
   ],
   "source": [
    "score(csv_list)"
   ]
  }
 ],
 "metadata": {
  "kernelspec": {
   "display_name": "env_light",
   "language": "python",
   "name": "python3"
  },
  "language_info": {
   "codemirror_mode": {
    "name": "ipython",
    "version": 3
   },
   "file_extension": ".py",
   "mimetype": "text/x-python",
   "name": "python",
   "nbconvert_exporter": "python",
   "pygments_lexer": "ipython3",
   "version": "3.10.12"
  },
  "orig_nbformat": 4
 },
 "nbformat": 4,
 "nbformat_minor": 2
}
