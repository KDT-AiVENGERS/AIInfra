{
 "cells": [
  {
   "attachments": {},
   "cell_type": "markdown",
   "metadata": {},
   "source": [
    "## Importing Modules\n",
    "\n",
    "필요한 모듈을 Import 합니다.\n"
   ]
  },
  {
   "cell_type": "code",
   "execution_count": 1,
   "metadata": {},
   "outputs": [
    {
     "name": "stderr",
     "output_type": "stream",
     "text": [
      "/opt/homebrew/Caskroom/miniconda/base/envs/infra/lib/python3.10/site-packages/tqdm/auto.py:21: TqdmWarning: IProgress not found. Please update jupyter and ipywidgets. See https://ipywidgets.readthedocs.io/en/stable/user_install.html\n",
      "  from .autonotebook import tqdm as notebook_tqdm\n"
     ]
    }
   ],
   "source": [
    "# Modules About Hydra\n",
    "from hydra import initialize, initialize_config_module, initialize_config_dir, compose\n",
    "from hydra.utils import instantiate\n",
    "from omegaconf import DictConfig, OmegaConf\n",
    "\n",
    "# Modules About Torch, Numpy\n",
    "import numpy as np\n",
    "import torch\n",
    "import torch.nn.functional as F\n",
    "import torchmetrics\n",
    "import torchvision\n",
    "from torch import nn\n",
    "from torch.utils.data import TensorDataset, DataLoader, random_split\n",
    "from torchvision import datasets, transforms\n",
    "\n",
    "# Modules About Pytorch Lightning\n",
    "import pytorch_lightning as pl\n",
    "from pytorch_lightning import LightningModule, LightningDataModule\n",
    "from pytorch_lightning.loggers import TensorBoardLogger, WandbLogger\n",
    "from pytorch_lightning.callbacks import ModelCheckpoint, EarlyStopping, ProgressBar\n",
    "\n",
    "# Modules About Pandas, Matplotlib, Numpy\n",
    "import pandas as pd\n",
    "import matplotlib.pyplot as plt\n",
    "import seaborn as sns\n",
    "import numpy as np\n",
    "\n",
    "# Others\n",
    "from PIL import Image\n",
    "from typing import List, Any\n",
    "import sys\n",
    "import traceback\n",
    "import yaml\n",
    "import wandb\n",
    "import warnings\n",
    "warnings.filterwarnings(\"ignore\", category=UserWarning)"
   ]
  },
  {
   "attachments": {},
   "cell_type": "markdown",
   "metadata": {},
   "source": [
    "## Configure Dataset\n",
    "\n",
    "Custom Dataset을 구성합니다.\n"
   ]
  },
  {
   "cell_type": "code",
   "execution_count": 2,
   "metadata": {},
   "outputs": [],
   "source": [
    "\n",
    "class MNISTDataModule(pl.LightningDataModule):\n",
    "    def __init__(self, data_dir, batch_size, pred_batch_size, train_ratio, pred_dataset=None):\n",
    "        super().__init__()\n",
    "        self.data_dir = data_dir\n",
    "        self.batch_size = batch_size\n",
    "        self.pred_batch_size = pred_batch_size\n",
    "        self.train_ratio = train_ratio\n",
    "        self.pred_dataset = pred_dataset\n",
    "\n",
    "        # Define Transforms\n",
    "        def repeat_channels(x):\n",
    "            return x.repeat(3, 1, 1)\n",
    "\n",
    "        self.transform = transforms.Compose([\n",
    "            transforms.ToTensor()\n",
    "            # ViT expects 224x224 images\n",
    "            # transforms.Resize((224, 224), antialias=True),\n",
    "            # transforms.Lambda(repeat_channels)  # ViT expects 3 channels\n",
    "        ])\n",
    "\n",
    "    def prepare_data(self):\n",
    "        # Download MNIST Data\n",
    "        datasets.MNIST(\n",
    "            self.data_dir, train=True, download=True)\n",
    "        datasets.MNIST(\n",
    "            self.data_dir, train=False, download=True)\n",
    "\n",
    "    def setup(self, stage=None):\n",
    "        mnist_train = datasets.MNIST(\n",
    "            self.data_dir, train=True, transform=self.transform)\n",
    "        mnist_test = datasets.MNIST(\n",
    "            self.data_dir, train=False, transform=self.transform)\n",
    "\n",
    "        # Split Dataset\n",
    "\n",
    "        self.train_dataset, self.val_dataset = random_split(\n",
    "            mnist_train, list(map(lambda x: int(x * len(mnist_train)), [self.train_ratio, 1-self.train_ratio])))\n",
    "        self.test_dataset = mnist_test\n",
    "\n",
    "    # def _collate_fn(self, samples):\n",
    "    #     이 함수를 사용할 경우\n",
    "    #     DataLoader에 인자로 collate_fn=_collate_fn 를 추가해야합니다.\n",
    "    #     pass\n",
    "\n",
    "    def train_dataloader(self):\n",
    "        return DataLoader(self.train_dataset, batch_size=self.batch_size)\n",
    "\n",
    "    def val_dataloader(self):\n",
    "        return DataLoader(self.val_dataset, batch_size=self.batch_size)\n",
    "\n",
    "    def test_dataloader(self):\n",
    "        return DataLoader(self.test_dataset, batch_size=self.batch_size)\n",
    "\n",
    "    def predict_dataloader(self):\n",
    "        return DataLoader(self.pred_dataset, batch_size=self.pred_batch_size)\n",
    "\n",
    "    def predict_instantly(self, x: List[Any], y: List[int]):\n",
    "        to_tensor = torchvision.transforms.ToTensor()\n",
    "        tensor_x = torch.stack([to_tensor(item) for item in x])\n",
    "        tensor_y = torch.tensor(y)\n",
    "\n",
    "        return tensor_x, tensor_y"
   ]
  },
  {
   "attachments": {},
   "cell_type": "markdown",
   "metadata": {},
   "source": [
    "## Design Model\n",
    "\n",
    "Model 구조를 정의합니다.\n"
   ]
  },
  {
   "cell_type": "code",
   "execution_count": 3,
   "metadata": {},
   "outputs": [],
   "source": [
    "class CNNModel(pl.LightningModule):\n",
    "    def __init__(self, type):\n",
    "        super().__init__()\n",
    "        self.type = type\n",
    "        self.save_hyperparameters(\"type\")\n",
    "\n",
    "        self.model_list = {\"small\": (32, 64), \"large\": (64, 128)}\n",
    "        self.id2label = {i: i for i in range(10)}\n",
    "        self.label2id = {i: i for i in range(10)}\n",
    "        self.loss_func = nn.CrossEntropyLoss()\n",
    "        self.model = nn.Sequential(\n",
    "            # Convolutional layer 1\n",
    "            nn.Conv2d(1, self.model_list[self.type][0],\n",
    "                      kernel_size=3, stride=1, padding=1),\n",
    "            nn.ReLU(),\n",
    "            nn.MaxPool2d(kernel_size=2, stride=2),\n",
    "\n",
    "            # Convolutional layer 2\n",
    "            nn.Conv2d(self.model_list[self.type][0], self.model_list[self.type]\n",
    "                      [1], kernel_size=3, stride=1, padding=1),\n",
    "            nn.ReLU(),\n",
    "            nn.MaxPool2d(kernel_size=2, stride=2),\n",
    "\n",
    "            # Fully connected layers\n",
    "            nn.Flatten(),\n",
    "\n",
    "            nn.Linear(self.model_list[self.type][1] * 7 * 7, 128),\n",
    "            nn.ReLU(),\n",
    "\n",
    "            nn.Linear(128, 64),\n",
    "            nn.ReLU(),\n",
    "\n",
    "            nn.Linear(64, 10),  # assuming output has 10 classes\n",
    "        )\n",
    "\n",
    "    def forward(self, x, y):\n",
    "        logits = self.model(x)\n",
    "        loss = self.loss_func(logits, y)\n",
    "        return loss, logits"
   ]
  },
  {
   "attachments": {},
   "cell_type": "markdown",
   "metadata": {},
   "source": [
    "## Task Model\n",
    "\n",
    "Task 구조를 정의합니다.\n"
   ]
  },
  {
   "cell_type": "code",
   "execution_count": 4,
   "metadata": {},
   "outputs": [],
   "source": [
    "class ClassificationTask(pl.LightningModule):\n",
    "    def __init__(self, model, num_classes, optimizer, lr_scheduler=None):\n",
    "        super().__init__()\n",
    "        self.model = model\n",
    "        self.num_classes = num_classes\n",
    "        self.optimizer = optimizer\n",
    "        self.lr_scheduler = lr_scheduler\n",
    "        self.training_step_outputs = []\n",
    "        self.validation_step_outputs = []\n",
    "        self.save_hyperparameters(\"num_classes\", \"optimizer\", \"lr_scheduler\")\n",
    "\n",
    "    def forward(self, x, y):\n",
    "        x, y = x.to(self.device), y.to(self.device)\n",
    "        loss, logits = self.model(x, y)\n",
    "        return loss, logits\n",
    "\n",
    "    def training_step(self, batch, batch_idx):\n",
    "        loss, acc = self._shared_step(batch)\n",
    "        metrics = {\"train_acc\": acc, \"train_loss\": loss}\n",
    "        self.training_step_outputs.append(metrics)\n",
    "        self.log_dict(metrics, prog_bar=True)\n",
    "        return loss\n",
    "\n",
    "    # def on_train_epoch_end(self):\n",
    "    #     pass\n",
    "\n",
    "    def validation_step(self, batch, batch_idx):\n",
    "        loss, acc = self._shared_step(batch)\n",
    "        metrics = {\"val_acc\": acc, \"val_loss\": loss}\n",
    "        self.validation_step_outputs.append(metrics)\n",
    "        self.log_dict(metrics)\n",
    "\n",
    "    def on_validation_epoch_end(self):\n",
    "        if self.training_step_outputs:\n",
    "            train_avg_loss = torch.stack([x[\"train_loss\"]\n",
    "                                          for x in self.training_step_outputs]).mean()\n",
    "            train_avg_acc = torch.stack([x[\"train_acc\"]\n",
    "                                        for x in self.training_step_outputs]).mean()\n",
    "            metrics = {\"train_avg_acc\": train_avg_acc,\n",
    "                       \"train_avg_loss\": train_avg_loss}\n",
    "            self.log_dict(metrics)\n",
    "        else:\n",
    "            return\n",
    "        if self.validation_step_outputs:\n",
    "            val_avg_loss = torch.stack([x[\"val_loss\"]\n",
    "                                        for x in self.validation_step_outputs]).mean()\n",
    "            val_avg_acc = torch.stack([x[\"val_acc\"]\n",
    "                                       for x in self.validation_step_outputs]).mean()\n",
    "            metrics = {\"val_avg_acc\": val_avg_acc,\n",
    "                       \"val_avg_loss\": val_avg_loss}\n",
    "            self.log_dict(metrics)\n",
    "        else:\n",
    "            return\n",
    "        print(\"\\n\" +\n",
    "              (f'Epoch {self.current_epoch}, Avg. Training Loss: {train_avg_loss:.3f}, Avg. Training Accuracy: {train_avg_acc:.3f} ' +\n",
    "               f'Avg. Validation Loss: {val_avg_loss:.3f}, Avg. Validation Accuracy: {val_avg_acc:.3f}'), flush=True)\n",
    "        self.training_step_outputs.clear()\n",
    "        self.validation_step_outputs.clear()\n",
    "\n",
    "    def test_step(self, batch, batch_idx):\n",
    "        loss, acc = self._shared_step(batch)\n",
    "        metrics = {\"test_acc\": acc, \"test_loss\": loss}\n",
    "        self.log_dict(metrics, prog_bar=True)\n",
    "\n",
    "    def _shared_step(self, batch):\n",
    "        x, y = batch\n",
    "        loss, logits = self.model(x, y)\n",
    "        acc_fn = torchmetrics.classification.MulticlassAccuracy(\n",
    "            num_classes=self.num_classes).to(self.device)\n",
    "        acc = acc_fn(logits, y)\n",
    "        return loss, acc\n",
    "\n",
    "    def predict_step(self, batch, batch_idx, dataloader_idx=0):\n",
    "        x, y = batch\n",
    "        loss, logits = self.model(x, y)\n",
    "        return loss, logits\n",
    "\n",
    "    def configure_optimizers(self):\n",
    "        optimizer = self.optimizer\n",
    "        if self.lr_scheduler is not None:\n",
    "            return [optimizer], [self.lr_scheduler]\n",
    "        else:\n",
    "            return optimizer\n",
    "\n",
    "        # return torch.optim.AdamW(self.model.parameters(), lr=2e-5)\n"
   ]
  },
  {
   "cell_type": "code",
   "execution_count": 5,
   "metadata": {},
   "outputs": [
    {
     "name": "stdout",
     "output_type": "stream",
     "text": [
      "⭐️\n"
     ]
    }
   ],
   "source": [
    "with initialize(version_base=None, config_path=\"./\"):\n",
    "    cfg = compose(config_name=\"config.yaml\")\n",
    "if \"batch_size\" in cfg.data:\n",
    "    print(\"⭐️\")\n",
    "else:\n",
    "    print(\"🔥\")\n"
   ]
  },
  {
   "attachments": {},
   "cell_type": "markdown",
   "metadata": {},
   "source": [
    "## Model Training\n",
    "\n",
    "Model Training을 수행합니다.\n"
   ]
  },
  {
   "cell_type": "code",
   "execution_count": 6,
   "metadata": {},
   "outputs": [
    {
     "name": "stderr",
     "output_type": "stream",
     "text": [
      "Failed to detect the name of this notebook, you can set it manually with the WANDB_NOTEBOOK_NAME environment variable to enable code saving.\n"
     ]
    },
    {
     "name": "stdout",
     "output_type": "stream",
     "text": [
      "Create sweep with ID: 0nf73hon\n",
      "Sweep URL: https://wandb.ai/suwon-pabby/sweep-test/sweeps/0nf73hon\n"
     ]
    },
    {
     "name": "stderr",
     "output_type": "stream",
     "text": [
      "\u001b[34m\u001b[1mwandb\u001b[0m: Agent Starting Run: hecpj0v8 with config:\n",
      "\u001b[34m\u001b[1mwandb\u001b[0m: \tbatch_size: 64\n",
      "\u001b[34m\u001b[1mwandb\u001b[0m: \ttype: small\n",
      "Failed to detect the name of this notebook, you can set it manually with the WANDB_NOTEBOOK_NAME environment variable to enable code saving.\n",
      "\u001b[34m\u001b[1mwandb\u001b[0m: Currently logged in as: \u001b[33msuwon-pabby\u001b[0m. Use \u001b[1m`wandb login --relogin`\u001b[0m to force relogin\n"
     ]
    },
    {
     "data": {
      "text/html": [
       "wandb version 0.15.6 is available!  To upgrade, please run:\n",
       " $ pip install wandb --upgrade"
      ],
      "text/plain": [
       "<IPython.core.display.HTML object>"
      ]
     },
     "metadata": {},
     "output_type": "display_data"
    },
    {
     "data": {
      "text/html": [
       "Tracking run with wandb version 0.15.5"
      ],
      "text/plain": [
       "<IPython.core.display.HTML object>"
      ]
     },
     "metadata": {},
     "output_type": "display_data"
    },
    {
     "data": {
      "text/html": [
       "Run data is saved locally in <code>/Users/lee/Desktop/이의진/Programmers/finalProject/AIInfra/baselines/wandb/run-20230725_140937-hecpj0v8</code>"
      ],
      "text/plain": [
       "<IPython.core.display.HTML object>"
      ]
     },
     "metadata": {},
     "output_type": "display_data"
    },
    {
     "data": {
      "text/html": [
       "Syncing run <strong><a href='https://wandb.ai/suwon-pabby/sweep-test/runs/hecpj0v8' target=\"_blank\">v16_s0</a></strong> to <a href='https://wandb.ai/suwon-pabby/sweep-test' target=\"_blank\">Weights & Biases</a> (<a href='https://wandb.me/run' target=\"_blank\">docs</a>)<br/>Sweep page: <a href='https://wandb.ai/suwon-pabby/sweep-test/sweeps/0nf73hon' target=\"_blank\">https://wandb.ai/suwon-pabby/sweep-test/sweeps/0nf73hon</a>"
      ],
      "text/plain": [
       "<IPython.core.display.HTML object>"
      ]
     },
     "metadata": {},
     "output_type": "display_data"
    },
    {
     "data": {
      "text/html": [
       " View project at <a href='https://wandb.ai/suwon-pabby/sweep-test' target=\"_blank\">https://wandb.ai/suwon-pabby/sweep-test</a>"
      ],
      "text/plain": [
       "<IPython.core.display.HTML object>"
      ]
     },
     "metadata": {},
     "output_type": "display_data"
    },
    {
     "data": {
      "text/html": [
       " View sweep at <a href='https://wandb.ai/suwon-pabby/sweep-test/sweeps/0nf73hon' target=\"_blank\">https://wandb.ai/suwon-pabby/sweep-test/sweeps/0nf73hon</a>"
      ],
      "text/plain": [
       "<IPython.core.display.HTML object>"
      ]
     },
     "metadata": {},
     "output_type": "display_data"
    },
    {
     "data": {
      "text/html": [
       " View run at <a href='https://wandb.ai/suwon-pabby/sweep-test/runs/hecpj0v8' target=\"_blank\">https://wandb.ai/suwon-pabby/sweep-test/runs/hecpj0v8</a>"
      ],
      "text/plain": [
       "<IPython.core.display.HTML object>"
      ]
     },
     "metadata": {},
     "output_type": "display_data"
    },
    {
     "name": "stderr",
     "output_type": "stream",
     "text": [
      "GPU available: True (mps), used: True\n",
      "TPU available: False, using: 0 TPU cores\n",
      "IPU available: False, using: 0 IPUs\n",
      "HPU available: False, using: 0 HPUs\n",
      "\n",
      "  | Name  | Type     | Params\n",
      "-----------------------------------\n",
      "0 | model | CNNModel | 429 K \n",
      "-----------------------------------\n",
      "429 K     Trainable params\n",
      "0         Non-trainable params\n",
      "429 K     Total params\n",
      "1.717     Total estimated model params size (MB)\n"
     ]
    },
    {
     "name": "stdout",
     "output_type": "stream",
     "text": [
      "Epoch 0: 100%|██████████| 563/563 [00:21<00:00, 26.41it/s, v_num=j0v8, train_acc=0.780, train_loss=1.110]\n",
      "Epoch 0, Avg. Training Loss: 1.870, Avg. Training Accuracy: 0.474 Avg. Validation Loss: 1.126, Avg. Validation Accuracy: 0.733\n",
      "Epoch 1: 100%|██████████| 563/563 [00:21<00:00, 25.76it/s, v_num=j0v8, train_acc=0.897, train_loss=0.593]\n",
      "Epoch 1, Avg. Training Loss: 0.743, Avg. Training Accuracy: 0.806 Avg. Validation Loss: 0.544, Avg. Validation Accuracy: 0.844\n",
      "Epoch 1: 100%|██████████| 563/563 [00:33<00:00, 16.68it/s, v_num=j0v8, train_acc=0.897, train_loss=0.593]"
     ]
    },
    {
     "name": "stderr",
     "output_type": "stream",
     "text": [
      "`Trainer.fit` stopped: `max_epochs=2` reached.\n"
     ]
    },
    {
     "name": "stdout",
     "output_type": "stream",
     "text": [
      "Epoch 1: 100%|██████████| 563/563 [00:33<00:00, 16.66it/s, v_num=j0v8, train_acc=0.897, train_loss=0.593]\n",
      "Testing DataLoader 0: 100%|██████████| 157/157 [00:04<00:00, 35.46it/s]\n"
     ]
    },
    {
     "data": {
      "text/html": [
       "<pre style=\"white-space:pre;overflow-x:auto;line-height:normal;font-family:Menlo,'DejaVu Sans Mono',consolas,'Courier New',monospace\">┏━━━━━━━━━━━━━━━━━━━━━━━━━━━┳━━━━━━━━━━━━━━━━━━━━━━━━━━━┓\n",
       "┃<span style=\"font-weight: bold\">        Test metric        </span>┃<span style=\"font-weight: bold\">       DataLoader 0        </span>┃\n",
       "┡━━━━━━━━━━━━━━━━━━━━━━━━━━━╇━━━━━━━━━━━━━━━━━━━━━━━━━━━┩\n",
       "│<span style=\"color: #008080; text-decoration-color: #008080\">         test_acc          </span>│<span style=\"color: #800080; text-decoration-color: #800080\">     0.852293848991394     </span>│\n",
       "│<span style=\"color: #008080; text-decoration-color: #008080\">         test_loss         </span>│<span style=\"color: #800080; text-decoration-color: #800080\">    0.5316355228424072     </span>│\n",
       "└───────────────────────────┴───────────────────────────┘\n",
       "</pre>\n"
      ],
      "text/plain": [
       "┏━━━━━━━━━━━━━━━━━━━━━━━━━━━┳━━━━━━━━━━━━━━━━━━━━━━━━━━━┓\n",
       "┃\u001b[1m \u001b[0m\u001b[1m       Test metric       \u001b[0m\u001b[1m \u001b[0m┃\u001b[1m \u001b[0m\u001b[1m      DataLoader 0       \u001b[0m\u001b[1m \u001b[0m┃\n",
       "┡━━━━━━━━━━━━━━━━━━━━━━━━━━━╇━━━━━━━━━━━━━━━━━━━━━━━━━━━┩\n",
       "│\u001b[36m \u001b[0m\u001b[36m        test_acc         \u001b[0m\u001b[36m \u001b[0m│\u001b[35m \u001b[0m\u001b[35m    0.852293848991394    \u001b[0m\u001b[35m \u001b[0m│\n",
       "│\u001b[36m \u001b[0m\u001b[36m        test_loss        \u001b[0m\u001b[36m \u001b[0m│\u001b[35m \u001b[0m\u001b[35m   0.5316355228424072    \u001b[0m\u001b[35m \u001b[0m│\n",
       "└───────────────────────────┴───────────────────────────┘\n"
      ]
     },
     "metadata": {},
     "output_type": "display_data"
    },
    {
     "data": {
      "text/html": [
       "Waiting for W&B process to finish... <strong style=\"color:green\">(success).</strong>"
      ],
      "text/plain": [
       "<IPython.core.display.HTML object>"
      ]
     },
     "metadata": {},
     "output_type": "display_data"
    },
    {
     "data": {
      "text/html": [
       "<style>\n",
       "    table.wandb td:nth-child(1) { padding: 0 10px; text-align: left ; width: auto;} td:nth-child(2) {text-align: left ; width: 100%}\n",
       "    .wandb-row { display: flex; flex-direction: row; flex-wrap: wrap; justify-content: flex-start; width: 100% }\n",
       "    .wandb-col { display: flex; flex-direction: column; flex-basis: 100%; flex: 1; padding: 10px; }\n",
       "    </style>\n",
       "<div class=\"wandb-row\"><div class=\"wandb-col\"><h3>Run history:</h3><br/><table class=\"wandb\"><tr><td>epoch</td><td>▁▁▁▁▁▁▁▁▁▁▁▁▅▅▅▅▅▅▅▅▅▅▅▅█</td></tr><tr><td>test_acc</td><td>▁</td></tr><tr><td>test_loss</td><td>▁</td></tr><tr><td>train_acc</td><td>▁▁▂▄▅▅▅▆▆▆▇▇▅▇▇▆▇▆▆▇▆█</td></tr><tr><td>train_avg_acc</td><td>▁█</td></tr><tr><td>train_avg_loss</td><td>█▁</td></tr><tr><td>train_loss</td><td>████▇▇▇▅▅▅▃▃▄▃▂▂▂▂▃▂▂▁</td></tr><tr><td>trainer/global_step</td><td>▁▁▂▂▂▃▃▃▄▄▄▄▅▅▅▆▆▆▇▇▇▇███</td></tr><tr><td>val_acc</td><td>▁█</td></tr><tr><td>val_avg_acc</td><td>▁█</td></tr><tr><td>val_avg_loss</td><td>█▁</td></tr><tr><td>val_loss</td><td>█▁</td></tr></table><br/></div><div class=\"wandb-col\"><h3>Run summary:</h3><br/><table class=\"wandb\"><tr><td>epoch</td><td>2</td></tr><tr><td>test_acc</td><td>0.85229</td></tr><tr><td>test_loss</td><td>0.53164</td></tr><tr><td>train_acc</td><td>0.98333</td></tr><tr><td>train_avg_acc</td><td>0.8063</td></tr><tr><td>train_avg_loss</td><td>0.74269</td></tr><tr><td>train_loss</td><td>0.30483</td></tr><tr><td>trainer/global_step</td><td>1126</td></tr><tr><td>val_acc</td><td>0.84357</td></tr><tr><td>val_avg_acc</td><td>0.84357</td></tr><tr><td>val_avg_loss</td><td>0.54422</td></tr><tr><td>val_loss</td><td>0.54422</td></tr></table><br/></div></div>"
      ],
      "text/plain": [
       "<IPython.core.display.HTML object>"
      ]
     },
     "metadata": {},
     "output_type": "display_data"
    },
    {
     "data": {
      "text/html": [
       " View run <strong style=\"color:#cdcd00\">v16_s0</strong> at: <a href='https://wandb.ai/suwon-pabby/sweep-test/runs/hecpj0v8' target=\"_blank\">https://wandb.ai/suwon-pabby/sweep-test/runs/hecpj0v8</a><br/>Synced 6 W&B file(s), 0 media file(s), 0 artifact file(s) and 0 other file(s)"
      ],
      "text/plain": [
       "<IPython.core.display.HTML object>"
      ]
     },
     "metadata": {},
     "output_type": "display_data"
    },
    {
     "data": {
      "text/html": [
       "Find logs at: <code>./wandb/run-20230725_140937-hecpj0v8/logs</code>"
      ],
      "text/plain": [
       "<IPython.core.display.HTML object>"
      ]
     },
     "metadata": {},
     "output_type": "display_data"
    },
    {
     "name": "stderr",
     "output_type": "stream",
     "text": [
      "\u001b[34m\u001b[1mwandb\u001b[0m: Agent Starting Run: q1a6q37e with config:\n",
      "\u001b[34m\u001b[1mwandb\u001b[0m: \tbatch_size: 128\n",
      "\u001b[34m\u001b[1mwandb\u001b[0m: \ttype: small\n",
      "Failed to detect the name of this notebook, you can set it manually with the WANDB_NOTEBOOK_NAME environment variable to enable code saving.\n"
     ]
    },
    {
     "data": {
      "text/html": [
       "wandb version 0.15.6 is available!  To upgrade, please run:\n",
       " $ pip install wandb --upgrade"
      ],
      "text/plain": [
       "<IPython.core.display.HTML object>"
      ]
     },
     "metadata": {},
     "output_type": "display_data"
    },
    {
     "data": {
      "text/html": [
       "Tracking run with wandb version 0.15.5"
      ],
      "text/plain": [
       "<IPython.core.display.HTML object>"
      ]
     },
     "metadata": {},
     "output_type": "display_data"
    },
    {
     "data": {
      "text/html": [
       "Run data is saved locally in <code>/Users/lee/Desktop/이의진/Programmers/finalProject/AIInfra/baselines/wandb/run-20230725_141102-q1a6q37e</code>"
      ],
      "text/plain": [
       "<IPython.core.display.HTML object>"
      ]
     },
     "metadata": {},
     "output_type": "display_data"
    },
    {
     "data": {
      "text/html": [
       "Syncing run <strong><a href='https://wandb.ai/suwon-pabby/sweep-test/runs/q1a6q37e' target=\"_blank\">v16_s1</a></strong> to <a href='https://wandb.ai/suwon-pabby/sweep-test' target=\"_blank\">Weights & Biases</a> (<a href='https://wandb.me/run' target=\"_blank\">docs</a>)<br/>Sweep page: <a href='https://wandb.ai/suwon-pabby/sweep-test/sweeps/0nf73hon' target=\"_blank\">https://wandb.ai/suwon-pabby/sweep-test/sweeps/0nf73hon</a>"
      ],
      "text/plain": [
       "<IPython.core.display.HTML object>"
      ]
     },
     "metadata": {},
     "output_type": "display_data"
    },
    {
     "data": {
      "text/html": [
       " View project at <a href='https://wandb.ai/suwon-pabby/sweep-test' target=\"_blank\">https://wandb.ai/suwon-pabby/sweep-test</a>"
      ],
      "text/plain": [
       "<IPython.core.display.HTML object>"
      ]
     },
     "metadata": {},
     "output_type": "display_data"
    },
    {
     "data": {
      "text/html": [
       " View sweep at <a href='https://wandb.ai/suwon-pabby/sweep-test/sweeps/0nf73hon' target=\"_blank\">https://wandb.ai/suwon-pabby/sweep-test/sweeps/0nf73hon</a>"
      ],
      "text/plain": [
       "<IPython.core.display.HTML object>"
      ]
     },
     "metadata": {},
     "output_type": "display_data"
    },
    {
     "data": {
      "text/html": [
       " View run at <a href='https://wandb.ai/suwon-pabby/sweep-test/runs/q1a6q37e' target=\"_blank\">https://wandb.ai/suwon-pabby/sweep-test/runs/q1a6q37e</a>"
      ],
      "text/plain": [
       "<IPython.core.display.HTML object>"
      ]
     },
     "metadata": {},
     "output_type": "display_data"
    },
    {
     "name": "stderr",
     "output_type": "stream",
     "text": [
      "GPU available: True (mps), used: True\n",
      "TPU available: False, using: 0 TPU cores\n",
      "IPU available: False, using: 0 IPUs\n",
      "HPU available: False, using: 0 HPUs\n",
      "\n",
      "  | Name  | Type     | Params\n",
      "-----------------------------------\n",
      "0 | model | CNNModel | 429 K \n",
      "-----------------------------------\n",
      "429 K     Trainable params\n",
      "0         Non-trainable params\n",
      "429 K     Total params\n",
      "1.717     Total estimated model params size (MB)\n"
     ]
    },
    {
     "name": "stdout",
     "output_type": "stream",
     "text": [
      "Epoch 0: 100%|██████████| 282/282 [00:11<00:00, 24.53it/s, v_num=q37e, train_acc=0.800, train_loss=1.770]\n",
      "Epoch 0, Avg. Training Loss: 2.151, Avg. Training Accuracy: 0.411 Avg. Validation Loss: 1.829, Avg. Validation Accuracy: 0.684\n",
      "Epoch 1: 100%|██████████| 282/282 [00:11<00:00, 24.98it/s, v_num=q37e, train_acc=0.883, train_loss=0.759]\n",
      "Epoch 1, Avg. Training Loss: 1.318, Avg. Training Accuracy: 0.737 Avg. Validation Loss: 0.925, Avg. Validation Accuracy: 0.779\n",
      "Epoch 1: 100%|██████████| 282/282 [00:17<00:00, 16.43it/s, v_num=q37e, train_acc=0.883, train_loss=0.759]"
     ]
    },
    {
     "name": "stderr",
     "output_type": "stream",
     "text": [
      "`Trainer.fit` stopped: `max_epochs=2` reached.\n"
     ]
    },
    {
     "name": "stdout",
     "output_type": "stream",
     "text": [
      "Epoch 1: 100%|██████████| 282/282 [00:17<00:00, 16.35it/s, v_num=q37e, train_acc=0.883, train_loss=0.759]\n",
      "Testing DataLoader 0: 100%|██████████| 79/79 [00:02<00:00, 30.39it/s]\n"
     ]
    },
    {
     "data": {
      "text/html": [
       "<pre style=\"white-space:pre;overflow-x:auto;line-height:normal;font-family:Menlo,'DejaVu Sans Mono',consolas,'Courier New',monospace\">┏━━━━━━━━━━━━━━━━━━━━━━━━━━━┳━━━━━━━━━━━━━━━━━━━━━━━━━━━┓\n",
       "┃<span style=\"font-weight: bold\">        Test metric        </span>┃<span style=\"font-weight: bold\">       DataLoader 0        </span>┃\n",
       "┡━━━━━━━━━━━━━━━━━━━━━━━━━━━╇━━━━━━━━━━━━━━━━━━━━━━━━━━━┩\n",
       "│<span style=\"color: #008080; text-decoration-color: #008080\">         test_acc          </span>│<span style=\"color: #800080; text-decoration-color: #800080\">     0.791862964630127     </span>│\n",
       "│<span style=\"color: #008080; text-decoration-color: #008080\">         test_loss         </span>│<span style=\"color: #800080; text-decoration-color: #800080\">    0.9065349698066711     </span>│\n",
       "└───────────────────────────┴───────────────────────────┘\n",
       "</pre>\n"
      ],
      "text/plain": [
       "┏━━━━━━━━━━━━━━━━━━━━━━━━━━━┳━━━━━━━━━━━━━━━━━━━━━━━━━━━┓\n",
       "┃\u001b[1m \u001b[0m\u001b[1m       Test metric       \u001b[0m\u001b[1m \u001b[0m┃\u001b[1m \u001b[0m\u001b[1m      DataLoader 0       \u001b[0m\u001b[1m \u001b[0m┃\n",
       "┡━━━━━━━━━━━━━━━━━━━━━━━━━━━╇━━━━━━━━━━━━━━━━━━━━━━━━━━━┩\n",
       "│\u001b[36m \u001b[0m\u001b[36m        test_acc         \u001b[0m\u001b[36m \u001b[0m│\u001b[35m \u001b[0m\u001b[35m    0.791862964630127    \u001b[0m\u001b[35m \u001b[0m│\n",
       "│\u001b[36m \u001b[0m\u001b[36m        test_loss        \u001b[0m\u001b[36m \u001b[0m│\u001b[35m \u001b[0m\u001b[35m   0.9065349698066711    \u001b[0m\u001b[35m \u001b[0m│\n",
       "└───────────────────────────┴───────────────────────────┘\n"
      ]
     },
     "metadata": {},
     "output_type": "display_data"
    },
    {
     "data": {
      "text/html": [
       "Waiting for W&B process to finish... <strong style=\"color:green\">(success).</strong>"
      ],
      "text/plain": [
       "<IPython.core.display.HTML object>"
      ]
     },
     "metadata": {},
     "output_type": "display_data"
    },
    {
     "data": {
      "text/html": [
       "<style>\n",
       "    table.wandb td:nth-child(1) { padding: 0 10px; text-align: left ; width: auto;} td:nth-child(2) {text-align: left ; width: 100%}\n",
       "    .wandb-row { display: flex; flex-direction: row; flex-wrap: wrap; justify-content: flex-start; width: 100% }\n",
       "    .wandb-col { display: flex; flex-direction: column; flex-basis: 100%; flex: 1; padding: 10px; }\n",
       "    </style>\n",
       "<div class=\"wandb-row\"><div class=\"wandb-col\"><h3>Run history:</h3><br/><table class=\"wandb\"><tr><td>epoch</td><td>▁▁▁▁▁▁▅▅▅▅▅▅▅█</td></tr><tr><td>test_acc</td><td>▁</td></tr><tr><td>test_loss</td><td>▁</td></tr><tr><td>train_acc</td><td>▁▂▄▆▇█▇█▇█▇</td></tr><tr><td>train_avg_acc</td><td>▁█</td></tr><tr><td>train_avg_loss</td><td>█▁</td></tr><tr><td>train_loss</td><td>███▇▆▅▄▃▃▂▁</td></tr><tr><td>trainer/global_step</td><td>▁▂▂▃▄▄▄▅▆▆▇███</td></tr><tr><td>val_acc</td><td>▁█</td></tr><tr><td>val_avg_acc</td><td>▁█</td></tr><tr><td>val_avg_loss</td><td>█▁</td></tr><tr><td>val_loss</td><td>█▁</td></tr></table><br/></div><div class=\"wandb-col\"><h3>Run summary:</h3><br/><table class=\"wandb\"><tr><td>epoch</td><td>2</td></tr><tr><td>test_acc</td><td>0.79186</td></tr><tr><td>test_loss</td><td>0.90653</td></tr><tr><td>train_acc</td><td>0.73004</td></tr><tr><td>train_avg_acc</td><td>0.73731</td></tr><tr><td>train_avg_loss</td><td>1.31821</td></tr><tr><td>train_loss</td><td>0.90916</td></tr><tr><td>trainer/global_step</td><td>564</td></tr><tr><td>val_acc</td><td>0.77941</td></tr><tr><td>val_avg_acc</td><td>0.77938</td></tr><tr><td>val_avg_loss</td><td>0.92469</td></tr><tr><td>val_loss</td><td>0.92477</td></tr></table><br/></div></div>"
      ],
      "text/plain": [
       "<IPython.core.display.HTML object>"
      ]
     },
     "metadata": {},
     "output_type": "display_data"
    },
    {
     "data": {
      "text/html": [
       " View run <strong style=\"color:#cdcd00\">v16_s1</strong> at: <a href='https://wandb.ai/suwon-pabby/sweep-test/runs/q1a6q37e' target=\"_blank\">https://wandb.ai/suwon-pabby/sweep-test/runs/q1a6q37e</a><br/>Synced 6 W&B file(s), 0 media file(s), 0 artifact file(s) and 0 other file(s)"
      ],
      "text/plain": [
       "<IPython.core.display.HTML object>"
      ]
     },
     "metadata": {},
     "output_type": "display_data"
    },
    {
     "data": {
      "text/html": [
       "Find logs at: <code>./wandb/run-20230725_141102-q1a6q37e/logs</code>"
      ],
      "text/plain": [
       "<IPython.core.display.HTML object>"
      ]
     },
     "metadata": {},
     "output_type": "display_data"
    },
    {
     "name": "stderr",
     "output_type": "stream",
     "text": [
      "\u001b[34m\u001b[1mwandb\u001b[0m: Sweep Agent: Waiting for job.\n",
      "\u001b[34m\u001b[1mwandb\u001b[0m: Job received.\n",
      "\u001b[34m\u001b[1mwandb\u001b[0m: Agent Starting Run: 8fykijpu with config:\n",
      "\u001b[34m\u001b[1mwandb\u001b[0m: \tbatch_size: 64\n",
      "\u001b[34m\u001b[1mwandb\u001b[0m: \ttype: large\n",
      "Failed to detect the name of this notebook, you can set it manually with the WANDB_NOTEBOOK_NAME environment variable to enable code saving.\n"
     ]
    },
    {
     "data": {
      "text/html": [
       "wandb version 0.15.6 is available!  To upgrade, please run:\n",
       " $ pip install wandb --upgrade"
      ],
      "text/plain": [
       "<IPython.core.display.HTML object>"
      ]
     },
     "metadata": {},
     "output_type": "display_data"
    },
    {
     "data": {
      "text/html": [
       "Tracking run with wandb version 0.15.5"
      ],
      "text/plain": [
       "<IPython.core.display.HTML object>"
      ]
     },
     "metadata": {},
     "output_type": "display_data"
    },
    {
     "data": {
      "text/html": [
       "Run data is saved locally in <code>/Users/lee/Desktop/이의진/Programmers/finalProject/AIInfra/baselines/wandb/run-20230725_141200-8fykijpu</code>"
      ],
      "text/plain": [
       "<IPython.core.display.HTML object>"
      ]
     },
     "metadata": {},
     "output_type": "display_data"
    },
    {
     "data": {
      "text/html": [
       "Syncing run <strong><a href='https://wandb.ai/suwon-pabby/sweep-test/runs/8fykijpu' target=\"_blank\">v16_s2</a></strong> to <a href='https://wandb.ai/suwon-pabby/sweep-test' target=\"_blank\">Weights & Biases</a> (<a href='https://wandb.me/run' target=\"_blank\">docs</a>)<br/>Sweep page: <a href='https://wandb.ai/suwon-pabby/sweep-test/sweeps/0nf73hon' target=\"_blank\">https://wandb.ai/suwon-pabby/sweep-test/sweeps/0nf73hon</a>"
      ],
      "text/plain": [
       "<IPython.core.display.HTML object>"
      ]
     },
     "metadata": {},
     "output_type": "display_data"
    },
    {
     "data": {
      "text/html": [
       " View project at <a href='https://wandb.ai/suwon-pabby/sweep-test' target=\"_blank\">https://wandb.ai/suwon-pabby/sweep-test</a>"
      ],
      "text/plain": [
       "<IPython.core.display.HTML object>"
      ]
     },
     "metadata": {},
     "output_type": "display_data"
    },
    {
     "data": {
      "text/html": [
       " View sweep at <a href='https://wandb.ai/suwon-pabby/sweep-test/sweeps/0nf73hon' target=\"_blank\">https://wandb.ai/suwon-pabby/sweep-test/sweeps/0nf73hon</a>"
      ],
      "text/plain": [
       "<IPython.core.display.HTML object>"
      ]
     },
     "metadata": {},
     "output_type": "display_data"
    },
    {
     "data": {
      "text/html": [
       " View run at <a href='https://wandb.ai/suwon-pabby/sweep-test/runs/8fykijpu' target=\"_blank\">https://wandb.ai/suwon-pabby/sweep-test/runs/8fykijpu</a>"
      ],
      "text/plain": [
       "<IPython.core.display.HTML object>"
      ]
     },
     "metadata": {},
     "output_type": "display_data"
    },
    {
     "name": "stderr",
     "output_type": "stream",
     "text": [
      "GPU available: True (mps), used: True\n",
      "TPU available: False, using: 0 TPU cores\n",
      "IPU available: False, using: 0 IPUs\n",
      "HPU available: False, using: 0 HPUs\n",
      "\n",
      "  | Name  | Type     | Params\n",
      "-----------------------------------\n",
      "0 | model | CNNModel | 886 K \n",
      "-----------------------------------\n",
      "886 K     Trainable params\n",
      "0         Non-trainable params\n",
      "886 K     Total params\n",
      "3.545     Total estimated model params size (MB)\n"
     ]
    },
    {
     "name": "stdout",
     "output_type": "stream",
     "text": [
      "Epoch 0: 100%|██████████| 563/563 [00:22<00:00, 24.65it/s, v_num=ijpu, train_acc=0.845, train_loss=0.737]\n",
      "Epoch 0, Avg. Training Loss: 1.487, Avg. Training Accuracy: 0.605 Avg. Validation Loss: 0.678, Avg. Validation Accuracy: 0.815\n",
      "Epoch 1: 100%|██████████| 563/563 [00:24<00:00, 22.66it/s, v_num=ijpu, train_acc=0.885, train_loss=0.389]\n",
      "Epoch 1, Avg. Training Loss: 0.505, Avg. Training Accuracy: 0.859 Avg. Validation Loss: 0.401, Avg. Validation Accuracy: 0.880\n",
      "Epoch 1: 100%|██████████| 563/563 [00:37<00:00, 15.02it/s, v_num=ijpu, train_acc=0.885, train_loss=0.389]"
     ]
    },
    {
     "name": "stderr",
     "output_type": "stream",
     "text": [
      "`Trainer.fit` stopped: `max_epochs=2` reached.\n"
     ]
    },
    {
     "name": "stdout",
     "output_type": "stream",
     "text": [
      "Epoch 1: 100%|██████████| 563/563 [00:37<00:00, 14.99it/s, v_num=ijpu, train_acc=0.885, train_loss=0.389]\n",
      "Testing DataLoader 0: 100%|██████████| 157/157 [00:04<00:00, 32.89it/s]\n"
     ]
    },
    {
     "data": {
      "text/html": [
       "<pre style=\"white-space:pre;overflow-x:auto;line-height:normal;font-family:Menlo,'DejaVu Sans Mono',consolas,'Courier New',monospace\">┏━━━━━━━━━━━━━━━━━━━━━━━━━━━┳━━━━━━━━━━━━━━━━━━━━━━━━━━━┓\n",
       "┃<span style=\"font-weight: bold\">        Test metric        </span>┃<span style=\"font-weight: bold\">       DataLoader 0        </span>┃\n",
       "┡━━━━━━━━━━━━━━━━━━━━━━━━━━━╇━━━━━━━━━━━━━━━━━━━━━━━━━━━┩\n",
       "│<span style=\"color: #008080; text-decoration-color: #008080\">         test_acc          </span>│<span style=\"color: #800080; text-decoration-color: #800080\">    0.8926673531532288     </span>│\n",
       "│<span style=\"color: #008080; text-decoration-color: #008080\">         test_loss         </span>│<span style=\"color: #800080; text-decoration-color: #800080\">    0.38053107261657715    </span>│\n",
       "└───────────────────────────┴───────────────────────────┘\n",
       "</pre>\n"
      ],
      "text/plain": [
       "┏━━━━━━━━━━━━━━━━━━━━━━━━━━━┳━━━━━━━━━━━━━━━━━━━━━━━━━━━┓\n",
       "┃\u001b[1m \u001b[0m\u001b[1m       Test metric       \u001b[0m\u001b[1m \u001b[0m┃\u001b[1m \u001b[0m\u001b[1m      DataLoader 0       \u001b[0m\u001b[1m \u001b[0m┃\n",
       "┡━━━━━━━━━━━━━━━━━━━━━━━━━━━╇━━━━━━━━━━━━━━━━━━━━━━━━━━━┩\n",
       "│\u001b[36m \u001b[0m\u001b[36m        test_acc         \u001b[0m\u001b[36m \u001b[0m│\u001b[35m \u001b[0m\u001b[35m   0.8926673531532288    \u001b[0m\u001b[35m \u001b[0m│\n",
       "│\u001b[36m \u001b[0m\u001b[36m        test_loss        \u001b[0m\u001b[36m \u001b[0m│\u001b[35m \u001b[0m\u001b[35m   0.38053107261657715   \u001b[0m\u001b[35m \u001b[0m│\n",
       "└───────────────────────────┴───────────────────────────┘\n"
      ]
     },
     "metadata": {},
     "output_type": "display_data"
    },
    {
     "data": {
      "text/html": [
       "Waiting for W&B process to finish... <strong style=\"color:green\">(success).</strong>"
      ],
      "text/plain": [
       "<IPython.core.display.HTML object>"
      ]
     },
     "metadata": {},
     "output_type": "display_data"
    },
    {
     "data": {
      "text/html": [
       "<style>\n",
       "    table.wandb td:nth-child(1) { padding: 0 10px; text-align: left ; width: auto;} td:nth-child(2) {text-align: left ; width: 100%}\n",
       "    .wandb-row { display: flex; flex-direction: row; flex-wrap: wrap; justify-content: flex-start; width: 100% }\n",
       "    .wandb-col { display: flex; flex-direction: column; flex-basis: 100%; flex: 1; padding: 10px; }\n",
       "    </style>\n",
       "<div class=\"wandb-row\"><div class=\"wandb-col\"><h3>Run history:</h3><br/><table class=\"wandb\"><tr><td>epoch</td><td>▁▁▁▁▁▁▁▁▁▁▁▁▅▅▅▅▅▅▅▅▅▅▅▅█</td></tr><tr><td>test_acc</td><td>▁</td></tr><tr><td>test_loss</td><td>▁</td></tr><tr><td>train_acc</td><td>▁▂▃▄▆▆▆▆▆▇▆▇▇▇▇▇▇██▇█▇</td></tr><tr><td>train_avg_acc</td><td>▁█</td></tr><tr><td>train_avg_loss</td><td>█▁</td></tr><tr><td>train_loss</td><td>██▇▆▆▅▄▃▃▃▂▂▂▂▂▂▂▁▂▁▁▁</td></tr><tr><td>trainer/global_step</td><td>▁▁▂▂▂▃▃▃▄▄▄▄▅▅▅▆▆▆▇▇▇▇███</td></tr><tr><td>val_acc</td><td>▁█</td></tr><tr><td>val_avg_acc</td><td>▁█</td></tr><tr><td>val_avg_loss</td><td>█▁</td></tr><tr><td>val_loss</td><td>█▁</td></tr></table><br/></div><div class=\"wandb-col\"><h3>Run summary:</h3><br/><table class=\"wandb\"><tr><td>epoch</td><td>2</td></tr><tr><td>test_acc</td><td>0.89267</td></tr><tr><td>test_loss</td><td>0.38053</td></tr><tr><td>train_acc</td><td>0.87598</td></tr><tr><td>train_avg_acc</td><td>0.85884</td></tr><tr><td>train_avg_loss</td><td>0.50533</td></tr><tr><td>train_loss</td><td>0.35924</td></tr><tr><td>trainer/global_step</td><td>1126</td></tr><tr><td>val_acc</td><td>0.8799</td></tr><tr><td>val_avg_acc</td><td>0.8799</td></tr><tr><td>val_avg_loss</td><td>0.40062</td></tr><tr><td>val_loss</td><td>0.40062</td></tr></table><br/></div></div>"
      ],
      "text/plain": [
       "<IPython.core.display.HTML object>"
      ]
     },
     "metadata": {},
     "output_type": "display_data"
    },
    {
     "data": {
      "text/html": [
       " View run <strong style=\"color:#cdcd00\">v16_s2</strong> at: <a href='https://wandb.ai/suwon-pabby/sweep-test/runs/8fykijpu' target=\"_blank\">https://wandb.ai/suwon-pabby/sweep-test/runs/8fykijpu</a><br/>Synced 6 W&B file(s), 0 media file(s), 0 artifact file(s) and 0 other file(s)"
      ],
      "text/plain": [
       "<IPython.core.display.HTML object>"
      ]
     },
     "metadata": {},
     "output_type": "display_data"
    },
    {
     "data": {
      "text/html": [
       "Find logs at: <code>./wandb/run-20230725_141200-8fykijpu/logs</code>"
      ],
      "text/plain": [
       "<IPython.core.display.HTML object>"
      ]
     },
     "metadata": {},
     "output_type": "display_data"
    },
    {
     "name": "stderr",
     "output_type": "stream",
     "text": [
      "\u001b[34m\u001b[1mwandb\u001b[0m: Agent Starting Run: g08a8zuv with config:\n",
      "\u001b[34m\u001b[1mwandb\u001b[0m: \tbatch_size: 128\n",
      "\u001b[34m\u001b[1mwandb\u001b[0m: \ttype: small\n",
      "Failed to detect the name of this notebook, you can set it manually with the WANDB_NOTEBOOK_NAME environment variable to enable code saving.\n"
     ]
    },
    {
     "data": {
      "text/html": [
       "wandb version 0.15.6 is available!  To upgrade, please run:\n",
       " $ pip install wandb --upgrade"
      ],
      "text/plain": [
       "<IPython.core.display.HTML object>"
      ]
     },
     "metadata": {},
     "output_type": "display_data"
    },
    {
     "data": {
      "text/html": [
       "Tracking run with wandb version 0.15.5"
      ],
      "text/plain": [
       "<IPython.core.display.HTML object>"
      ]
     },
     "metadata": {},
     "output_type": "display_data"
    },
    {
     "data": {
      "text/html": [
       "Run data is saved locally in <code>/Users/lee/Desktop/이의진/Programmers/finalProject/AIInfra/baselines/wandb/run-20230725_141336-g08a8zuv</code>"
      ],
      "text/plain": [
       "<IPython.core.display.HTML object>"
      ]
     },
     "metadata": {},
     "output_type": "display_data"
    },
    {
     "data": {
      "text/html": [
       "Syncing run <strong><a href='https://wandb.ai/suwon-pabby/sweep-test/runs/g08a8zuv' target=\"_blank\">v16_s3</a></strong> to <a href='https://wandb.ai/suwon-pabby/sweep-test' target=\"_blank\">Weights & Biases</a> (<a href='https://wandb.me/run' target=\"_blank\">docs</a>)<br/>Sweep page: <a href='https://wandb.ai/suwon-pabby/sweep-test/sweeps/0nf73hon' target=\"_blank\">https://wandb.ai/suwon-pabby/sweep-test/sweeps/0nf73hon</a>"
      ],
      "text/plain": [
       "<IPython.core.display.HTML object>"
      ]
     },
     "metadata": {},
     "output_type": "display_data"
    },
    {
     "data": {
      "text/html": [
       " View project at <a href='https://wandb.ai/suwon-pabby/sweep-test' target=\"_blank\">https://wandb.ai/suwon-pabby/sweep-test</a>"
      ],
      "text/plain": [
       "<IPython.core.display.HTML object>"
      ]
     },
     "metadata": {},
     "output_type": "display_data"
    },
    {
     "data": {
      "text/html": [
       " View sweep at <a href='https://wandb.ai/suwon-pabby/sweep-test/sweeps/0nf73hon' target=\"_blank\">https://wandb.ai/suwon-pabby/sweep-test/sweeps/0nf73hon</a>"
      ],
      "text/plain": [
       "<IPython.core.display.HTML object>"
      ]
     },
     "metadata": {},
     "output_type": "display_data"
    },
    {
     "data": {
      "text/html": [
       " View run at <a href='https://wandb.ai/suwon-pabby/sweep-test/runs/g08a8zuv' target=\"_blank\">https://wandb.ai/suwon-pabby/sweep-test/runs/g08a8zuv</a>"
      ],
      "text/plain": [
       "<IPython.core.display.HTML object>"
      ]
     },
     "metadata": {},
     "output_type": "display_data"
    },
    {
     "name": "stderr",
     "output_type": "stream",
     "text": [
      "GPU available: True (mps), used: True\n",
      "TPU available: False, using: 0 TPU cores\n",
      "IPU available: False, using: 0 IPUs\n",
      "HPU available: False, using: 0 HPUs\n",
      "\n",
      "  | Name  | Type     | Params\n",
      "-----------------------------------\n",
      "0 | model | CNNModel | 429 K \n",
      "-----------------------------------\n",
      "429 K     Trainable params\n",
      "0         Non-trainable params\n",
      "429 K     Total params\n",
      "1.717     Total estimated model params size (MB)\n"
     ]
    },
    {
     "name": "stdout",
     "output_type": "stream",
     "text": [
      "Epoch 0: 100%|██████████| 282/282 [00:13<00:00, 20.36it/s, v_num=8zuv, train_acc=0.650, train_loss=1.860]\n",
      "Epoch 0, Avg. Training Loss: 2.135, Avg. Training Accuracy: 0.291 Avg. Validation Loss: 1.771, Avg. Validation Accuracy: 0.654\n",
      "Epoch 1: 100%|██████████| 282/282 [00:12<00:00, 22.66it/s, v_num=8zuv, train_acc=0.843, train_loss=1.070]\n",
      "Epoch 1, Avg. Training Loss: 1.239, Avg. Training Accuracy: 0.736 Avg. Validation Loss: 0.849, Avg. Validation Accuracy: 0.790\n",
      "Epoch 1: 100%|██████████| 282/282 [00:19<00:00, 14.71it/s, v_num=8zuv, train_acc=0.843, train_loss=1.070]"
     ]
    },
    {
     "name": "stderr",
     "output_type": "stream",
     "text": [
      "`Trainer.fit` stopped: `max_epochs=2` reached.\n"
     ]
    },
    {
     "name": "stdout",
     "output_type": "stream",
     "text": [
      "Epoch 1: 100%|██████████| 282/282 [00:19<00:00, 14.67it/s, v_num=8zuv, train_acc=0.843, train_loss=1.070]\n",
      "Testing DataLoader 0: 100%|██████████| 79/79 [00:02<00:00, 27.22it/s]\n"
     ]
    },
    {
     "data": {
      "text/html": [
       "<pre style=\"white-space:pre;overflow-x:auto;line-height:normal;font-family:Menlo,'DejaVu Sans Mono',consolas,'Courier New',monospace\">┏━━━━━━━━━━━━━━━━━━━━━━━━━━━┳━━━━━━━━━━━━━━━━━━━━━━━━━━━┓\n",
       "┃<span style=\"font-weight: bold\">        Test metric        </span>┃<span style=\"font-weight: bold\">       DataLoader 0        </span>┃\n",
       "┡━━━━━━━━━━━━━━━━━━━━━━━━━━━╇━━━━━━━━━━━━━━━━━━━━━━━━━━━┩\n",
       "│<span style=\"color: #008080; text-decoration-color: #008080\">         test_acc          </span>│<span style=\"color: #800080; text-decoration-color: #800080\">     0.799831748008728     </span>│\n",
       "│<span style=\"color: #008080; text-decoration-color: #008080\">         test_loss         </span>│<span style=\"color: #800080; text-decoration-color: #800080\">    0.8305972814559937     </span>│\n",
       "└───────────────────────────┴───────────────────────────┘\n",
       "</pre>\n"
      ],
      "text/plain": [
       "┏━━━━━━━━━━━━━━━━━━━━━━━━━━━┳━━━━━━━━━━━━━━━━━━━━━━━━━━━┓\n",
       "┃\u001b[1m \u001b[0m\u001b[1m       Test metric       \u001b[0m\u001b[1m \u001b[0m┃\u001b[1m \u001b[0m\u001b[1m      DataLoader 0       \u001b[0m\u001b[1m \u001b[0m┃\n",
       "┡━━━━━━━━━━━━━━━━━━━━━━━━━━━╇━━━━━━━━━━━━━━━━━━━━━━━━━━━┩\n",
       "│\u001b[36m \u001b[0m\u001b[36m        test_acc         \u001b[0m\u001b[36m \u001b[0m│\u001b[35m \u001b[0m\u001b[35m    0.799831748008728    \u001b[0m\u001b[35m \u001b[0m│\n",
       "│\u001b[36m \u001b[0m\u001b[36m        test_loss        \u001b[0m\u001b[36m \u001b[0m│\u001b[35m \u001b[0m\u001b[35m   0.8305972814559937    \u001b[0m\u001b[35m \u001b[0m│\n",
       "└───────────────────────────┴───────────────────────────┘\n"
      ]
     },
     "metadata": {},
     "output_type": "display_data"
    },
    {
     "data": {
      "text/html": [
       "Waiting for W&B process to finish... <strong style=\"color:green\">(success).</strong>"
      ],
      "text/plain": [
       "<IPython.core.display.HTML object>"
      ]
     },
     "metadata": {},
     "output_type": "display_data"
    },
    {
     "data": {
      "text/html": [
       "<style>\n",
       "    table.wandb td:nth-child(1) { padding: 0 10px; text-align: left ; width: auto;} td:nth-child(2) {text-align: left ; width: 100%}\n",
       "    .wandb-row { display: flex; flex-direction: row; flex-wrap: wrap; justify-content: flex-start; width: 100% }\n",
       "    .wandb-col { display: flex; flex-direction: column; flex-basis: 100%; flex: 1; padding: 10px; }\n",
       "    </style>\n",
       "<div class=\"wandb-row\"><div class=\"wandb-col\"><h3>Run history:</h3><br/><table class=\"wandb\"><tr><td>epoch</td><td>▁▁▁▁▁▁▅▅▅▅▅▅▅█</td></tr><tr><td>test_acc</td><td>▁</td></tr><tr><td>test_loss</td><td>▁</td></tr><tr><td>train_acc</td><td>▁▁▁▅▆▆▇▇███</td></tr><tr><td>train_avg_acc</td><td>▁█</td></tr><tr><td>train_avg_loss</td><td>█▁</td></tr><tr><td>train_loss</td><td>██▇▇▆▅▄▃▂▁▁</td></tr><tr><td>trainer/global_step</td><td>▁▂▂▃▄▄▄▅▆▆▇███</td></tr><tr><td>val_acc</td><td>▁█</td></tr><tr><td>val_avg_acc</td><td>▁█</td></tr><tr><td>val_avg_loss</td><td>█▁</td></tr><tr><td>val_loss</td><td>█▁</td></tr></table><br/></div><div class=\"wandb-col\"><h3>Run summary:</h3><br/><table class=\"wandb\"><tr><td>epoch</td><td>2</td></tr><tr><td>test_acc</td><td>0.79983</td></tr><tr><td>test_loss</td><td>0.8306</td></tr><tr><td>train_acc</td><td>0.77078</td></tr><tr><td>train_avg_acc</td><td>0.73636</td></tr><tr><td>train_avg_loss</td><td>1.23908</td></tr><tr><td>train_loss</td><td>0.86426</td></tr><tr><td>trainer/global_step</td><td>564</td></tr><tr><td>val_acc</td><td>0.79039</td></tr><tr><td>val_avg_acc</td><td>0.79046</td></tr><tr><td>val_avg_loss</td><td>0.84893</td></tr><tr><td>val_loss</td><td>0.84873</td></tr></table><br/></div></div>"
      ],
      "text/plain": [
       "<IPython.core.display.HTML object>"
      ]
     },
     "metadata": {},
     "output_type": "display_data"
    },
    {
     "data": {
      "text/html": [
       " View run <strong style=\"color:#cdcd00\">v16_s3</strong> at: <a href='https://wandb.ai/suwon-pabby/sweep-test/runs/g08a8zuv' target=\"_blank\">https://wandb.ai/suwon-pabby/sweep-test/runs/g08a8zuv</a><br/>Synced 6 W&B file(s), 0 media file(s), 0 artifact file(s) and 0 other file(s)"
      ],
      "text/plain": [
       "<IPython.core.display.HTML object>"
      ]
     },
     "metadata": {},
     "output_type": "display_data"
    },
    {
     "data": {
      "text/html": [
       "Find logs at: <code>./wandb/run-20230725_141336-g08a8zuv/logs</code>"
      ],
      "text/plain": [
       "<IPython.core.display.HTML object>"
      ]
     },
     "metadata": {},
     "output_type": "display_data"
    },
    {
     "name": "stderr",
     "output_type": "stream",
     "text": [
      "\u001b[34m\u001b[1mwandb\u001b[0m: Agent Starting Run: gb13xdil with config:\n",
      "\u001b[34m\u001b[1mwandb\u001b[0m: \tbatch_size: 32\n",
      "\u001b[34m\u001b[1mwandb\u001b[0m: \ttype: large\n",
      "Failed to detect the name of this notebook, you can set it manually with the WANDB_NOTEBOOK_NAME environment variable to enable code saving.\n"
     ]
    },
    {
     "data": {
      "text/html": [
       "wandb version 0.15.6 is available!  To upgrade, please run:\n",
       " $ pip install wandb --upgrade"
      ],
      "text/plain": [
       "<IPython.core.display.HTML object>"
      ]
     },
     "metadata": {},
     "output_type": "display_data"
    },
    {
     "data": {
      "text/html": [
       "Tracking run with wandb version 0.15.5"
      ],
      "text/plain": [
       "<IPython.core.display.HTML object>"
      ]
     },
     "metadata": {},
     "output_type": "display_data"
    },
    {
     "data": {
      "text/html": [
       "Run data is saved locally in <code>/Users/lee/Desktop/이의진/Programmers/finalProject/AIInfra/baselines/wandb/run-20230725_141433-gb13xdil</code>"
      ],
      "text/plain": [
       "<IPython.core.display.HTML object>"
      ]
     },
     "metadata": {},
     "output_type": "display_data"
    },
    {
     "data": {
      "text/html": [
       "Syncing run <strong><a href='https://wandb.ai/suwon-pabby/sweep-test/runs/gb13xdil' target=\"_blank\">v16_s4</a></strong> to <a href='https://wandb.ai/suwon-pabby/sweep-test' target=\"_blank\">Weights & Biases</a> (<a href='https://wandb.me/run' target=\"_blank\">docs</a>)<br/>Sweep page: <a href='https://wandb.ai/suwon-pabby/sweep-test/sweeps/0nf73hon' target=\"_blank\">https://wandb.ai/suwon-pabby/sweep-test/sweeps/0nf73hon</a>"
      ],
      "text/plain": [
       "<IPython.core.display.HTML object>"
      ]
     },
     "metadata": {},
     "output_type": "display_data"
    },
    {
     "data": {
      "text/html": [
       " View project at <a href='https://wandb.ai/suwon-pabby/sweep-test' target=\"_blank\">https://wandb.ai/suwon-pabby/sweep-test</a>"
      ],
      "text/plain": [
       "<IPython.core.display.HTML object>"
      ]
     },
     "metadata": {},
     "output_type": "display_data"
    },
    {
     "data": {
      "text/html": [
       " View sweep at <a href='https://wandb.ai/suwon-pabby/sweep-test/sweeps/0nf73hon' target=\"_blank\">https://wandb.ai/suwon-pabby/sweep-test/sweeps/0nf73hon</a>"
      ],
      "text/plain": [
       "<IPython.core.display.HTML object>"
      ]
     },
     "metadata": {},
     "output_type": "display_data"
    },
    {
     "data": {
      "text/html": [
       " View run at <a href='https://wandb.ai/suwon-pabby/sweep-test/runs/gb13xdil' target=\"_blank\">https://wandb.ai/suwon-pabby/sweep-test/runs/gb13xdil</a>"
      ],
      "text/plain": [
       "<IPython.core.display.HTML object>"
      ]
     },
     "metadata": {},
     "output_type": "display_data"
    },
    {
     "name": "stderr",
     "output_type": "stream",
     "text": [
      "GPU available: True (mps), used: True\n",
      "TPU available: False, using: 0 TPU cores\n",
      "IPU available: False, using: 0 IPUs\n",
      "HPU available: False, using: 0 HPUs\n",
      "\n",
      "  | Name  | Type     | Params\n",
      "-----------------------------------\n",
      "0 | model | CNNModel | 886 K \n",
      "-----------------------------------\n",
      "886 K     Trainable params\n",
      "0         Non-trainable params\n",
      "886 K     Total params\n",
      "3.545     Total estimated model params size (MB)\n"
     ]
    },
    {
     "name": "stdout",
     "output_type": "stream",
     "text": [
      "Epoch 0: 100%|██████████| 1125/1125 [00:45<00:00, 24.81it/s, v_num=xdil, train_acc=0.800, train_loss=0.382]\n",
      "Epoch 0, Avg. Training Loss: 1.150, Avg. Training Accuracy: 0.637 Avg. Validation Loss: 0.490, Avg. Validation Accuracy: 0.825\n",
      "Epoch 1: 100%|██████████| 1125/1125 [00:41<00:00, 27.20it/s, v_num=xdil, train_acc=0.825, train_loss=0.320] \n",
      "Epoch 1, Avg. Training Loss: 0.387, Avg. Training Accuracy: 0.855 Avg. Validation Loss: 0.334, Avg. Validation Accuracy: 0.867\n",
      "Epoch 1: 100%|██████████| 1125/1125 [01:02<00:00, 18.09it/s, v_num=xdil, train_acc=0.825, train_loss=0.320]"
     ]
    },
    {
     "name": "stderr",
     "output_type": "stream",
     "text": [
      "`Trainer.fit` stopped: `max_epochs=2` reached.\n"
     ]
    },
    {
     "name": "stdout",
     "output_type": "stream",
     "text": [
      "Epoch 1: 100%|██████████| 1125/1125 [01:02<00:00, 18.08it/s, v_num=xdil, train_acc=0.825, train_loss=0.320]\n",
      "Testing DataLoader 0: 100%|██████████| 313/313 [00:08<00:00, 38.36it/s]\n"
     ]
    },
    {
     "data": {
      "text/html": [
       "<pre style=\"white-space:pre;overflow-x:auto;line-height:normal;font-family:Menlo,'DejaVu Sans Mono',consolas,'Courier New',monospace\">┏━━━━━━━━━━━━━━━━━━━━━━━━━━━┳━━━━━━━━━━━━━━━━━━━━━━━━━━━┓\n",
       "┃<span style=\"font-weight: bold\">        Test metric        </span>┃<span style=\"font-weight: bold\">       DataLoader 0        </span>┃\n",
       "┡━━━━━━━━━━━━━━━━━━━━━━━━━━━╇━━━━━━━━━━━━━━━━━━━━━━━━━━━┩\n",
       "│<span style=\"color: #008080; text-decoration-color: #008080\">         test_acc          </span>│<span style=\"color: #800080; text-decoration-color: #800080\">    0.8835442662239075     </span>│\n",
       "│<span style=\"color: #008080; text-decoration-color: #008080\">         test_loss         </span>│<span style=\"color: #800080; text-decoration-color: #800080\">    0.3181457817554474     </span>│\n",
       "└───────────────────────────┴───────────────────────────┘\n",
       "</pre>\n"
      ],
      "text/plain": [
       "┏━━━━━━━━━━━━━━━━━━━━━━━━━━━┳━━━━━━━━━━━━━━━━━━━━━━━━━━━┓\n",
       "┃\u001b[1m \u001b[0m\u001b[1m       Test metric       \u001b[0m\u001b[1m \u001b[0m┃\u001b[1m \u001b[0m\u001b[1m      DataLoader 0       \u001b[0m\u001b[1m \u001b[0m┃\n",
       "┡━━━━━━━━━━━━━━━━━━━━━━━━━━━╇━━━━━━━━━━━━━━━━━━━━━━━━━━━┩\n",
       "│\u001b[36m \u001b[0m\u001b[36m        test_acc         \u001b[0m\u001b[36m \u001b[0m│\u001b[35m \u001b[0m\u001b[35m   0.8835442662239075    \u001b[0m\u001b[35m \u001b[0m│\n",
       "│\u001b[36m \u001b[0m\u001b[36m        test_loss        \u001b[0m\u001b[36m \u001b[0m│\u001b[35m \u001b[0m\u001b[35m   0.3181457817554474    \u001b[0m\u001b[35m \u001b[0m│\n",
       "└───────────────────────────┴───────────────────────────┘\n"
      ]
     },
     "metadata": {},
     "output_type": "display_data"
    },
    {
     "data": {
      "text/html": [
       "Waiting for W&B process to finish... <strong style=\"color:green\">(success).</strong>"
      ],
      "text/plain": [
       "<IPython.core.display.HTML object>"
      ]
     },
     "metadata": {},
     "output_type": "display_data"
    },
    {
     "data": {
      "text/html": [
       "<style>\n",
       "    table.wandb td:nth-child(1) { padding: 0 10px; text-align: left ; width: auto;} td:nth-child(2) {text-align: left ; width: 100%}\n",
       "    .wandb-row { display: flex; flex-direction: row; flex-wrap: wrap; justify-content: flex-start; width: 100% }\n",
       "    .wandb-col { display: flex; flex-direction: column; flex-basis: 100%; flex: 1; padding: 10px; }\n",
       "    </style>\n",
       "<div class=\"wandb-row\"><div class=\"wandb-col\"><h3>Run history:</h3><br/><table class=\"wandb\"><tr><td>epoch</td><td>▁▁▁▁▁▁▁▁▁▁▁▁▁▁▁▁▁▁▁▁▅▅▅▅▅▅▅▅▅▅▅▅▅▅▅▅▅▅▅█</td></tr><tr><td>test_acc</td><td>▁</td></tr><tr><td>test_loss</td><td>▁</td></tr><tr><td>train_acc</td><td>▁▂▂▃▄▄▅▆▅▆▆▆▆▇▇▅▇▆▅▆▇▇▇▇▇▆▅▆▇▇▇▇▇▇▆█▇██▇</td></tr><tr><td>train_avg_acc</td><td>▁█</td></tr><tr><td>train_avg_loss</td><td>█▁</td></tr><tr><td>train_loss</td><td>███▇▆▆▅▄▅▃▃▃▃▃▃▃▃▃▃▂▂▂▂▂▃▂▂▃▃▂▁▂▂▂▂▁▂▁▁▂</td></tr><tr><td>trainer/global_step</td><td>▁▁▁▁▂▂▂▂▂▃▃▃▃▃▄▄▄▄▄▄▅▅▅▅▅▆▆▆▆▆▇▇▇▇▇█████</td></tr><tr><td>val_acc</td><td>▁█</td></tr><tr><td>val_avg_acc</td><td>▁█</td></tr><tr><td>val_avg_loss</td><td>█▁</td></tr><tr><td>val_loss</td><td>█▁</td></tr></table><br/></div><div class=\"wandb-col\"><h3>Run summary:</h3><br/><table class=\"wandb\"><tr><td>epoch</td><td>2</td></tr><tr><td>test_acc</td><td>0.88354</td></tr><tr><td>test_loss</td><td>0.31815</td></tr><tr><td>train_acc</td><td>0.825</td></tr><tr><td>train_avg_acc</td><td>0.85513</td></tr><tr><td>train_avg_loss</td><td>0.38653</td></tr><tr><td>train_loss</td><td>0.32003</td></tr><tr><td>trainer/global_step</td><td>2250</td></tr><tr><td>val_acc</td><td>0.86693</td></tr><tr><td>val_avg_acc</td><td>0.86693</td></tr><tr><td>val_avg_loss</td><td>0.33404</td></tr><tr><td>val_loss</td><td>0.33404</td></tr></table><br/></div></div>"
      ],
      "text/plain": [
       "<IPython.core.display.HTML object>"
      ]
     },
     "metadata": {},
     "output_type": "display_data"
    },
    {
     "data": {
      "text/html": [
       " View run <strong style=\"color:#cdcd00\">v16_s4</strong> at: <a href='https://wandb.ai/suwon-pabby/sweep-test/runs/gb13xdil' target=\"_blank\">https://wandb.ai/suwon-pabby/sweep-test/runs/gb13xdil</a><br/>Synced 6 W&B file(s), 0 media file(s), 0 artifact file(s) and 0 other file(s)"
      ],
      "text/plain": [
       "<IPython.core.display.HTML object>"
      ]
     },
     "metadata": {},
     "output_type": "display_data"
    },
    {
     "data": {
      "text/html": [
       "Find logs at: <code>./wandb/run-20230725_141433-gb13xdil/logs</code>"
      ],
      "text/plain": [
       "<IPython.core.display.HTML object>"
      ]
     },
     "metadata": {},
     "output_type": "display_data"
    },
    {
     "name": "stderr",
     "output_type": "stream",
     "text": [
      "\u001b[34m\u001b[1mwandb\u001b[0m: Agent Starting Run: fefm9dc4 with config:\n",
      "\u001b[34m\u001b[1mwandb\u001b[0m: \tbatch_size: 64\n",
      "\u001b[34m\u001b[1mwandb\u001b[0m: \ttype: large\n",
      "Failed to detect the name of this notebook, you can set it manually with the WANDB_NOTEBOOK_NAME environment variable to enable code saving.\n"
     ]
    },
    {
     "data": {
      "text/html": [
       "wandb version 0.15.6 is available!  To upgrade, please run:\n",
       " $ pip install wandb --upgrade"
      ],
      "text/plain": [
       "<IPython.core.display.HTML object>"
      ]
     },
     "metadata": {},
     "output_type": "display_data"
    },
    {
     "data": {
      "text/html": [
       "Tracking run with wandb version 0.15.5"
      ],
      "text/plain": [
       "<IPython.core.display.HTML object>"
      ]
     },
     "metadata": {},
     "output_type": "display_data"
    },
    {
     "data": {
      "text/html": [
       "Run data is saved locally in <code>/Users/lee/Desktop/이의진/Programmers/finalProject/AIInfra/baselines/wandb/run-20230725_141706-fefm9dc4</code>"
      ],
      "text/plain": [
       "<IPython.core.display.HTML object>"
      ]
     },
     "metadata": {},
     "output_type": "display_data"
    },
    {
     "data": {
      "text/html": [
       "Syncing run <strong><a href='https://wandb.ai/suwon-pabby/sweep-test/runs/fefm9dc4' target=\"_blank\">v16_s5</a></strong> to <a href='https://wandb.ai/suwon-pabby/sweep-test' target=\"_blank\">Weights & Biases</a> (<a href='https://wandb.me/run' target=\"_blank\">docs</a>)<br/>Sweep page: <a href='https://wandb.ai/suwon-pabby/sweep-test/sweeps/0nf73hon' target=\"_blank\">https://wandb.ai/suwon-pabby/sweep-test/sweeps/0nf73hon</a>"
      ],
      "text/plain": [
       "<IPython.core.display.HTML object>"
      ]
     },
     "metadata": {},
     "output_type": "display_data"
    },
    {
     "data": {
      "text/html": [
       " View project at <a href='https://wandb.ai/suwon-pabby/sweep-test' target=\"_blank\">https://wandb.ai/suwon-pabby/sweep-test</a>"
      ],
      "text/plain": [
       "<IPython.core.display.HTML object>"
      ]
     },
     "metadata": {},
     "output_type": "display_data"
    },
    {
     "data": {
      "text/html": [
       " View sweep at <a href='https://wandb.ai/suwon-pabby/sweep-test/sweeps/0nf73hon' target=\"_blank\">https://wandb.ai/suwon-pabby/sweep-test/sweeps/0nf73hon</a>"
      ],
      "text/plain": [
       "<IPython.core.display.HTML object>"
      ]
     },
     "metadata": {},
     "output_type": "display_data"
    },
    {
     "data": {
      "text/html": [
       " View run at <a href='https://wandb.ai/suwon-pabby/sweep-test/runs/fefm9dc4' target=\"_blank\">https://wandb.ai/suwon-pabby/sweep-test/runs/fefm9dc4</a>"
      ],
      "text/plain": [
       "<IPython.core.display.HTML object>"
      ]
     },
     "metadata": {},
     "output_type": "display_data"
    },
    {
     "name": "stderr",
     "output_type": "stream",
     "text": [
      "GPU available: True (mps), used: True\n",
      "TPU available: False, using: 0 TPU cores\n",
      "IPU available: False, using: 0 IPUs\n",
      "HPU available: False, using: 0 HPUs\n",
      "\n",
      "  | Name  | Type     | Params\n",
      "-----------------------------------\n",
      "0 | model | CNNModel | 886 K \n",
      "-----------------------------------\n",
      "886 K     Trainable params\n",
      "0         Non-trainable params\n",
      "886 K     Total params\n",
      "3.545     Total estimated model params size (MB)\n"
     ]
    },
    {
     "name": "stdout",
     "output_type": "stream",
     "text": [
      "Epoch 0: 100%|██████████| 563/563 [00:22<00:00, 24.87it/s, v_num=9dc4, train_acc=0.793, train_loss=0.714]\n",
      "Epoch 0, Avg. Training Loss: 1.512, Avg. Training Accuracy: 0.632 Avg. Validation Loss: 0.706, Avg. Validation Accuracy: 0.809\n",
      "Epoch 1: 100%|██████████| 563/563 [00:21<00:00, 26.20it/s, v_num=9dc4, train_acc=0.793, train_loss=0.509]\n",
      "Epoch 1, Avg. Training Loss: 0.507, Avg. Training Accuracy: 0.859 Avg. Validation Loss: 0.392, Avg. Validation Accuracy: 0.885\n",
      "Epoch 1: 100%|██████████| 563/563 [00:32<00:00, 17.27it/s, v_num=9dc4, train_acc=0.793, train_loss=0.509]"
     ]
    },
    {
     "name": "stderr",
     "output_type": "stream",
     "text": [
      "`Trainer.fit` stopped: `max_epochs=2` reached.\n"
     ]
    },
    {
     "name": "stdout",
     "output_type": "stream",
     "text": [
      "Epoch 1: 100%|██████████| 563/563 [00:32<00:00, 17.23it/s, v_num=9dc4, train_acc=0.793, train_loss=0.509]\n",
      "Testing DataLoader 0: 100%|██████████| 157/157 [00:04<00:00, 34.95it/s]\n"
     ]
    },
    {
     "data": {
      "text/html": [
       "<pre style=\"white-space:pre;overflow-x:auto;line-height:normal;font-family:Menlo,'DejaVu Sans Mono',consolas,'Courier New',monospace\">┏━━━━━━━━━━━━━━━━━━━━━━━━━━━┳━━━━━━━━━━━━━━━━━━━━━━━━━━━┓\n",
       "┃<span style=\"font-weight: bold\">        Test metric        </span>┃<span style=\"font-weight: bold\">       DataLoader 0        </span>┃\n",
       "┡━━━━━━━━━━━━━━━━━━━━━━━━━━━╇━━━━━━━━━━━━━━━━━━━━━━━━━━━┩\n",
       "│<span style=\"color: #008080; text-decoration-color: #008080\">         test_acc          </span>│<span style=\"color: #800080; text-decoration-color: #800080\">    0.8907327055931091     </span>│\n",
       "│<span style=\"color: #008080; text-decoration-color: #008080\">         test_loss         </span>│<span style=\"color: #800080; text-decoration-color: #800080\">    0.38107001781463623    </span>│\n",
       "└───────────────────────────┴───────────────────────────┘\n",
       "</pre>\n"
      ],
      "text/plain": [
       "┏━━━━━━━━━━━━━━━━━━━━━━━━━━━┳━━━━━━━━━━━━━━━━━━━━━━━━━━━┓\n",
       "┃\u001b[1m \u001b[0m\u001b[1m       Test metric       \u001b[0m\u001b[1m \u001b[0m┃\u001b[1m \u001b[0m\u001b[1m      DataLoader 0       \u001b[0m\u001b[1m \u001b[0m┃\n",
       "┡━━━━━━━━━━━━━━━━━━━━━━━━━━━╇━━━━━━━━━━━━━━━━━━━━━━━━━━━┩\n",
       "│\u001b[36m \u001b[0m\u001b[36m        test_acc         \u001b[0m\u001b[36m \u001b[0m│\u001b[35m \u001b[0m\u001b[35m   0.8907327055931091    \u001b[0m\u001b[35m \u001b[0m│\n",
       "│\u001b[36m \u001b[0m\u001b[36m        test_loss        \u001b[0m\u001b[36m \u001b[0m│\u001b[35m \u001b[0m\u001b[35m   0.38107001781463623   \u001b[0m\u001b[35m \u001b[0m│\n",
       "└───────────────────────────┴───────────────────────────┘\n"
      ]
     },
     "metadata": {},
     "output_type": "display_data"
    },
    {
     "data": {
      "text/html": [
       "Waiting for W&B process to finish... <strong style=\"color:green\">(success).</strong>"
      ],
      "text/plain": [
       "<IPython.core.display.HTML object>"
      ]
     },
     "metadata": {},
     "output_type": "display_data"
    },
    {
     "data": {
      "text/html": [
       "<style>\n",
       "    table.wandb td:nth-child(1) { padding: 0 10px; text-align: left ; width: auto;} td:nth-child(2) {text-align: left ; width: 100%}\n",
       "    .wandb-row { display: flex; flex-direction: row; flex-wrap: wrap; justify-content: flex-start; width: 100% }\n",
       "    .wandb-col { display: flex; flex-direction: column; flex-basis: 100%; flex: 1; padding: 10px; }\n",
       "    </style>\n",
       "<div class=\"wandb-row\"><div class=\"wandb-col\"><h3>Run history:</h3><br/><table class=\"wandb\"><tr><td>epoch</td><td>▁▁▁▁▁▁▁▁▁▁▁▁▅▅▅▅▅▅▅▅▅▅▅▅█</td></tr><tr><td>test_acc</td><td>▁</td></tr><tr><td>test_loss</td><td>▁</td></tr><tr><td>train_acc</td><td>▁▃▅▅▅▅▆▆█▇▇▆▇▇█▇████▇█</td></tr><tr><td>train_avg_acc</td><td>▁█</td></tr><tr><td>train_avg_loss</td><td>█▁</td></tr><tr><td>train_loss</td><td>██▇▇▆▅▄▄▃▃▃▂▂▂▂▂▂▂▁▂▂▁</td></tr><tr><td>trainer/global_step</td><td>▁▁▂▂▂▃▃▃▄▄▄▄▅▅▅▆▆▆▇▇▇▇███</td></tr><tr><td>val_acc</td><td>▁█</td></tr><tr><td>val_avg_acc</td><td>▁█</td></tr><tr><td>val_avg_loss</td><td>█▁</td></tr><tr><td>val_loss</td><td>█▁</td></tr></table><br/></div><div class=\"wandb-col\"><h3>Run summary:</h3><br/><table class=\"wandb\"><tr><td>epoch</td><td>2</td></tr><tr><td>test_acc</td><td>0.89073</td></tr><tr><td>test_loss</td><td>0.38107</td></tr><tr><td>train_acc</td><td>0.9196</td></tr><tr><td>train_avg_acc</td><td>0.85937</td></tr><tr><td>train_avg_loss</td><td>0.50685</td></tr><tr><td>train_loss</td><td>0.22193</td></tr><tr><td>trainer/global_step</td><td>1126</td></tr><tr><td>val_acc</td><td>0.88464</td></tr><tr><td>val_avg_acc</td><td>0.88464</td></tr><tr><td>val_avg_loss</td><td>0.3919</td></tr><tr><td>val_loss</td><td>0.3919</td></tr></table><br/></div></div>"
      ],
      "text/plain": [
       "<IPython.core.display.HTML object>"
      ]
     },
     "metadata": {},
     "output_type": "display_data"
    },
    {
     "data": {
      "text/html": [
       " View run <strong style=\"color:#cdcd00\">v16_s5</strong> at: <a href='https://wandb.ai/suwon-pabby/sweep-test/runs/fefm9dc4' target=\"_blank\">https://wandb.ai/suwon-pabby/sweep-test/runs/fefm9dc4</a><br/>Synced 6 W&B file(s), 0 media file(s), 0 artifact file(s) and 0 other file(s)"
      ],
      "text/plain": [
       "<IPython.core.display.HTML object>"
      ]
     },
     "metadata": {},
     "output_type": "display_data"
    },
    {
     "data": {
      "text/html": [
       "Find logs at: <code>./wandb/run-20230725_141706-fefm9dc4/logs</code>"
      ],
      "text/plain": [
       "<IPython.core.display.HTML object>"
      ]
     },
     "metadata": {},
     "output_type": "display_data"
    },
    {
     "name": "stderr",
     "output_type": "stream",
     "text": [
      "\u001b[34m\u001b[1mwandb\u001b[0m: Agent Starting Run: 50r3k1qp with config:\n",
      "\u001b[34m\u001b[1mwandb\u001b[0m: \tbatch_size: 64\n",
      "\u001b[34m\u001b[1mwandb\u001b[0m: \ttype: large\n",
      "Failed to detect the name of this notebook, you can set it manually with the WANDB_NOTEBOOK_NAME environment variable to enable code saving.\n"
     ]
    },
    {
     "data": {
      "text/html": [
       "wandb version 0.15.6 is available!  To upgrade, please run:\n",
       " $ pip install wandb --upgrade"
      ],
      "text/plain": [
       "<IPython.core.display.HTML object>"
      ]
     },
     "metadata": {},
     "output_type": "display_data"
    },
    {
     "data": {
      "text/html": [
       "Tracking run with wandb version 0.15.5"
      ],
      "text/plain": [
       "<IPython.core.display.HTML object>"
      ]
     },
     "metadata": {},
     "output_type": "display_data"
    },
    {
     "data": {
      "text/html": [
       "Run data is saved locally in <code>/Users/lee/Desktop/이의진/Programmers/finalProject/AIInfra/baselines/wandb/run-20230725_141830-50r3k1qp</code>"
      ],
      "text/plain": [
       "<IPython.core.display.HTML object>"
      ]
     },
     "metadata": {},
     "output_type": "display_data"
    },
    {
     "data": {
      "text/html": [
       "Syncing run <strong><a href='https://wandb.ai/suwon-pabby/sweep-test/runs/50r3k1qp' target=\"_blank\">v16_s6</a></strong> to <a href='https://wandb.ai/suwon-pabby/sweep-test' target=\"_blank\">Weights & Biases</a> (<a href='https://wandb.me/run' target=\"_blank\">docs</a>)<br/>Sweep page: <a href='https://wandb.ai/suwon-pabby/sweep-test/sweeps/0nf73hon' target=\"_blank\">https://wandb.ai/suwon-pabby/sweep-test/sweeps/0nf73hon</a>"
      ],
      "text/plain": [
       "<IPython.core.display.HTML object>"
      ]
     },
     "metadata": {},
     "output_type": "display_data"
    },
    {
     "data": {
      "text/html": [
       " View project at <a href='https://wandb.ai/suwon-pabby/sweep-test' target=\"_blank\">https://wandb.ai/suwon-pabby/sweep-test</a>"
      ],
      "text/plain": [
       "<IPython.core.display.HTML object>"
      ]
     },
     "metadata": {},
     "output_type": "display_data"
    },
    {
     "data": {
      "text/html": [
       " View sweep at <a href='https://wandb.ai/suwon-pabby/sweep-test/sweeps/0nf73hon' target=\"_blank\">https://wandb.ai/suwon-pabby/sweep-test/sweeps/0nf73hon</a>"
      ],
      "text/plain": [
       "<IPython.core.display.HTML object>"
      ]
     },
     "metadata": {},
     "output_type": "display_data"
    },
    {
     "data": {
      "text/html": [
       " View run at <a href='https://wandb.ai/suwon-pabby/sweep-test/runs/50r3k1qp' target=\"_blank\">https://wandb.ai/suwon-pabby/sweep-test/runs/50r3k1qp</a>"
      ],
      "text/plain": [
       "<IPython.core.display.HTML object>"
      ]
     },
     "metadata": {},
     "output_type": "display_data"
    },
    {
     "name": "stderr",
     "output_type": "stream",
     "text": [
      "GPU available: True (mps), used: True\n",
      "TPU available: False, using: 0 TPU cores\n",
      "IPU available: False, using: 0 IPUs\n",
      "HPU available: False, using: 0 HPUs\n",
      "\n",
      "  | Name  | Type     | Params\n",
      "-----------------------------------\n",
      "0 | model | CNNModel | 886 K \n",
      "-----------------------------------\n",
      "886 K     Trainable params\n",
      "0         Non-trainable params\n",
      "886 K     Total params\n",
      "3.545     Total estimated model params size (MB)\n"
     ]
    },
    {
     "name": "stdout",
     "output_type": "stream",
     "text": [
      "Epoch 0: 100%|██████████| 563/563 [00:21<00:00, 25.65it/s, v_num=k1qp, train_acc=0.942, train_loss=0.516]\n",
      "Epoch 0, Avg. Training Loss: 1.447, Avg. Training Accuracy: 0.623 Avg. Validation Loss: 0.613, Avg. Validation Accuracy: 0.849\n",
      "Epoch 1: 100%|██████████| 563/563 [00:21<00:00, 26.41it/s, v_num=k1qp, train_acc=0.942, train_loss=0.259]\n",
      "Epoch 1, Avg. Training Loss: 0.463, Avg. Training Accuracy: 0.872 Avg. Validation Loss: 0.371, Avg. Validation Accuracy: 0.893\n",
      "Epoch 1: 100%|██████████| 563/563 [00:32<00:00, 17.43it/s, v_num=k1qp, train_acc=0.942, train_loss=0.259]"
     ]
    },
    {
     "name": "stderr",
     "output_type": "stream",
     "text": [
      "`Trainer.fit` stopped: `max_epochs=2` reached.\n"
     ]
    },
    {
     "name": "stdout",
     "output_type": "stream",
     "text": [
      "Epoch 1: 100%|██████████| 563/563 [00:32<00:00, 17.40it/s, v_num=k1qp, train_acc=0.942, train_loss=0.259]\n",
      "Testing DataLoader 0: 100%|██████████| 157/157 [00:04<00:00, 36.40it/s]\n"
     ]
    },
    {
     "data": {
      "text/html": [
       "<pre style=\"white-space:pre;overflow-x:auto;line-height:normal;font-family:Menlo,'DejaVu Sans Mono',consolas,'Courier New',monospace\">┏━━━━━━━━━━━━━━━━━━━━━━━━━━━┳━━━━━━━━━━━━━━━━━━━━━━━━━━━┓\n",
       "┃<span style=\"font-weight: bold\">        Test metric        </span>┃<span style=\"font-weight: bold\">       DataLoader 0        </span>┃\n",
       "┡━━━━━━━━━━━━━━━━━━━━━━━━━━━╇━━━━━━━━━━━━━━━━━━━━━━━━━━━┩\n",
       "│<span style=\"color: #008080; text-decoration-color: #008080\">         test_acc          </span>│<span style=\"color: #800080; text-decoration-color: #800080\">    0.8989641666412354     </span>│\n",
       "│<span style=\"color: #008080; text-decoration-color: #008080\">         test_loss         </span>│<span style=\"color: #800080; text-decoration-color: #800080\">     0.365919291973114     </span>│\n",
       "└───────────────────────────┴───────────────────────────┘\n",
       "</pre>\n"
      ],
      "text/plain": [
       "┏━━━━━━━━━━━━━━━━━━━━━━━━━━━┳━━━━━━━━━━━━━━━━━━━━━━━━━━━┓\n",
       "┃\u001b[1m \u001b[0m\u001b[1m       Test metric       \u001b[0m\u001b[1m \u001b[0m┃\u001b[1m \u001b[0m\u001b[1m      DataLoader 0       \u001b[0m\u001b[1m \u001b[0m┃\n",
       "┡━━━━━━━━━━━━━━━━━━━━━━━━━━━╇━━━━━━━━━━━━━━━━━━━━━━━━━━━┩\n",
       "│\u001b[36m \u001b[0m\u001b[36m        test_acc         \u001b[0m\u001b[36m \u001b[0m│\u001b[35m \u001b[0m\u001b[35m   0.8989641666412354    \u001b[0m\u001b[35m \u001b[0m│\n",
       "│\u001b[36m \u001b[0m\u001b[36m        test_loss        \u001b[0m\u001b[36m \u001b[0m│\u001b[35m \u001b[0m\u001b[35m    0.365919291973114    \u001b[0m\u001b[35m \u001b[0m│\n",
       "└───────────────────────────┴───────────────────────────┘\n"
      ]
     },
     "metadata": {},
     "output_type": "display_data"
    },
    {
     "data": {
      "text/html": [
       "Waiting for W&B process to finish... <strong style=\"color:green\">(success).</strong>"
      ],
      "text/plain": [
       "<IPython.core.display.HTML object>"
      ]
     },
     "metadata": {},
     "output_type": "display_data"
    },
    {
     "data": {
      "text/html": [
       "<style>\n",
       "    table.wandb td:nth-child(1) { padding: 0 10px; text-align: left ; width: auto;} td:nth-child(2) {text-align: left ; width: 100%}\n",
       "    .wandb-row { display: flex; flex-direction: row; flex-wrap: wrap; justify-content: flex-start; width: 100% }\n",
       "    .wandb-col { display: flex; flex-direction: column; flex-basis: 100%; flex: 1; padding: 10px; }\n",
       "    </style>\n",
       "<div class=\"wandb-row\"><div class=\"wandb-col\"><h3>Run history:</h3><br/><table class=\"wandb\"><tr><td>epoch</td><td>▁▁▁▁▁▁▁▁▁▁▁▁▅▅▅▅▅▅▅▅▅▅▅▅█</td></tr><tr><td>test_acc</td><td>▁</td></tr><tr><td>test_loss</td><td>▁</td></tr><tr><td>train_acc</td><td>▁▃▄▅▆▆▇▇▇██▇▇██▇██▇▇██</td></tr><tr><td>train_avg_acc</td><td>▁█</td></tr><tr><td>train_avg_loss</td><td>█▁</td></tr><tr><td>train_loss</td><td>██▇▆▅▄▃▃▃▂▂▂▂▂▂▁▁▂▂▂▁▁</td></tr><tr><td>trainer/global_step</td><td>▁▁▂▂▂▃▃▃▄▄▄▄▅▅▅▆▆▆▇▇▇▇███</td></tr><tr><td>val_acc</td><td>▁█</td></tr><tr><td>val_avg_acc</td><td>▁█</td></tr><tr><td>val_avg_loss</td><td>█▁</td></tr><tr><td>val_loss</td><td>█▁</td></tr></table><br/></div><div class=\"wandb-col\"><h3>Run summary:</h3><br/><table class=\"wandb\"><tr><td>epoch</td><td>2</td></tr><tr><td>test_acc</td><td>0.89896</td></tr><tr><td>test_loss</td><td>0.36592</td></tr><tr><td>train_acc</td><td>0.85667</td></tr><tr><td>train_avg_acc</td><td>0.87161</td></tr><tr><td>train_avg_loss</td><td>0.46324</td></tr><tr><td>train_loss</td><td>0.39828</td></tr><tr><td>trainer/global_step</td><td>1126</td></tr><tr><td>val_acc</td><td>0.89341</td></tr><tr><td>val_avg_acc</td><td>0.89341</td></tr><tr><td>val_avg_loss</td><td>0.37137</td></tr><tr><td>val_loss</td><td>0.37137</td></tr></table><br/></div></div>"
      ],
      "text/plain": [
       "<IPython.core.display.HTML object>"
      ]
     },
     "metadata": {},
     "output_type": "display_data"
    },
    {
     "data": {
      "text/html": [
       " View run <strong style=\"color:#cdcd00\">v16_s6</strong> at: <a href='https://wandb.ai/suwon-pabby/sweep-test/runs/50r3k1qp' target=\"_blank\">https://wandb.ai/suwon-pabby/sweep-test/runs/50r3k1qp</a><br/>Synced 6 W&B file(s), 0 media file(s), 0 artifact file(s) and 0 other file(s)"
      ],
      "text/plain": [
       "<IPython.core.display.HTML object>"
      ]
     },
     "metadata": {},
     "output_type": "display_data"
    },
    {
     "data": {
      "text/html": [
       "Find logs at: <code>./wandb/run-20230725_141830-50r3k1qp/logs</code>"
      ],
      "text/plain": [
       "<IPython.core.display.HTML object>"
      ]
     },
     "metadata": {},
     "output_type": "display_data"
    },
    {
     "name": "stderr",
     "output_type": "stream",
     "text": [
      "\u001b[34m\u001b[1mwandb\u001b[0m: Agent Starting Run: bnbbla4v with config:\n",
      "\u001b[34m\u001b[1mwandb\u001b[0m: \tbatch_size: 64\n",
      "\u001b[34m\u001b[1mwandb\u001b[0m: \ttype: large\n",
      "Failed to detect the name of this notebook, you can set it manually with the WANDB_NOTEBOOK_NAME environment variable to enable code saving.\n"
     ]
    },
    {
     "data": {
      "text/html": [
       "wandb version 0.15.6 is available!  To upgrade, please run:\n",
       " $ pip install wandb --upgrade"
      ],
      "text/plain": [
       "<IPython.core.display.HTML object>"
      ]
     },
     "metadata": {},
     "output_type": "display_data"
    },
    {
     "data": {
      "text/html": [
       "Tracking run with wandb version 0.15.5"
      ],
      "text/plain": [
       "<IPython.core.display.HTML object>"
      ]
     },
     "metadata": {},
     "output_type": "display_data"
    },
    {
     "data": {
      "text/html": [
       "Run data is saved locally in <code>/Users/lee/Desktop/이의진/Programmers/finalProject/AIInfra/baselines/wandb/run-20230725_141955-bnbbla4v</code>"
      ],
      "text/plain": [
       "<IPython.core.display.HTML object>"
      ]
     },
     "metadata": {},
     "output_type": "display_data"
    },
    {
     "data": {
      "text/html": [
       "Syncing run <strong><a href='https://wandb.ai/suwon-pabby/sweep-test/runs/bnbbla4v' target=\"_blank\">v16_s7</a></strong> to <a href='https://wandb.ai/suwon-pabby/sweep-test' target=\"_blank\">Weights & Biases</a> (<a href='https://wandb.me/run' target=\"_blank\">docs</a>)<br/>Sweep page: <a href='https://wandb.ai/suwon-pabby/sweep-test/sweeps/0nf73hon' target=\"_blank\">https://wandb.ai/suwon-pabby/sweep-test/sweeps/0nf73hon</a>"
      ],
      "text/plain": [
       "<IPython.core.display.HTML object>"
      ]
     },
     "metadata": {},
     "output_type": "display_data"
    },
    {
     "data": {
      "text/html": [
       " View project at <a href='https://wandb.ai/suwon-pabby/sweep-test' target=\"_blank\">https://wandb.ai/suwon-pabby/sweep-test</a>"
      ],
      "text/plain": [
       "<IPython.core.display.HTML object>"
      ]
     },
     "metadata": {},
     "output_type": "display_data"
    },
    {
     "data": {
      "text/html": [
       " View sweep at <a href='https://wandb.ai/suwon-pabby/sweep-test/sweeps/0nf73hon' target=\"_blank\">https://wandb.ai/suwon-pabby/sweep-test/sweeps/0nf73hon</a>"
      ],
      "text/plain": [
       "<IPython.core.display.HTML object>"
      ]
     },
     "metadata": {},
     "output_type": "display_data"
    },
    {
     "data": {
      "text/html": [
       " View run at <a href='https://wandb.ai/suwon-pabby/sweep-test/runs/bnbbla4v' target=\"_blank\">https://wandb.ai/suwon-pabby/sweep-test/runs/bnbbla4v</a>"
      ],
      "text/plain": [
       "<IPython.core.display.HTML object>"
      ]
     },
     "metadata": {},
     "output_type": "display_data"
    },
    {
     "name": "stderr",
     "output_type": "stream",
     "text": [
      "GPU available: True (mps), used: True\n",
      "TPU available: False, using: 0 TPU cores\n",
      "IPU available: False, using: 0 IPUs\n",
      "HPU available: False, using: 0 HPUs\n",
      "\n",
      "  | Name  | Type     | Params\n",
      "-----------------------------------\n",
      "0 | model | CNNModel | 886 K \n",
      "-----------------------------------\n",
      "886 K     Trainable params\n",
      "0         Non-trainable params\n",
      "886 K     Total params\n",
      "3.545     Total estimated model params size (MB)\n"
     ]
    },
    {
     "name": "stdout",
     "output_type": "stream",
     "text": [
      "Epoch 0: 100%|██████████| 563/563 [00:21<00:00, 25.81it/s, v_num=la4v, train_acc=0.870, train_loss=0.629]\n",
      "Epoch 0, Avg. Training Loss: 1.439, Avg. Training Accuracy: 0.629 Avg. Validation Loss: 0.628, Avg. Validation Accuracy: 0.832\n",
      "Epoch 1: 100%|██████████| 563/563 [00:21<00:00, 26.41it/s, v_num=la4v, train_acc=0.915, train_loss=0.369]\n",
      "Epoch 1, Avg. Training Loss: 0.453, Avg. Training Accuracy: 0.874 Avg. Validation Loss: 0.372, Avg. Validation Accuracy: 0.892\n",
      "Epoch 1: 100%|██████████| 563/563 [00:32<00:00, 17.39it/s, v_num=la4v, train_acc=0.915, train_loss=0.369]"
     ]
    },
    {
     "name": "stderr",
     "output_type": "stream",
     "text": [
      "`Trainer.fit` stopped: `max_epochs=2` reached.\n"
     ]
    },
    {
     "name": "stdout",
     "output_type": "stream",
     "text": [
      "Epoch 1: 100%|██████████| 563/563 [00:32<00:00, 17.36it/s, v_num=la4v, train_acc=0.915, train_loss=0.369]\n",
      "Testing DataLoader 0: 100%|██████████| 157/157 [00:04<00:00, 33.36it/s]\n"
     ]
    },
    {
     "data": {
      "text/html": [
       "<pre style=\"white-space:pre;overflow-x:auto;line-height:normal;font-family:Menlo,'DejaVu Sans Mono',consolas,'Courier New',monospace\">┏━━━━━━━━━━━━━━━━━━━━━━━━━━━┳━━━━━━━━━━━━━━━━━━━━━━━━━━━┓\n",
       "┃<span style=\"font-weight: bold\">        Test metric        </span>┃<span style=\"font-weight: bold\">       DataLoader 0        </span>┃\n",
       "┡━━━━━━━━━━━━━━━━━━━━━━━━━━━╇━━━━━━━━━━━━━━━━━━━━━━━━━━━┩\n",
       "│<span style=\"color: #008080; text-decoration-color: #008080\">         test_acc          </span>│<span style=\"color: #800080; text-decoration-color: #800080\">    0.8965297937393188     </span>│\n",
       "│<span style=\"color: #008080; text-decoration-color: #008080\">         test_loss         </span>│<span style=\"color: #800080; text-decoration-color: #800080\">    0.35339775681495667    </span>│\n",
       "└───────────────────────────┴───────────────────────────┘\n",
       "</pre>\n"
      ],
      "text/plain": [
       "┏━━━━━━━━━━━━━━━━━━━━━━━━━━━┳━━━━━━━━━━━━━━━━━━━━━━━━━━━┓\n",
       "┃\u001b[1m \u001b[0m\u001b[1m       Test metric       \u001b[0m\u001b[1m \u001b[0m┃\u001b[1m \u001b[0m\u001b[1m      DataLoader 0       \u001b[0m\u001b[1m \u001b[0m┃\n",
       "┡━━━━━━━━━━━━━━━━━━━━━━━━━━━╇━━━━━━━━━━━━━━━━━━━━━━━━━━━┩\n",
       "│\u001b[36m \u001b[0m\u001b[36m        test_acc         \u001b[0m\u001b[36m \u001b[0m│\u001b[35m \u001b[0m\u001b[35m   0.8965297937393188    \u001b[0m\u001b[35m \u001b[0m│\n",
       "│\u001b[36m \u001b[0m\u001b[36m        test_loss        \u001b[0m\u001b[36m \u001b[0m│\u001b[35m \u001b[0m\u001b[35m   0.35339775681495667   \u001b[0m\u001b[35m \u001b[0m│\n",
       "└───────────────────────────┴───────────────────────────┘\n"
      ]
     },
     "metadata": {},
     "output_type": "display_data"
    },
    {
     "data": {
      "text/html": [
       "Waiting for W&B process to finish... <strong style=\"color:green\">(success).</strong>"
      ],
      "text/plain": [
       "<IPython.core.display.HTML object>"
      ]
     },
     "metadata": {},
     "output_type": "display_data"
    },
    {
     "data": {
      "text/html": [
       "<style>\n",
       "    table.wandb td:nth-child(1) { padding: 0 10px; text-align: left ; width: auto;} td:nth-child(2) {text-align: left ; width: 100%}\n",
       "    .wandb-row { display: flex; flex-direction: row; flex-wrap: wrap; justify-content: flex-start; width: 100% }\n",
       "    .wandb-col { display: flex; flex-direction: column; flex-basis: 100%; flex: 1; padding: 10px; }\n",
       "    </style>\n",
       "<div class=\"wandb-row\"><div class=\"wandb-col\"><h3>Run history:</h3><br/><table class=\"wandb\"><tr><td>epoch</td><td>▁▁▁▁▁▁▁▁▁▁▁▁▅▅▅▅▅▅▅▅▅▅▅▅█</td></tr><tr><td>test_acc</td><td>▁</td></tr><tr><td>test_loss</td><td>▁</td></tr><tr><td>train_acc</td><td>▁▁▂▅▆▅▆▆▇▇▇█▇█▇▇█▇▇▇▇█</td></tr><tr><td>train_avg_acc</td><td>▁█</td></tr><tr><td>train_avg_loss</td><td>█▁</td></tr><tr><td>train_loss</td><td>██▇▆▆▄▄▃▃▂▂▂▂▂▂▂▂▂▂▁▁▁</td></tr><tr><td>trainer/global_step</td><td>▁▁▂▂▂▃▃▃▄▄▄▄▅▅▅▆▆▆▇▇▇▇███</td></tr><tr><td>val_acc</td><td>▁█</td></tr><tr><td>val_avg_acc</td><td>▁█</td></tr><tr><td>val_avg_loss</td><td>█▁</td></tr><tr><td>val_loss</td><td>█▁</td></tr></table><br/></div><div class=\"wandb-col\"><h3>Run summary:</h3><br/><table class=\"wandb\"><tr><td>epoch</td><td>2</td></tr><tr><td>test_acc</td><td>0.89653</td></tr><tr><td>test_loss</td><td>0.3534</td></tr><tr><td>train_acc</td><td>0.94389</td></tr><tr><td>train_avg_acc</td><td>0.87375</td></tr><tr><td>train_avg_loss</td><td>0.45287</td></tr><tr><td>train_loss</td><td>0.23457</td></tr><tr><td>trainer/global_step</td><td>1126</td></tr><tr><td>val_acc</td><td>0.89196</td></tr><tr><td>val_avg_acc</td><td>0.89196</td></tr><tr><td>val_avg_loss</td><td>0.3718</td></tr><tr><td>val_loss</td><td>0.3718</td></tr></table><br/></div></div>"
      ],
      "text/plain": [
       "<IPython.core.display.HTML object>"
      ]
     },
     "metadata": {},
     "output_type": "display_data"
    },
    {
     "data": {
      "text/html": [
       " View run <strong style=\"color:#cdcd00\">v16_s7</strong> at: <a href='https://wandb.ai/suwon-pabby/sweep-test/runs/bnbbla4v' target=\"_blank\">https://wandb.ai/suwon-pabby/sweep-test/runs/bnbbla4v</a><br/>Synced 6 W&B file(s), 0 media file(s), 0 artifact file(s) and 0 other file(s)"
      ],
      "text/plain": [
       "<IPython.core.display.HTML object>"
      ]
     },
     "metadata": {},
     "output_type": "display_data"
    },
    {
     "data": {
      "text/html": [
       "Find logs at: <code>./wandb/run-20230725_141955-bnbbla4v/logs</code>"
      ],
      "text/plain": [
       "<IPython.core.display.HTML object>"
      ]
     },
     "metadata": {},
     "output_type": "display_data"
    },
    {
     "name": "stderr",
     "output_type": "stream",
     "text": [
      "\u001b[34m\u001b[1mwandb\u001b[0m: Agent Starting Run: zzm7uni0 with config:\n",
      "\u001b[34m\u001b[1mwandb\u001b[0m: \tbatch_size: 64\n",
      "\u001b[34m\u001b[1mwandb\u001b[0m: \ttype: large\n",
      "Failed to detect the name of this notebook, you can set it manually with the WANDB_NOTEBOOK_NAME environment variable to enable code saving.\n"
     ]
    },
    {
     "data": {
      "text/html": [
       "wandb version 0.15.6 is available!  To upgrade, please run:\n",
       " $ pip install wandb --upgrade"
      ],
      "text/plain": [
       "<IPython.core.display.HTML object>"
      ]
     },
     "metadata": {},
     "output_type": "display_data"
    },
    {
     "data": {
      "text/html": [
       "Tracking run with wandb version 0.15.5"
      ],
      "text/plain": [
       "<IPython.core.display.HTML object>"
      ]
     },
     "metadata": {},
     "output_type": "display_data"
    },
    {
     "data": {
      "text/html": [
       "Run data is saved locally in <code>/Users/lee/Desktop/이의진/Programmers/finalProject/AIInfra/baselines/wandb/run-20230725_142119-zzm7uni0</code>"
      ],
      "text/plain": [
       "<IPython.core.display.HTML object>"
      ]
     },
     "metadata": {},
     "output_type": "display_data"
    },
    {
     "data": {
      "text/html": [
       "Syncing run <strong><a href='https://wandb.ai/suwon-pabby/sweep-test/runs/zzm7uni0' target=\"_blank\">v16_s8</a></strong> to <a href='https://wandb.ai/suwon-pabby/sweep-test' target=\"_blank\">Weights & Biases</a> (<a href='https://wandb.me/run' target=\"_blank\">docs</a>)<br/>Sweep page: <a href='https://wandb.ai/suwon-pabby/sweep-test/sweeps/0nf73hon' target=\"_blank\">https://wandb.ai/suwon-pabby/sweep-test/sweeps/0nf73hon</a>"
      ],
      "text/plain": [
       "<IPython.core.display.HTML object>"
      ]
     },
     "metadata": {},
     "output_type": "display_data"
    },
    {
     "data": {
      "text/html": [
       " View project at <a href='https://wandb.ai/suwon-pabby/sweep-test' target=\"_blank\">https://wandb.ai/suwon-pabby/sweep-test</a>"
      ],
      "text/plain": [
       "<IPython.core.display.HTML object>"
      ]
     },
     "metadata": {},
     "output_type": "display_data"
    },
    {
     "data": {
      "text/html": [
       " View sweep at <a href='https://wandb.ai/suwon-pabby/sweep-test/sweeps/0nf73hon' target=\"_blank\">https://wandb.ai/suwon-pabby/sweep-test/sweeps/0nf73hon</a>"
      ],
      "text/plain": [
       "<IPython.core.display.HTML object>"
      ]
     },
     "metadata": {},
     "output_type": "display_data"
    },
    {
     "data": {
      "text/html": [
       " View run at <a href='https://wandb.ai/suwon-pabby/sweep-test/runs/zzm7uni0' target=\"_blank\">https://wandb.ai/suwon-pabby/sweep-test/runs/zzm7uni0</a>"
      ],
      "text/plain": [
       "<IPython.core.display.HTML object>"
      ]
     },
     "metadata": {},
     "output_type": "display_data"
    },
    {
     "name": "stderr",
     "output_type": "stream",
     "text": [
      "GPU available: True (mps), used: True\n",
      "TPU available: False, using: 0 TPU cores\n",
      "IPU available: False, using: 0 IPUs\n",
      "HPU available: False, using: 0 HPUs\n",
      "\n",
      "  | Name  | Type     | Params\n",
      "-----------------------------------\n",
      "0 | model | CNNModel | 886 K \n",
      "-----------------------------------\n",
      "886 K     Trainable params\n",
      "0         Non-trainable params\n",
      "886 K     Total params\n",
      "3.545     Total estimated model params size (MB)\n"
     ]
    },
    {
     "name": "stdout",
     "output_type": "stream",
     "text": [
      "Epoch 0: 100%|██████████| 563/563 [00:22<00:00, 25.46it/s, v_num=uni0, train_acc=0.638, train_loss=0.587]\n",
      "Epoch 0, Avg. Training Loss: 1.390, Avg. Training Accuracy: 0.636 Avg. Validation Loss: 0.611, Avg. Validation Accuracy: 0.824\n",
      "Epoch 1: 100%|██████████| 563/563 [00:21<00:00, 26.34it/s, v_num=uni0, train_acc=0.717, train_loss=0.397]\n",
      "Epoch 1, Avg. Training Loss: 0.450, Avg. Training Accuracy: 0.871 Avg. Validation Loss: 0.370, Avg. Validation Accuracy: 0.887\n",
      "Epoch 1: 100%|██████████| 563/563 [00:32<00:00, 17.38it/s, v_num=uni0, train_acc=0.717, train_loss=0.397]"
     ]
    },
    {
     "name": "stderr",
     "output_type": "stream",
     "text": [
      "`Trainer.fit` stopped: `max_epochs=2` reached.\n"
     ]
    },
    {
     "name": "stdout",
     "output_type": "stream",
     "text": [
      "Epoch 1: 100%|██████████| 563/563 [00:32<00:00, 17.35it/s, v_num=uni0, train_acc=0.717, train_loss=0.397]\n",
      "Testing DataLoader 0: 100%|██████████| 157/157 [00:04<00:00, 35.83it/s]\n"
     ]
    },
    {
     "data": {
      "text/html": [
       "<pre style=\"white-space:pre;overflow-x:auto;line-height:normal;font-family:Menlo,'DejaVu Sans Mono',consolas,'Courier New',monospace\">┏━━━━━━━━━━━━━━━━━━━━━━━━━━━┳━━━━━━━━━━━━━━━━━━━━━━━━━━━┓\n",
       "┃<span style=\"font-weight: bold\">        Test metric        </span>┃<span style=\"font-weight: bold\">       DataLoader 0        </span>┃\n",
       "┡━━━━━━━━━━━━━━━━━━━━━━━━━━━╇━━━━━━━━━━━━━━━━━━━━━━━━━━━┩\n",
       "│<span style=\"color: #008080; text-decoration-color: #008080\">         test_acc          </span>│<span style=\"color: #800080; text-decoration-color: #800080\">    0.8970762491226196     </span>│\n",
       "│<span style=\"color: #008080; text-decoration-color: #008080\">         test_loss         </span>│<span style=\"color: #800080; text-decoration-color: #800080\">    0.3502025008201599     </span>│\n",
       "└───────────────────────────┴───────────────────────────┘\n",
       "</pre>\n"
      ],
      "text/plain": [
       "┏━━━━━━━━━━━━━━━━━━━━━━━━━━━┳━━━━━━━━━━━━━━━━━━━━━━━━━━━┓\n",
       "┃\u001b[1m \u001b[0m\u001b[1m       Test metric       \u001b[0m\u001b[1m \u001b[0m┃\u001b[1m \u001b[0m\u001b[1m      DataLoader 0       \u001b[0m\u001b[1m \u001b[0m┃\n",
       "┡━━━━━━━━━━━━━━━━━━━━━━━━━━━╇━━━━━━━━━━━━━━━━━━━━━━━━━━━┩\n",
       "│\u001b[36m \u001b[0m\u001b[36m        test_acc         \u001b[0m\u001b[36m \u001b[0m│\u001b[35m \u001b[0m\u001b[35m   0.8970762491226196    \u001b[0m\u001b[35m \u001b[0m│\n",
       "│\u001b[36m \u001b[0m\u001b[36m        test_loss        \u001b[0m\u001b[36m \u001b[0m│\u001b[35m \u001b[0m\u001b[35m   0.3502025008201599    \u001b[0m\u001b[35m \u001b[0m│\n",
       "└───────────────────────────┴───────────────────────────┘\n"
      ]
     },
     "metadata": {},
     "output_type": "display_data"
    },
    {
     "data": {
      "text/html": [
       "Waiting for W&B process to finish... <strong style=\"color:green\">(success).</strong>"
      ],
      "text/plain": [
       "<IPython.core.display.HTML object>"
      ]
     },
     "metadata": {},
     "output_type": "display_data"
    },
    {
     "data": {
      "text/html": [
       "<style>\n",
       "    table.wandb td:nth-child(1) { padding: 0 10px; text-align: left ; width: auto;} td:nth-child(2) {text-align: left ; width: 100%}\n",
       "    .wandb-row { display: flex; flex-direction: row; flex-wrap: wrap; justify-content: flex-start; width: 100% }\n",
       "    .wandb-col { display: flex; flex-direction: column; flex-basis: 100%; flex: 1; padding: 10px; }\n",
       "    </style>\n",
       "<div class=\"wandb-row\"><div class=\"wandb-col\"><h3>Run history:</h3><br/><table class=\"wandb\"><tr><td>epoch</td><td>▁▁▁▁▁▁▁▁▁▁▁▁▅▅▅▅▅▅▅▅▅▅▅▅█</td></tr><tr><td>test_acc</td><td>▁</td></tr><tr><td>test_loss</td><td>▁</td></tr><tr><td>train_acc</td><td>▁▅▄▅▆▅▆▆▇▇█▇▇▆█▇▇█▇▇▇▇</td></tr><tr><td>train_avg_acc</td><td>▁█</td></tr><tr><td>train_avg_loss</td><td>█▁</td></tr><tr><td>train_loss</td><td>██▇▆▅▄▄▃▂▃▁▂▂▂▁▁▃▁▁▁▁▁</td></tr><tr><td>trainer/global_step</td><td>▁▁▂▂▂▃▃▃▄▄▄▄▅▅▅▆▆▆▇▇▇▇███</td></tr><tr><td>val_acc</td><td>▁█</td></tr><tr><td>val_avg_acc</td><td>▁█</td></tr><tr><td>val_avg_loss</td><td>█▁</td></tr><tr><td>val_loss</td><td>█▁</td></tr></table><br/></div><div class=\"wandb-col\"><h3>Run summary:</h3><br/><table class=\"wandb\"><tr><td>epoch</td><td>2</td></tr><tr><td>test_acc</td><td>0.89708</td></tr><tr><td>test_loss</td><td>0.3502</td></tr><tr><td>train_acc</td><td>0.81071</td></tr><tr><td>train_avg_acc</td><td>0.87129</td></tr><tr><td>train_avg_loss</td><td>0.44978</td></tr><tr><td>train_loss</td><td>0.42652</td></tr><tr><td>trainer/global_step</td><td>1126</td></tr><tr><td>val_acc</td><td>0.88651</td></tr><tr><td>val_avg_acc</td><td>0.88651</td></tr><tr><td>val_avg_loss</td><td>0.36986</td></tr><tr><td>val_loss</td><td>0.36986</td></tr></table><br/></div></div>"
      ],
      "text/plain": [
       "<IPython.core.display.HTML object>"
      ]
     },
     "metadata": {},
     "output_type": "display_data"
    },
    {
     "data": {
      "text/html": [
       " View run <strong style=\"color:#cdcd00\">v16_s8</strong> at: <a href='https://wandb.ai/suwon-pabby/sweep-test/runs/zzm7uni0' target=\"_blank\">https://wandb.ai/suwon-pabby/sweep-test/runs/zzm7uni0</a><br/>Synced 6 W&B file(s), 0 media file(s), 0 artifact file(s) and 0 other file(s)"
      ],
      "text/plain": [
       "<IPython.core.display.HTML object>"
      ]
     },
     "metadata": {},
     "output_type": "display_data"
    },
    {
     "data": {
      "text/html": [
       "Find logs at: <code>./wandb/run-20230725_142119-zzm7uni0/logs</code>"
      ],
      "text/plain": [
       "<IPython.core.display.HTML object>"
      ]
     },
     "metadata": {},
     "output_type": "display_data"
    },
    {
     "name": "stderr",
     "output_type": "stream",
     "text": [
      "\u001b[34m\u001b[1mwandb\u001b[0m: Agent Starting Run: 3fmzz18s with config:\n",
      "\u001b[34m\u001b[1mwandb\u001b[0m: \tbatch_size: 64\n",
      "\u001b[34m\u001b[1mwandb\u001b[0m: \ttype: large\n",
      "Failed to detect the name of this notebook, you can set it manually with the WANDB_NOTEBOOK_NAME environment variable to enable code saving.\n"
     ]
    },
    {
     "data": {
      "text/html": [
       "wandb version 0.15.6 is available!  To upgrade, please run:\n",
       " $ pip install wandb --upgrade"
      ],
      "text/plain": [
       "<IPython.core.display.HTML object>"
      ]
     },
     "metadata": {},
     "output_type": "display_data"
    },
    {
     "data": {
      "text/html": [
       "Tracking run with wandb version 0.15.5"
      ],
      "text/plain": [
       "<IPython.core.display.HTML object>"
      ]
     },
     "metadata": {},
     "output_type": "display_data"
    },
    {
     "data": {
      "text/html": [
       "Run data is saved locally in <code>/Users/lee/Desktop/이의진/Programmers/finalProject/AIInfra/baselines/wandb/run-20230725_142243-3fmzz18s</code>"
      ],
      "text/plain": [
       "<IPython.core.display.HTML object>"
      ]
     },
     "metadata": {},
     "output_type": "display_data"
    },
    {
     "data": {
      "text/html": [
       "Syncing run <strong><a href='https://wandb.ai/suwon-pabby/sweep-test/runs/3fmzz18s' target=\"_blank\">v16_s9</a></strong> to <a href='https://wandb.ai/suwon-pabby/sweep-test' target=\"_blank\">Weights & Biases</a> (<a href='https://wandb.me/run' target=\"_blank\">docs</a>)<br/>Sweep page: <a href='https://wandb.ai/suwon-pabby/sweep-test/sweeps/0nf73hon' target=\"_blank\">https://wandb.ai/suwon-pabby/sweep-test/sweeps/0nf73hon</a>"
      ],
      "text/plain": [
       "<IPython.core.display.HTML object>"
      ]
     },
     "metadata": {},
     "output_type": "display_data"
    },
    {
     "data": {
      "text/html": [
       " View project at <a href='https://wandb.ai/suwon-pabby/sweep-test' target=\"_blank\">https://wandb.ai/suwon-pabby/sweep-test</a>"
      ],
      "text/plain": [
       "<IPython.core.display.HTML object>"
      ]
     },
     "metadata": {},
     "output_type": "display_data"
    },
    {
     "data": {
      "text/html": [
       " View sweep at <a href='https://wandb.ai/suwon-pabby/sweep-test/sweeps/0nf73hon' target=\"_blank\">https://wandb.ai/suwon-pabby/sweep-test/sweeps/0nf73hon</a>"
      ],
      "text/plain": [
       "<IPython.core.display.HTML object>"
      ]
     },
     "metadata": {},
     "output_type": "display_data"
    },
    {
     "data": {
      "text/html": [
       " View run at <a href='https://wandb.ai/suwon-pabby/sweep-test/runs/3fmzz18s' target=\"_blank\">https://wandb.ai/suwon-pabby/sweep-test/runs/3fmzz18s</a>"
      ],
      "text/plain": [
       "<IPython.core.display.HTML object>"
      ]
     },
     "metadata": {},
     "output_type": "display_data"
    },
    {
     "name": "stderr",
     "output_type": "stream",
     "text": [
      "GPU available: True (mps), used: True\n",
      "TPU available: False, using: 0 TPU cores\n",
      "IPU available: False, using: 0 IPUs\n",
      "HPU available: False, using: 0 HPUs\n",
      "\n",
      "  | Name  | Type     | Params\n",
      "-----------------------------------\n",
      "0 | model | CNNModel | 886 K \n",
      "-----------------------------------\n",
      "886 K     Trainable params\n",
      "0         Non-trainable params\n",
      "886 K     Total params\n",
      "3.545     Total estimated model params size (MB)\n"
     ]
    },
    {
     "name": "stdout",
     "output_type": "stream",
     "text": [
      "Epoch 0: 100%|██████████| 563/563 [00:21<00:00, 25.70it/s, v_num=z18s, train_acc=0.722, train_loss=0.681]\n",
      "Epoch 0, Avg. Training Loss: 1.406, Avg. Training Accuracy: 0.665 Avg. Validation Loss: 0.606, Avg. Validation Accuracy: 0.848\n",
      "Epoch 1: 100%|██████████| 563/563 [00:21<00:00, 26.22it/s, v_num=z18s, train_acc=0.767, train_loss=0.370]\n",
      "Epoch 1, Avg. Training Loss: 0.453, Avg. Training Accuracy: 0.874 Avg. Validation Loss: 0.360, Avg. Validation Accuracy: 0.894\n",
      "Epoch 1: 100%|██████████| 563/563 [00:32<00:00, 17.27it/s, v_num=z18s, train_acc=0.767, train_loss=0.370]"
     ]
    },
    {
     "name": "stderr",
     "output_type": "stream",
     "text": [
      "`Trainer.fit` stopped: `max_epochs=2` reached.\n"
     ]
    },
    {
     "name": "stdout",
     "output_type": "stream",
     "text": [
      "Epoch 1: 100%|██████████| 563/563 [00:32<00:00, 17.24it/s, v_num=z18s, train_acc=0.767, train_loss=0.370]\n",
      "Testing DataLoader 0: 100%|██████████| 157/157 [00:04<00:00, 36.58it/s]\n"
     ]
    },
    {
     "data": {
      "text/html": [
       "<pre style=\"white-space:pre;overflow-x:auto;line-height:normal;font-family:Menlo,'DejaVu Sans Mono',consolas,'Courier New',monospace\">┏━━━━━━━━━━━━━━━━━━━━━━━━━━━┳━━━━━━━━━━━━━━━━━━━━━━━━━━━┓\n",
       "┃<span style=\"font-weight: bold\">        Test metric        </span>┃<span style=\"font-weight: bold\">       DataLoader 0        </span>┃\n",
       "┡━━━━━━━━━━━━━━━━━━━━━━━━━━━╇━━━━━━━━━━━━━━━━━━━━━━━━━━━┩\n",
       "│<span style=\"color: #008080; text-decoration-color: #008080\">         test_acc          </span>│<span style=\"color: #800080; text-decoration-color: #800080\">     0.89888596534729      </span>│\n",
       "│<span style=\"color: #008080; text-decoration-color: #008080\">         test_loss         </span>│<span style=\"color: #800080; text-decoration-color: #800080\">    0.3485855162143707     </span>│\n",
       "└───────────────────────────┴───────────────────────────┘\n",
       "</pre>\n"
      ],
      "text/plain": [
       "┏━━━━━━━━━━━━━━━━━━━━━━━━━━━┳━━━━━━━━━━━━━━━━━━━━━━━━━━━┓\n",
       "┃\u001b[1m \u001b[0m\u001b[1m       Test metric       \u001b[0m\u001b[1m \u001b[0m┃\u001b[1m \u001b[0m\u001b[1m      DataLoader 0       \u001b[0m\u001b[1m \u001b[0m┃\n",
       "┡━━━━━━━━━━━━━━━━━━━━━━━━━━━╇━━━━━━━━━━━━━━━━━━━━━━━━━━━┩\n",
       "│\u001b[36m \u001b[0m\u001b[36m        test_acc         \u001b[0m\u001b[36m \u001b[0m│\u001b[35m \u001b[0m\u001b[35m    0.89888596534729     \u001b[0m\u001b[35m \u001b[0m│\n",
       "│\u001b[36m \u001b[0m\u001b[36m        test_loss        \u001b[0m\u001b[36m \u001b[0m│\u001b[35m \u001b[0m\u001b[35m   0.3485855162143707    \u001b[0m\u001b[35m \u001b[0m│\n",
       "└───────────────────────────┴───────────────────────────┘\n"
      ]
     },
     "metadata": {},
     "output_type": "display_data"
    },
    {
     "data": {
      "text/html": [
       "Waiting for W&B process to finish... <strong style=\"color:green\">(success).</strong>"
      ],
      "text/plain": [
       "<IPython.core.display.HTML object>"
      ]
     },
     "metadata": {},
     "output_type": "display_data"
    },
    {
     "data": {
      "text/html": [
       "<style>\n",
       "    table.wandb td:nth-child(1) { padding: 0 10px; text-align: left ; width: auto;} td:nth-child(2) {text-align: left ; width: 100%}\n",
       "    .wandb-row { display: flex; flex-direction: row; flex-wrap: wrap; justify-content: flex-start; width: 100% }\n",
       "    .wandb-col { display: flex; flex-direction: column; flex-basis: 100%; flex: 1; padding: 10px; }\n",
       "    </style>\n",
       "<div class=\"wandb-row\"><div class=\"wandb-col\"><h3>Run history:</h3><br/><table class=\"wandb\"><tr><td>epoch</td><td>▁▁▁▁▁▁▁▁▁▁▁▁▅▅▅▅▅▅▅▅▅▅▅▅█</td></tr><tr><td>test_acc</td><td>▁</td></tr><tr><td>test_loss</td><td>▁</td></tr><tr><td>train_acc</td><td>▁▄▅▄▅▅▅▇▇███▇▇█▇███▇▇█</td></tr><tr><td>train_avg_acc</td><td>▁█</td></tr><tr><td>train_avg_loss</td><td>█▁</td></tr><tr><td>train_loss</td><td>██▇▆▅▄▄▂▂▂▁▂▁▁▁▂▁▁▂▁▁▁</td></tr><tr><td>trainer/global_step</td><td>▁▁▂▂▂▃▃▃▄▄▄▄▅▅▅▆▆▆▇▇▇▇███</td></tr><tr><td>val_acc</td><td>▁█</td></tr><tr><td>val_avg_acc</td><td>▁█</td></tr><tr><td>val_avg_loss</td><td>█▁</td></tr><tr><td>val_loss</td><td>█▁</td></tr></table><br/></div><div class=\"wandb-col\"><h3>Run summary:</h3><br/><table class=\"wandb\"><tr><td>epoch</td><td>2</td></tr><tr><td>test_acc</td><td>0.89889</td></tr><tr><td>test_loss</td><td>0.34859</td></tr><tr><td>train_acc</td><td>0.88249</td></tr><tr><td>train_avg_acc</td><td>0.87388</td></tr><tr><td>train_avg_loss</td><td>0.45333</td></tr><tr><td>train_loss</td><td>0.37701</td></tr><tr><td>trainer/global_step</td><td>1126</td></tr><tr><td>val_acc</td><td>0.89364</td></tr><tr><td>val_avg_acc</td><td>0.89364</td></tr><tr><td>val_avg_loss</td><td>0.3602</td></tr><tr><td>val_loss</td><td>0.3602</td></tr></table><br/></div></div>"
      ],
      "text/plain": [
       "<IPython.core.display.HTML object>"
      ]
     },
     "metadata": {},
     "output_type": "display_data"
    },
    {
     "data": {
      "text/html": [
       " View run <strong style=\"color:#cdcd00\">v16_s9</strong> at: <a href='https://wandb.ai/suwon-pabby/sweep-test/runs/3fmzz18s' target=\"_blank\">https://wandb.ai/suwon-pabby/sweep-test/runs/3fmzz18s</a><br/>Synced 6 W&B file(s), 0 media file(s), 0 artifact file(s) and 0 other file(s)"
      ],
      "text/plain": [
       "<IPython.core.display.HTML object>"
      ]
     },
     "metadata": {},
     "output_type": "display_data"
    },
    {
     "data": {
      "text/html": [
       "Find logs at: <code>./wandb/run-20230725_142243-3fmzz18s/logs</code>"
      ],
      "text/plain": [
       "<IPython.core.display.HTML object>"
      ]
     },
     "metadata": {},
     "output_type": "display_data"
    },
    {
     "name": "stderr",
     "output_type": "stream",
     "text": [
      "\u001b[34m\u001b[1mwandb\u001b[0m: Agent Starting Run: ro43evrp with config:\n",
      "\u001b[34m\u001b[1mwandb\u001b[0m: \tbatch_size: 128\n",
      "\u001b[34m\u001b[1mwandb\u001b[0m: \ttype: large\n",
      "Failed to detect the name of this notebook, you can set it manually with the WANDB_NOTEBOOK_NAME environment variable to enable code saving.\n"
     ]
    },
    {
     "data": {
      "text/html": [
       "wandb version 0.15.6 is available!  To upgrade, please run:\n",
       " $ pip install wandb --upgrade"
      ],
      "text/plain": [
       "<IPython.core.display.HTML object>"
      ]
     },
     "metadata": {},
     "output_type": "display_data"
    },
    {
     "data": {
      "text/html": [
       "Tracking run with wandb version 0.15.5"
      ],
      "text/plain": [
       "<IPython.core.display.HTML object>"
      ]
     },
     "metadata": {},
     "output_type": "display_data"
    },
    {
     "data": {
      "text/html": [
       "Run data is saved locally in <code>/Users/lee/Desktop/이의진/Programmers/finalProject/AIInfra/baselines/wandb/run-20230725_142407-ro43evrp</code>"
      ],
      "text/plain": [
       "<IPython.core.display.HTML object>"
      ]
     },
     "metadata": {},
     "output_type": "display_data"
    },
    {
     "data": {
      "text/html": [
       "Syncing run <strong><a href='https://wandb.ai/suwon-pabby/sweep-test/runs/ro43evrp' target=\"_blank\">v16_s10</a></strong> to <a href='https://wandb.ai/suwon-pabby/sweep-test' target=\"_blank\">Weights & Biases</a> (<a href='https://wandb.me/run' target=\"_blank\">docs</a>)<br/>Sweep page: <a href='https://wandb.ai/suwon-pabby/sweep-test/sweeps/0nf73hon' target=\"_blank\">https://wandb.ai/suwon-pabby/sweep-test/sweeps/0nf73hon</a>"
      ],
      "text/plain": [
       "<IPython.core.display.HTML object>"
      ]
     },
     "metadata": {},
     "output_type": "display_data"
    },
    {
     "data": {
      "text/html": [
       " View project at <a href='https://wandb.ai/suwon-pabby/sweep-test' target=\"_blank\">https://wandb.ai/suwon-pabby/sweep-test</a>"
      ],
      "text/plain": [
       "<IPython.core.display.HTML object>"
      ]
     },
     "metadata": {},
     "output_type": "display_data"
    },
    {
     "data": {
      "text/html": [
       " View sweep at <a href='https://wandb.ai/suwon-pabby/sweep-test/sweeps/0nf73hon' target=\"_blank\">https://wandb.ai/suwon-pabby/sweep-test/sweeps/0nf73hon</a>"
      ],
      "text/plain": [
       "<IPython.core.display.HTML object>"
      ]
     },
     "metadata": {},
     "output_type": "display_data"
    },
    {
     "data": {
      "text/html": [
       " View run at <a href='https://wandb.ai/suwon-pabby/sweep-test/runs/ro43evrp' target=\"_blank\">https://wandb.ai/suwon-pabby/sweep-test/runs/ro43evrp</a>"
      ],
      "text/plain": [
       "<IPython.core.display.HTML object>"
      ]
     },
     "metadata": {},
     "output_type": "display_data"
    },
    {
     "name": "stderr",
     "output_type": "stream",
     "text": [
      "GPU available: True (mps), used: True\n",
      "TPU available: False, using: 0 TPU cores\n",
      "IPU available: False, using: 0 IPUs\n",
      "HPU available: False, using: 0 HPUs\n",
      "\n",
      "  | Name  | Type     | Params\n",
      "-----------------------------------\n",
      "0 | model | CNNModel | 886 K \n",
      "-----------------------------------\n",
      "886 K     Trainable params\n",
      "0         Non-trainable params\n",
      "886 K     Total params\n",
      "3.545     Total estimated model params size (MB)\n"
     ]
    },
    {
     "name": "stdout",
     "output_type": "stream",
     "text": [
      "Epoch 0: 100%|██████████| 282/282 [00:12<00:00, 21.86it/s, v_num=evrp, train_acc=0.765, train_loss=1.180]\n",
      "Epoch 0, Avg. Training Loss: 1.909, Avg. Training Accuracy: 0.527 Avg. Validation Loss: 1.261, Avg. Validation Accuracy: 0.733\n",
      "Epoch 1: 100%|██████████| 282/282 [00:12<00:00, 22.61it/s, v_num=evrp, train_acc=0.952, train_loss=0.539]\n",
      "Epoch 1, Avg. Training Loss: 0.829, Avg. Training Accuracy: 0.803 Avg. Validation Loss: 0.608, Avg. Validation Accuracy: 0.839\n",
      "Epoch 1: 100%|██████████| 282/282 [00:18<00:00, 15.04it/s, v_num=evrp, train_acc=0.952, train_loss=0.539]"
     ]
    },
    {
     "name": "stderr",
     "output_type": "stream",
     "text": [
      "`Trainer.fit` stopped: `max_epochs=2` reached.\n"
     ]
    },
    {
     "name": "stdout",
     "output_type": "stream",
     "text": [
      "Epoch 1: 100%|██████████| 282/282 [00:18<00:00, 15.00it/s, v_num=evrp, train_acc=0.952, train_loss=0.539]\n",
      "Testing DataLoader 0: 100%|██████████| 79/79 [00:02<00:00, 33.59it/s]\n"
     ]
    },
    {
     "data": {
      "text/html": [
       "<pre style=\"white-space:pre;overflow-x:auto;line-height:normal;font-family:Menlo,'DejaVu Sans Mono',consolas,'Courier New',monospace\">┏━━━━━━━━━━━━━━━━━━━━━━━━━━━┳━━━━━━━━━━━━━━━━━━━━━━━━━━━┓\n",
       "┃<span style=\"font-weight: bold\">        Test metric        </span>┃<span style=\"font-weight: bold\">       DataLoader 0        </span>┃\n",
       "┡━━━━━━━━━━━━━━━━━━━━━━━━━━━╇━━━━━━━━━━━━━━━━━━━━━━━━━━━┩\n",
       "│<span style=\"color: #008080; text-decoration-color: #008080\">         test_acc          </span>│<span style=\"color: #800080; text-decoration-color: #800080\">     0.852843165397644     </span>│\n",
       "│<span style=\"color: #008080; text-decoration-color: #008080\">         test_loss         </span>│<span style=\"color: #800080; text-decoration-color: #800080\">     0.58208167552948      </span>│\n",
       "└───────────────────────────┴───────────────────────────┘\n",
       "</pre>\n"
      ],
      "text/plain": [
       "┏━━━━━━━━━━━━━━━━━━━━━━━━━━━┳━━━━━━━━━━━━━━━━━━━━━━━━━━━┓\n",
       "┃\u001b[1m \u001b[0m\u001b[1m       Test metric       \u001b[0m\u001b[1m \u001b[0m┃\u001b[1m \u001b[0m\u001b[1m      DataLoader 0       \u001b[0m\u001b[1m \u001b[0m┃\n",
       "┡━━━━━━━━━━━━━━━━━━━━━━━━━━━╇━━━━━━━━━━━━━━━━━━━━━━━━━━━┩\n",
       "│\u001b[36m \u001b[0m\u001b[36m        test_acc         \u001b[0m\u001b[36m \u001b[0m│\u001b[35m \u001b[0m\u001b[35m    0.852843165397644    \u001b[0m\u001b[35m \u001b[0m│\n",
       "│\u001b[36m \u001b[0m\u001b[36m        test_loss        \u001b[0m\u001b[36m \u001b[0m│\u001b[35m \u001b[0m\u001b[35m    0.58208167552948     \u001b[0m\u001b[35m \u001b[0m│\n",
       "└───────────────────────────┴───────────────────────────┘\n"
      ]
     },
     "metadata": {},
     "output_type": "display_data"
    },
    {
     "data": {
      "text/html": [
       "Waiting for W&B process to finish... <strong style=\"color:green\">(success).</strong>"
      ],
      "text/plain": [
       "<IPython.core.display.HTML object>"
      ]
     },
     "metadata": {},
     "output_type": "display_data"
    },
    {
     "data": {
      "text/html": [
       "<style>\n",
       "    table.wandb td:nth-child(1) { padding: 0 10px; text-align: left ; width: auto;} td:nth-child(2) {text-align: left ; width: 100%}\n",
       "    .wandb-row { display: flex; flex-direction: row; flex-wrap: wrap; justify-content: flex-start; width: 100% }\n",
       "    .wandb-col { display: flex; flex-direction: column; flex-basis: 100%; flex: 1; padding: 10px; }\n",
       "    </style>\n",
       "<div class=\"wandb-row\"><div class=\"wandb-col\"><h3>Run history:</h3><br/><table class=\"wandb\"><tr><td>epoch</td><td>▁▁▁▁▁▁▅▅▅▅▅▅▅█</td></tr><tr><td>test_acc</td><td>▁</td></tr><tr><td>test_loss</td><td>▁</td></tr><tr><td>train_acc</td><td>▁▄▅▅▆▇▇█▇█▇</td></tr><tr><td>train_avg_acc</td><td>▁█</td></tr><tr><td>train_avg_loss</td><td>█▁</td></tr><tr><td>train_loss</td><td>██▇▆▄▃▂▂▂▁▁</td></tr><tr><td>trainer/global_step</td><td>▁▂▂▃▄▄▄▅▆▆▇███</td></tr><tr><td>val_acc</td><td>▁█</td></tr><tr><td>val_avg_acc</td><td>▁█</td></tr><tr><td>val_avg_loss</td><td>█▁</td></tr><tr><td>val_loss</td><td>█▁</td></tr></table><br/></div><div class=\"wandb-col\"><h3>Run summary:</h3><br/><table class=\"wandb\"><tr><td>epoch</td><td>2</td></tr><tr><td>test_acc</td><td>0.85284</td></tr><tr><td>test_loss</td><td>0.58208</td></tr><tr><td>train_acc</td><td>0.81151</td></tr><tr><td>train_avg_acc</td><td>0.80332</td></tr><tr><td>train_avg_loss</td><td>0.82851</td></tr><tr><td>train_loss</td><td>0.59882</td></tr><tr><td>trainer/global_step</td><td>564</td></tr><tr><td>val_acc</td><td>0.83921</td></tr><tr><td>val_avg_acc</td><td>0.83919</td></tr><tr><td>val_avg_loss</td><td>0.60755</td></tr><tr><td>val_loss</td><td>0.60764</td></tr></table><br/></div></div>"
      ],
      "text/plain": [
       "<IPython.core.display.HTML object>"
      ]
     },
     "metadata": {},
     "output_type": "display_data"
    },
    {
     "data": {
      "text/html": [
       " View run <strong style=\"color:#cdcd00\">v16_s10</strong> at: <a href='https://wandb.ai/suwon-pabby/sweep-test/runs/ro43evrp' target=\"_blank\">https://wandb.ai/suwon-pabby/sweep-test/runs/ro43evrp</a><br/>Synced 6 W&B file(s), 0 media file(s), 0 artifact file(s) and 0 other file(s)"
      ],
      "text/plain": [
       "<IPython.core.display.HTML object>"
      ]
     },
     "metadata": {},
     "output_type": "display_data"
    },
    {
     "data": {
      "text/html": [
       "Find logs at: <code>./wandb/run-20230725_142407-ro43evrp/logs</code>"
      ],
      "text/plain": [
       "<IPython.core.display.HTML object>"
      ]
     },
     "metadata": {},
     "output_type": "display_data"
    },
    {
     "name": "stderr",
     "output_type": "stream",
     "text": [
      "\u001b[34m\u001b[1mwandb\u001b[0m: Agent Starting Run: zm696k5e with config:\n",
      "\u001b[34m\u001b[1mwandb\u001b[0m: \tbatch_size: 32\n",
      "\u001b[34m\u001b[1mwandb\u001b[0m: \ttype: small\n",
      "Failed to detect the name of this notebook, you can set it manually with the WANDB_NOTEBOOK_NAME environment variable to enable code saving.\n"
     ]
    },
    {
     "data": {
      "text/html": [
       "wandb version 0.15.6 is available!  To upgrade, please run:\n",
       " $ pip install wandb --upgrade"
      ],
      "text/plain": [
       "<IPython.core.display.HTML object>"
      ]
     },
     "metadata": {},
     "output_type": "display_data"
    },
    {
     "data": {
      "text/html": [
       "Tracking run with wandb version 0.15.5"
      ],
      "text/plain": [
       "<IPython.core.display.HTML object>"
      ]
     },
     "metadata": {},
     "output_type": "display_data"
    },
    {
     "data": {
      "text/html": [
       "Run data is saved locally in <code>/Users/lee/Desktop/이의진/Programmers/finalProject/AIInfra/baselines/wandb/run-20230725_142501-zm696k5e</code>"
      ],
      "text/plain": [
       "<IPython.core.display.HTML object>"
      ]
     },
     "metadata": {},
     "output_type": "display_data"
    },
    {
     "data": {
      "text/html": [
       "Syncing run <strong><a href='https://wandb.ai/suwon-pabby/sweep-test/runs/zm696k5e' target=\"_blank\">v16_s11</a></strong> to <a href='https://wandb.ai/suwon-pabby/sweep-test' target=\"_blank\">Weights & Biases</a> (<a href='https://wandb.me/run' target=\"_blank\">docs</a>)<br/>Sweep page: <a href='https://wandb.ai/suwon-pabby/sweep-test/sweeps/0nf73hon' target=\"_blank\">https://wandb.ai/suwon-pabby/sweep-test/sweeps/0nf73hon</a>"
      ],
      "text/plain": [
       "<IPython.core.display.HTML object>"
      ]
     },
     "metadata": {},
     "output_type": "display_data"
    },
    {
     "data": {
      "text/html": [
       " View project at <a href='https://wandb.ai/suwon-pabby/sweep-test' target=\"_blank\">https://wandb.ai/suwon-pabby/sweep-test</a>"
      ],
      "text/plain": [
       "<IPython.core.display.HTML object>"
      ]
     },
     "metadata": {},
     "output_type": "display_data"
    },
    {
     "data": {
      "text/html": [
       " View sweep at <a href='https://wandb.ai/suwon-pabby/sweep-test/sweeps/0nf73hon' target=\"_blank\">https://wandb.ai/suwon-pabby/sweep-test/sweeps/0nf73hon</a>"
      ],
      "text/plain": [
       "<IPython.core.display.HTML object>"
      ]
     },
     "metadata": {},
     "output_type": "display_data"
    },
    {
     "data": {
      "text/html": [
       " View run at <a href='https://wandb.ai/suwon-pabby/sweep-test/runs/zm696k5e' target=\"_blank\">https://wandb.ai/suwon-pabby/sweep-test/runs/zm696k5e</a>"
      ],
      "text/plain": [
       "<IPython.core.display.HTML object>"
      ]
     },
     "metadata": {},
     "output_type": "display_data"
    },
    {
     "name": "stderr",
     "output_type": "stream",
     "text": [
      "GPU available: True (mps), used: True\n",
      "TPU available: False, using: 0 TPU cores\n",
      "IPU available: False, using: 0 IPUs\n",
      "HPU available: False, using: 0 HPUs\n",
      "\n",
      "  | Name  | Type     | Params\n",
      "-----------------------------------\n",
      "0 | model | CNNModel | 429 K \n",
      "-----------------------------------\n",
      "429 K     Trainable params\n",
      "0         Non-trainable params\n",
      "429 K     Total params\n",
      "1.717     Total estimated model params size (MB)\n"
     ]
    },
    {
     "name": "stdout",
     "output_type": "stream",
     "text": [
      "Epoch 0: 100%|██████████| 1125/1125 [00:36<00:00, 30.60it/s, v_num=6k5e, train_acc=0.702, train_loss=0.499]\n",
      "Epoch 0, Avg. Training Loss: 1.323, Avg. Training Accuracy: 0.603 Avg. Validation Loss: 0.567, Avg. Validation Accuracy: 0.809\n",
      "Epoch 1: 100%|██████████| 1125/1125 [00:35<00:00, 31.31it/s, v_num=6k5e, train_acc=0.727, train_loss=0.319]\n",
      "Epoch 1, Avg. Training Loss: 0.428, Avg. Training Accuracy: 0.842 Avg. Validation Loss: 0.360, Avg. Validation Accuracy: 0.864\n",
      "Epoch 1: 100%|██████████| 1125/1125 [00:54<00:00, 20.75it/s, v_num=6k5e, train_acc=0.727, train_loss=0.319]"
     ]
    },
    {
     "name": "stderr",
     "output_type": "stream",
     "text": [
      "`Trainer.fit` stopped: `max_epochs=2` reached.\n"
     ]
    },
    {
     "name": "stdout",
     "output_type": "stream",
     "text": [
      "Epoch 1: 100%|██████████| 1125/1125 [00:54<00:00, 20.74it/s, v_num=6k5e, train_acc=0.727, train_loss=0.319]\n",
      "Testing DataLoader 0: 100%|██████████| 313/313 [00:07<00:00, 41.66it/s]\n"
     ]
    },
    {
     "data": {
      "text/html": [
       "<pre style=\"white-space:pre;overflow-x:auto;line-height:normal;font-family:Menlo,'DejaVu Sans Mono',consolas,'Courier New',monospace\">┏━━━━━━━━━━━━━━━━━━━━━━━━━━━┳━━━━━━━━━━━━━━━━━━━━━━━━━━━┓\n",
       "┃<span style=\"font-weight: bold\">        Test metric        </span>┃<span style=\"font-weight: bold\">       DataLoader 0        </span>┃\n",
       "┡━━━━━━━━━━━━━━━━━━━━━━━━━━━╇━━━━━━━━━━━━━━━━━━━━━━━━━━━┩\n",
       "│<span style=\"color: #008080; text-decoration-color: #008080\">         test_acc          </span>│<span style=\"color: #800080; text-decoration-color: #800080\">    0.8789898157119751     </span>│\n",
       "│<span style=\"color: #008080; text-decoration-color: #008080\">         test_loss         </span>│<span style=\"color: #800080; text-decoration-color: #800080\">    0.3416893184185028     </span>│\n",
       "└───────────────────────────┴───────────────────────────┘\n",
       "</pre>\n"
      ],
      "text/plain": [
       "┏━━━━━━━━━━━━━━━━━━━━━━━━━━━┳━━━━━━━━━━━━━━━━━━━━━━━━━━━┓\n",
       "┃\u001b[1m \u001b[0m\u001b[1m       Test metric       \u001b[0m\u001b[1m \u001b[0m┃\u001b[1m \u001b[0m\u001b[1m      DataLoader 0       \u001b[0m\u001b[1m \u001b[0m┃\n",
       "┡━━━━━━━━━━━━━━━━━━━━━━━━━━━╇━━━━━━━━━━━━━━━━━━━━━━━━━━━┩\n",
       "│\u001b[36m \u001b[0m\u001b[36m        test_acc         \u001b[0m\u001b[36m \u001b[0m│\u001b[35m \u001b[0m\u001b[35m   0.8789898157119751    \u001b[0m\u001b[35m \u001b[0m│\n",
       "│\u001b[36m \u001b[0m\u001b[36m        test_loss        \u001b[0m\u001b[36m \u001b[0m│\u001b[35m \u001b[0m\u001b[35m   0.3416893184185028    \u001b[0m\u001b[35m \u001b[0m│\n",
       "└───────────────────────────┴───────────────────────────┘\n"
      ]
     },
     "metadata": {},
     "output_type": "display_data"
    },
    {
     "data": {
      "text/html": [
       "Waiting for W&B process to finish... <strong style=\"color:green\">(success).</strong>"
      ],
      "text/plain": [
       "<IPython.core.display.HTML object>"
      ]
     },
     "metadata": {},
     "output_type": "display_data"
    },
    {
     "data": {
      "text/html": [
       "<style>\n",
       "    table.wandb td:nth-child(1) { padding: 0 10px; text-align: left ; width: auto;} td:nth-child(2) {text-align: left ; width: 100%}\n",
       "    .wandb-row { display: flex; flex-direction: row; flex-wrap: wrap; justify-content: flex-start; width: 100% }\n",
       "    .wandb-col { display: flex; flex-direction: column; flex-basis: 100%; flex: 1; padding: 10px; }\n",
       "    </style>\n",
       "<div class=\"wandb-row\"><div class=\"wandb-col\"><h3>Run history:</h3><br/><table class=\"wandb\"><tr><td>epoch</td><td>▁▁▁▁▁▁▁▁▁▁▁▁▁▁▁▁▁▁▁▁▅▅▅▅▅▅▅▅▅▅▅▅▅▅▅▅▅▅▅█</td></tr><tr><td>test_acc</td><td>▁</td></tr><tr><td>test_loss</td><td>▁</td></tr><tr><td>train_acc</td><td>▂▁▂▅▅▅▄▅▆▇▅▇▆▅▆▇▇▇▇▆▇█▆█▇▇▇▇▇██▆█████▆▇▆</td></tr><tr><td>train_avg_acc</td><td>▁█</td></tr><tr><td>train_avg_loss</td><td>█▁</td></tr><tr><td>train_loss</td><td>████▇▇▆▆▅▄▄▄▄▃▃▂▂▂▂▃▂▂▂▂▂▂▂▁▁▂▂▂▁▂▂▂▂▂▂▁</td></tr><tr><td>trainer/global_step</td><td>▁▁▁▁▂▂▂▂▂▃▃▃▃▃▄▄▄▄▄▄▅▅▅▅▅▆▆▆▆▆▇▇▇▇▇█████</td></tr><tr><td>val_acc</td><td>▁█</td></tr><tr><td>val_avg_acc</td><td>▁█</td></tr><tr><td>val_avg_loss</td><td>█▁</td></tr><tr><td>val_loss</td><td>█▁</td></tr></table><br/></div><div class=\"wandb-col\"><h3>Run summary:</h3><br/><table class=\"wandb\"><tr><td>epoch</td><td>2</td></tr><tr><td>test_acc</td><td>0.87899</td></tr><tr><td>test_loss</td><td>0.34169</td></tr><tr><td>train_acc</td><td>0.72667</td></tr><tr><td>train_avg_acc</td><td>0.84242</td></tr><tr><td>train_avg_loss</td><td>0.42758</td></tr><tr><td>train_loss</td><td>0.31894</td></tr><tr><td>trainer/global_step</td><td>2250</td></tr><tr><td>val_acc</td><td>0.8644</td></tr><tr><td>val_avg_acc</td><td>0.8644</td></tr><tr><td>val_avg_loss</td><td>0.35961</td></tr><tr><td>val_loss</td><td>0.35961</td></tr></table><br/></div></div>"
      ],
      "text/plain": [
       "<IPython.core.display.HTML object>"
      ]
     },
     "metadata": {},
     "output_type": "display_data"
    },
    {
     "data": {
      "text/html": [
       " View run <strong style=\"color:#cdcd00\">v16_s11</strong> at: <a href='https://wandb.ai/suwon-pabby/sweep-test/runs/zm696k5e' target=\"_blank\">https://wandb.ai/suwon-pabby/sweep-test/runs/zm696k5e</a><br/>Synced 6 W&B file(s), 0 media file(s), 0 artifact file(s) and 0 other file(s)"
      ],
      "text/plain": [
       "<IPython.core.display.HTML object>"
      ]
     },
     "metadata": {},
     "output_type": "display_data"
    },
    {
     "data": {
      "text/html": [
       "Find logs at: <code>./wandb/run-20230725_142501-zm696k5e/logs</code>"
      ],
      "text/plain": [
       "<IPython.core.display.HTML object>"
      ]
     },
     "metadata": {},
     "output_type": "display_data"
    },
    {
     "name": "stderr",
     "output_type": "stream",
     "text": [
      "\u001b[34m\u001b[1mwandb\u001b[0m: Agent Starting Run: g4m11t2i with config:\n",
      "\u001b[34m\u001b[1mwandb\u001b[0m: \tbatch_size: 32\n",
      "\u001b[34m\u001b[1mwandb\u001b[0m: \ttype: small\n",
      "Failed to detect the name of this notebook, you can set it manually with the WANDB_NOTEBOOK_NAME environment variable to enable code saving.\n"
     ]
    },
    {
     "data": {
      "text/html": [
       "wandb version 0.15.6 is available!  To upgrade, please run:\n",
       " $ pip install wandb --upgrade"
      ],
      "text/plain": [
       "<IPython.core.display.HTML object>"
      ]
     },
     "metadata": {},
     "output_type": "display_data"
    },
    {
     "data": {
      "text/html": [
       "Tracking run with wandb version 0.15.5"
      ],
      "text/plain": [
       "<IPython.core.display.HTML object>"
      ]
     },
     "metadata": {},
     "output_type": "display_data"
    },
    {
     "data": {
      "text/html": [
       "Run data is saved locally in <code>/Users/lee/Desktop/이의진/Programmers/finalProject/AIInfra/baselines/wandb/run-20230725_142714-g4m11t2i</code>"
      ],
      "text/plain": [
       "<IPython.core.display.HTML object>"
      ]
     },
     "metadata": {},
     "output_type": "display_data"
    },
    {
     "data": {
      "text/html": [
       "Syncing run <strong><a href='https://wandb.ai/suwon-pabby/sweep-test/runs/g4m11t2i' target=\"_blank\">v16_s12</a></strong> to <a href='https://wandb.ai/suwon-pabby/sweep-test' target=\"_blank\">Weights & Biases</a> (<a href='https://wandb.me/run' target=\"_blank\">docs</a>)<br/>Sweep page: <a href='https://wandb.ai/suwon-pabby/sweep-test/sweeps/0nf73hon' target=\"_blank\">https://wandb.ai/suwon-pabby/sweep-test/sweeps/0nf73hon</a>"
      ],
      "text/plain": [
       "<IPython.core.display.HTML object>"
      ]
     },
     "metadata": {},
     "output_type": "display_data"
    },
    {
     "data": {
      "text/html": [
       " View project at <a href='https://wandb.ai/suwon-pabby/sweep-test' target=\"_blank\">https://wandb.ai/suwon-pabby/sweep-test</a>"
      ],
      "text/plain": [
       "<IPython.core.display.HTML object>"
      ]
     },
     "metadata": {},
     "output_type": "display_data"
    },
    {
     "data": {
      "text/html": [
       " View sweep at <a href='https://wandb.ai/suwon-pabby/sweep-test/sweeps/0nf73hon' target=\"_blank\">https://wandb.ai/suwon-pabby/sweep-test/sweeps/0nf73hon</a>"
      ],
      "text/plain": [
       "<IPython.core.display.HTML object>"
      ]
     },
     "metadata": {},
     "output_type": "display_data"
    },
    {
     "data": {
      "text/html": [
       " View run at <a href='https://wandb.ai/suwon-pabby/sweep-test/runs/g4m11t2i' target=\"_blank\">https://wandb.ai/suwon-pabby/sweep-test/runs/g4m11t2i</a>"
      ],
      "text/plain": [
       "<IPython.core.display.HTML object>"
      ]
     },
     "metadata": {},
     "output_type": "display_data"
    },
    {
     "name": "stderr",
     "output_type": "stream",
     "text": [
      "GPU available: True (mps), used: True\n",
      "TPU available: False, using: 0 TPU cores\n",
      "IPU available: False, using: 0 IPUs\n",
      "HPU available: False, using: 0 HPUs\n",
      "\n",
      "  | Name  | Type     | Params\n",
      "-----------------------------------\n",
      "0 | model | CNNModel | 429 K \n",
      "-----------------------------------\n",
      "429 K     Trainable params\n",
      "0         Non-trainable params\n",
      "429 K     Total params\n",
      "1.717     Total estimated model params size (MB)\n"
     ]
    },
    {
     "name": "stdout",
     "output_type": "stream",
     "text": [
      "Epoch 0: 100%|██████████| 1125/1125 [00:36<00:00, 30.73it/s, v_num=1t2i, train_acc=0.763, train_loss=0.604]\n",
      "Epoch 0, Avg. Training Loss: 1.434, Avg. Training Accuracy: 0.576 Avg. Validation Loss: 0.629, Avg. Validation Accuracy: 0.793\n",
      "Epoch 1: 100%|██████████| 1125/1125 [00:36<00:00, 31.16it/s, v_num=1t2i, train_acc=0.813, train_loss=0.381]\n",
      "Epoch 1, Avg. Training Loss: 0.480, Avg. Training Accuracy: 0.832 Avg. Validation Loss: 0.399, Avg. Validation Accuracy: 0.856\n",
      "Epoch 1: 100%|██████████| 1125/1125 [00:54<00:00, 20.76it/s, v_num=1t2i, train_acc=0.813, train_loss=0.381]"
     ]
    },
    {
     "name": "stderr",
     "output_type": "stream",
     "text": [
      "`Trainer.fit` stopped: `max_epochs=2` reached.\n"
     ]
    },
    {
     "name": "stdout",
     "output_type": "stream",
     "text": [
      "Epoch 1: 100%|██████████| 1125/1125 [00:54<00:00, 20.75it/s, v_num=1t2i, train_acc=0.813, train_loss=0.381]\n",
      "Testing DataLoader 0: 100%|██████████| 313/313 [00:07<00:00, 42.80it/s]\n"
     ]
    },
    {
     "data": {
      "text/html": [
       "<pre style=\"white-space:pre;overflow-x:auto;line-height:normal;font-family:Menlo,'DejaVu Sans Mono',consolas,'Courier New',monospace\">┏━━━━━━━━━━━━━━━━━━━━━━━━━━━┳━━━━━━━━━━━━━━━━━━━━━━━━━━━┓\n",
       "┃<span style=\"font-weight: bold\">        Test metric        </span>┃<span style=\"font-weight: bold\">       DataLoader 0        </span>┃\n",
       "┡━━━━━━━━━━━━━━━━━━━━━━━━━━━╇━━━━━━━━━━━━━━━━━━━━━━━━━━━┩\n",
       "│<span style=\"color: #008080; text-decoration-color: #008080\">         test_acc          </span>│<span style=\"color: #800080; text-decoration-color: #800080\">    0.8689654469490051     </span>│\n",
       "│<span style=\"color: #008080; text-decoration-color: #008080\">         test_loss         </span>│<span style=\"color: #800080; text-decoration-color: #800080\">    0.38518160581588745    </span>│\n",
       "└───────────────────────────┴───────────────────────────┘\n",
       "</pre>\n"
      ],
      "text/plain": [
       "┏━━━━━━━━━━━━━━━━━━━━━━━━━━━┳━━━━━━━━━━━━━━━━━━━━━━━━━━━┓\n",
       "┃\u001b[1m \u001b[0m\u001b[1m       Test metric       \u001b[0m\u001b[1m \u001b[0m┃\u001b[1m \u001b[0m\u001b[1m      DataLoader 0       \u001b[0m\u001b[1m \u001b[0m┃\n",
       "┡━━━━━━━━━━━━━━━━━━━━━━━━━━━╇━━━━━━━━━━━━━━━━━━━━━━━━━━━┩\n",
       "│\u001b[36m \u001b[0m\u001b[36m        test_acc         \u001b[0m\u001b[36m \u001b[0m│\u001b[35m \u001b[0m\u001b[35m   0.8689654469490051    \u001b[0m\u001b[35m \u001b[0m│\n",
       "│\u001b[36m \u001b[0m\u001b[36m        test_loss        \u001b[0m\u001b[36m \u001b[0m│\u001b[35m \u001b[0m\u001b[35m   0.38518160581588745   \u001b[0m\u001b[35m \u001b[0m│\n",
       "└───────────────────────────┴───────────────────────────┘\n"
      ]
     },
     "metadata": {},
     "output_type": "display_data"
    },
    {
     "data": {
      "text/html": [
       "Waiting for W&B process to finish... <strong style=\"color:green\">(success).</strong>"
      ],
      "text/plain": [
       "<IPython.core.display.HTML object>"
      ]
     },
     "metadata": {},
     "output_type": "display_data"
    },
    {
     "data": {
      "text/html": [
       "<style>\n",
       "    table.wandb td:nth-child(1) { padding: 0 10px; text-align: left ; width: auto;} td:nth-child(2) {text-align: left ; width: 100%}\n",
       "    .wandb-row { display: flex; flex-direction: row; flex-wrap: wrap; justify-content: flex-start; width: 100% }\n",
       "    .wandb-col { display: flex; flex-direction: column; flex-basis: 100%; flex: 1; padding: 10px; }\n",
       "    </style>\n",
       "<div class=\"wandb-row\"><div class=\"wandb-col\"><h3>Run history:</h3><br/><table class=\"wandb\"><tr><td>epoch</td><td>▁▁▁▁▁▁▁▁▁▁▁▁▁▁▁▁▁▁▁▁▅▅▅▅▅▅▅▅▅▅▅▅▅▅▅▅▅▅▅█</td></tr><tr><td>test_acc</td><td>▁</td></tr><tr><td>test_loss</td><td>▁</td></tr><tr><td>train_acc</td><td>▁▁▂▃▂▄▄▅▅▆▆▅▆▇▇▅▆▇▇▆▇█▇▇▆▇██▇█▆▆█▇▅▆▇▆▇▇</td></tr><tr><td>train_avg_acc</td><td>▁█</td></tr><tr><td>train_avg_loss</td><td>█▁</td></tr><tr><td>train_loss</td><td>████▇▇▇▆▆▅▄▄▄▃▂▃▂▂▂▃▂▁▂▂▃▃▂▁▁▁▂▂▂▁▂▂▁▁▁▁</td></tr><tr><td>trainer/global_step</td><td>▁▁▁▁▂▂▂▂▂▃▃▃▃▃▄▄▄▄▄▄▅▅▅▅▅▆▆▆▆▆▇▇▇▇▇█████</td></tr><tr><td>val_acc</td><td>▁█</td></tr><tr><td>val_avg_acc</td><td>▁█</td></tr><tr><td>val_avg_loss</td><td>█▁</td></tr><tr><td>val_loss</td><td>█▁</td></tr></table><br/></div><div class=\"wandb-col\"><h3>Run summary:</h3><br/><table class=\"wandb\"><tr><td>epoch</td><td>2</td></tr><tr><td>test_acc</td><td>0.86897</td></tr><tr><td>test_loss</td><td>0.38518</td></tr><tr><td>train_acc</td><td>0.8131</td></tr><tr><td>train_avg_acc</td><td>0.83178</td></tr><tr><td>train_avg_loss</td><td>0.47974</td></tr><tr><td>train_loss</td><td>0.38069</td></tr><tr><td>trainer/global_step</td><td>2250</td></tr><tr><td>val_acc</td><td>0.85586</td></tr><tr><td>val_avg_acc</td><td>0.85586</td></tr><tr><td>val_avg_loss</td><td>0.39882</td></tr><tr><td>val_loss</td><td>0.39882</td></tr></table><br/></div></div>"
      ],
      "text/plain": [
       "<IPython.core.display.HTML object>"
      ]
     },
     "metadata": {},
     "output_type": "display_data"
    },
    {
     "data": {
      "text/html": [
       " View run <strong style=\"color:#cdcd00\">v16_s12</strong> at: <a href='https://wandb.ai/suwon-pabby/sweep-test/runs/g4m11t2i' target=\"_blank\">https://wandb.ai/suwon-pabby/sweep-test/runs/g4m11t2i</a><br/>Synced 6 W&B file(s), 0 media file(s), 0 artifact file(s) and 0 other file(s)"
      ],
      "text/plain": [
       "<IPython.core.display.HTML object>"
      ]
     },
     "metadata": {},
     "output_type": "display_data"
    },
    {
     "data": {
      "text/html": [
       "Find logs at: <code>./wandb/run-20230725_142714-g4m11t2i/logs</code>"
      ],
      "text/plain": [
       "<IPython.core.display.HTML object>"
      ]
     },
     "metadata": {},
     "output_type": "display_data"
    },
    {
     "name": "stderr",
     "output_type": "stream",
     "text": [
      "\u001b[34m\u001b[1mwandb\u001b[0m: Agent Starting Run: 72b90ygj with config:\n",
      "\u001b[34m\u001b[1mwandb\u001b[0m: \tbatch_size: 32\n",
      "\u001b[34m\u001b[1mwandb\u001b[0m: \ttype: small\n",
      "Failed to detect the name of this notebook, you can set it manually with the WANDB_NOTEBOOK_NAME environment variable to enable code saving.\n"
     ]
    },
    {
     "data": {
      "text/html": [
       "wandb version 0.15.6 is available!  To upgrade, please run:\n",
       " $ pip install wandb --upgrade"
      ],
      "text/plain": [
       "<IPython.core.display.HTML object>"
      ]
     },
     "metadata": {},
     "output_type": "display_data"
    },
    {
     "data": {
      "text/html": [
       "Tracking run with wandb version 0.15.5"
      ],
      "text/plain": [
       "<IPython.core.display.HTML object>"
      ]
     },
     "metadata": {},
     "output_type": "display_data"
    },
    {
     "data": {
      "text/html": [
       "Run data is saved locally in <code>/Users/lee/Desktop/이의진/Programmers/finalProject/AIInfra/baselines/wandb/run-20230725_142926-72b90ygj</code>"
      ],
      "text/plain": [
       "<IPython.core.display.HTML object>"
      ]
     },
     "metadata": {},
     "output_type": "display_data"
    },
    {
     "data": {
      "text/html": [
       "Syncing run <strong><a href='https://wandb.ai/suwon-pabby/sweep-test/runs/72b90ygj' target=\"_blank\">v16_s13</a></strong> to <a href='https://wandb.ai/suwon-pabby/sweep-test' target=\"_blank\">Weights & Biases</a> (<a href='https://wandb.me/run' target=\"_blank\">docs</a>)<br/>Sweep page: <a href='https://wandb.ai/suwon-pabby/sweep-test/sweeps/0nf73hon' target=\"_blank\">https://wandb.ai/suwon-pabby/sweep-test/sweeps/0nf73hon</a>"
      ],
      "text/plain": [
       "<IPython.core.display.HTML object>"
      ]
     },
     "metadata": {},
     "output_type": "display_data"
    },
    {
     "data": {
      "text/html": [
       " View project at <a href='https://wandb.ai/suwon-pabby/sweep-test' target=\"_blank\">https://wandb.ai/suwon-pabby/sweep-test</a>"
      ],
      "text/plain": [
       "<IPython.core.display.HTML object>"
      ]
     },
     "metadata": {},
     "output_type": "display_data"
    },
    {
     "data": {
      "text/html": [
       " View sweep at <a href='https://wandb.ai/suwon-pabby/sweep-test/sweeps/0nf73hon' target=\"_blank\">https://wandb.ai/suwon-pabby/sweep-test/sweeps/0nf73hon</a>"
      ],
      "text/plain": [
       "<IPython.core.display.HTML object>"
      ]
     },
     "metadata": {},
     "output_type": "display_data"
    },
    {
     "data": {
      "text/html": [
       " View run at <a href='https://wandb.ai/suwon-pabby/sweep-test/runs/72b90ygj' target=\"_blank\">https://wandb.ai/suwon-pabby/sweep-test/runs/72b90ygj</a>"
      ],
      "text/plain": [
       "<IPython.core.display.HTML object>"
      ]
     },
     "metadata": {},
     "output_type": "display_data"
    },
    {
     "name": "stderr",
     "output_type": "stream",
     "text": [
      "GPU available: True (mps), used: True\n",
      "TPU available: False, using: 0 TPU cores\n",
      "IPU available: False, using: 0 IPUs\n",
      "HPU available: False, using: 0 HPUs\n",
      "\n",
      "  | Name  | Type     | Params\n",
      "-----------------------------------\n",
      "0 | model | CNNModel | 429 K \n",
      "-----------------------------------\n",
      "429 K     Trainable params\n",
      "0         Non-trainable params\n",
      "429 K     Total params\n",
      "1.717     Total estimated model params size (MB)\n"
     ]
    },
    {
     "name": "stdout",
     "output_type": "stream",
     "text": [
      "Epoch 0: 100%|██████████| 1125/1125 [00:36<00:00, 30.70it/s, v_num=0ygj, train_acc=0.833, train_loss=0.657]\n",
      "Epoch 0, Avg. Training Loss: 1.383, Avg. Training Accuracy: 0.592 Avg. Validation Loss: 0.601, Avg. Validation Accuracy: 0.805\n",
      "Epoch 1: 100%|██████████| 1125/1125 [00:36<00:00, 31.04it/s, v_num=0ygj, train_acc=0.883, train_loss=0.386]\n",
      "Epoch 1, Avg. Training Loss: 0.452, Avg. Training Accuracy: 0.843 Avg. Validation Loss: 0.370, Avg. Validation Accuracy: 0.862\n",
      "Epoch 1: 100%|██████████| 1125/1125 [00:54<00:00, 20.60it/s, v_num=0ygj, train_acc=0.883, train_loss=0.386]"
     ]
    },
    {
     "name": "stderr",
     "output_type": "stream",
     "text": [
      "`Trainer.fit` stopped: `max_epochs=2` reached.\n"
     ]
    },
    {
     "name": "stdout",
     "output_type": "stream",
     "text": [
      "Epoch 1: 100%|██████████| 1125/1125 [00:54<00:00, 20.58it/s, v_num=0ygj, train_acc=0.883, train_loss=0.386]\n",
      "Testing DataLoader 0: 100%|██████████| 313/313 [00:07<00:00, 42.07it/s]\n"
     ]
    },
    {
     "data": {
      "text/html": [
       "<pre style=\"white-space:pre;overflow-x:auto;line-height:normal;font-family:Menlo,'DejaVu Sans Mono',consolas,'Courier New',monospace\">┏━━━━━━━━━━━━━━━━━━━━━━━━━━━┳━━━━━━━━━━━━━━━━━━━━━━━━━━━┓\n",
       "┃<span style=\"font-weight: bold\">        Test metric        </span>┃<span style=\"font-weight: bold\">       DataLoader 0        </span>┃\n",
       "┡━━━━━━━━━━━━━━━━━━━━━━━━━━━╇━━━━━━━━━━━━━━━━━━━━━━━━━━━┩\n",
       "│<span style=\"color: #008080; text-decoration-color: #008080\">         test_acc          </span>│<span style=\"color: #800080; text-decoration-color: #800080\">    0.8741497993469238     </span>│\n",
       "│<span style=\"color: #008080; text-decoration-color: #008080\">         test_loss         </span>│<span style=\"color: #800080; text-decoration-color: #800080\">    0.3557322919368744     </span>│\n",
       "└───────────────────────────┴───────────────────────────┘\n",
       "</pre>\n"
      ],
      "text/plain": [
       "┏━━━━━━━━━━━━━━━━━━━━━━━━━━━┳━━━━━━━━━━━━━━━━━━━━━━━━━━━┓\n",
       "┃\u001b[1m \u001b[0m\u001b[1m       Test metric       \u001b[0m\u001b[1m \u001b[0m┃\u001b[1m \u001b[0m\u001b[1m      DataLoader 0       \u001b[0m\u001b[1m \u001b[0m┃\n",
       "┡━━━━━━━━━━━━━━━━━━━━━━━━━━━╇━━━━━━━━━━━━━━━━━━━━━━━━━━━┩\n",
       "│\u001b[36m \u001b[0m\u001b[36m        test_acc         \u001b[0m\u001b[36m \u001b[0m│\u001b[35m \u001b[0m\u001b[35m   0.8741497993469238    \u001b[0m\u001b[35m \u001b[0m│\n",
       "│\u001b[36m \u001b[0m\u001b[36m        test_loss        \u001b[0m\u001b[36m \u001b[0m│\u001b[35m \u001b[0m\u001b[35m   0.3557322919368744    \u001b[0m\u001b[35m \u001b[0m│\n",
       "└───────────────────────────┴───────────────────────────┘\n"
      ]
     },
     "metadata": {},
     "output_type": "display_data"
    },
    {
     "data": {
      "text/html": [
       "Waiting for W&B process to finish... <strong style=\"color:green\">(success).</strong>"
      ],
      "text/plain": [
       "<IPython.core.display.HTML object>"
      ]
     },
     "metadata": {},
     "output_type": "display_data"
    },
    {
     "data": {
      "text/html": [
       "<style>\n",
       "    table.wandb td:nth-child(1) { padding: 0 10px; text-align: left ; width: auto;} td:nth-child(2) {text-align: left ; width: 100%}\n",
       "    .wandb-row { display: flex; flex-direction: row; flex-wrap: wrap; justify-content: flex-start; width: 100% }\n",
       "    .wandb-col { display: flex; flex-direction: column; flex-basis: 100%; flex: 1; padding: 10px; }\n",
       "    </style>\n",
       "<div class=\"wandb-row\"><div class=\"wandb-col\"><h3>Run history:</h3><br/><table class=\"wandb\"><tr><td>epoch</td><td>▁▁▁▁▁▁▁▁▁▁▁▁▁▁▁▁▁▁▁▁▅▅▅▅▅▅▅▅▅▅▅▅▅▅▅▅▅▅▅█</td></tr><tr><td>test_acc</td><td>▁</td></tr><tr><td>test_loss</td><td>▁</td></tr><tr><td>train_acc</td><td>▁▁▂▄▃▃▆▄▅▆▅▄▆▇▇▇█▅▇▇▇▇▇█▇▆█▇▆▆▇█▆▆█▆▇█▇▇</td></tr><tr><td>train_avg_acc</td><td>▁█</td></tr><tr><td>train_avg_loss</td><td>█▁</td></tr><tr><td>train_loss</td><td>████▇▇▆▆▅▄▄▄▄▃▃▃▃▄▃▂▂▃▂▂▂▂▁▂▃▂▁▁▂▂▂▁▂▁▁▂</td></tr><tr><td>trainer/global_step</td><td>▁▁▁▁▂▂▂▂▂▃▃▃▃▃▄▄▄▄▄▄▅▅▅▅▅▆▆▆▆▆▇▇▇▇▇█████</td></tr><tr><td>val_acc</td><td>▁█</td></tr><tr><td>val_avg_acc</td><td>▁█</td></tr><tr><td>val_avg_loss</td><td>█▁</td></tr><tr><td>val_loss</td><td>█▁</td></tr></table><br/></div><div class=\"wandb-col\"><h3>Run summary:</h3><br/><table class=\"wandb\"><tr><td>epoch</td><td>2</td></tr><tr><td>test_acc</td><td>0.87415</td></tr><tr><td>test_loss</td><td>0.35573</td></tr><tr><td>train_acc</td><td>0.88333</td></tr><tr><td>train_avg_acc</td><td>0.84322</td></tr><tr><td>train_avg_loss</td><td>0.45195</td></tr><tr><td>train_loss</td><td>0.3857</td></tr><tr><td>trainer/global_step</td><td>2250</td></tr><tr><td>val_acc</td><td>0.8619</td></tr><tr><td>val_avg_acc</td><td>0.8619</td></tr><tr><td>val_avg_loss</td><td>0.37046</td></tr><tr><td>val_loss</td><td>0.37046</td></tr></table><br/></div></div>"
      ],
      "text/plain": [
       "<IPython.core.display.HTML object>"
      ]
     },
     "metadata": {},
     "output_type": "display_data"
    },
    {
     "data": {
      "text/html": [
       " View run <strong style=\"color:#cdcd00\">v16_s13</strong> at: <a href='https://wandb.ai/suwon-pabby/sweep-test/runs/72b90ygj' target=\"_blank\">https://wandb.ai/suwon-pabby/sweep-test/runs/72b90ygj</a><br/>Synced 6 W&B file(s), 0 media file(s), 0 artifact file(s) and 0 other file(s)"
      ],
      "text/plain": [
       "<IPython.core.display.HTML object>"
      ]
     },
     "metadata": {},
     "output_type": "display_data"
    },
    {
     "data": {
      "text/html": [
       "Find logs at: <code>./wandb/run-20230725_142926-72b90ygj/logs</code>"
      ],
      "text/plain": [
       "<IPython.core.display.HTML object>"
      ]
     },
     "metadata": {},
     "output_type": "display_data"
    },
    {
     "name": "stderr",
     "output_type": "stream",
     "text": [
      "\u001b[34m\u001b[1mwandb\u001b[0m: Agent Starting Run: e7y1racm with config:\n",
      "\u001b[34m\u001b[1mwandb\u001b[0m: \tbatch_size: 32\n",
      "\u001b[34m\u001b[1mwandb\u001b[0m: \ttype: small\n",
      "Failed to detect the name of this notebook, you can set it manually with the WANDB_NOTEBOOK_NAME environment variable to enable code saving.\n"
     ]
    },
    {
     "data": {
      "text/html": [
       "wandb version 0.15.6 is available!  To upgrade, please run:\n",
       " $ pip install wandb --upgrade"
      ],
      "text/plain": [
       "<IPython.core.display.HTML object>"
      ]
     },
     "metadata": {},
     "output_type": "display_data"
    },
    {
     "data": {
      "text/html": [
       "Tracking run with wandb version 0.15.5"
      ],
      "text/plain": [
       "<IPython.core.display.HTML object>"
      ]
     },
     "metadata": {},
     "output_type": "display_data"
    },
    {
     "data": {
      "text/html": [
       "Run data is saved locally in <code>/Users/lee/Desktop/이의진/Programmers/finalProject/AIInfra/baselines/wandb/run-20230725_143139-e7y1racm</code>"
      ],
      "text/plain": [
       "<IPython.core.display.HTML object>"
      ]
     },
     "metadata": {},
     "output_type": "display_data"
    },
    {
     "data": {
      "text/html": [
       "Syncing run <strong><a href='https://wandb.ai/suwon-pabby/sweep-test/runs/e7y1racm' target=\"_blank\">v16_s14</a></strong> to <a href='https://wandb.ai/suwon-pabby/sweep-test' target=\"_blank\">Weights & Biases</a> (<a href='https://wandb.me/run' target=\"_blank\">docs</a>)<br/>Sweep page: <a href='https://wandb.ai/suwon-pabby/sweep-test/sweeps/0nf73hon' target=\"_blank\">https://wandb.ai/suwon-pabby/sweep-test/sweeps/0nf73hon</a>"
      ],
      "text/plain": [
       "<IPython.core.display.HTML object>"
      ]
     },
     "metadata": {},
     "output_type": "display_data"
    },
    {
     "data": {
      "text/html": [
       " View project at <a href='https://wandb.ai/suwon-pabby/sweep-test' target=\"_blank\">https://wandb.ai/suwon-pabby/sweep-test</a>"
      ],
      "text/plain": [
       "<IPython.core.display.HTML object>"
      ]
     },
     "metadata": {},
     "output_type": "display_data"
    },
    {
     "data": {
      "text/html": [
       " View sweep at <a href='https://wandb.ai/suwon-pabby/sweep-test/sweeps/0nf73hon' target=\"_blank\">https://wandb.ai/suwon-pabby/sweep-test/sweeps/0nf73hon</a>"
      ],
      "text/plain": [
       "<IPython.core.display.HTML object>"
      ]
     },
     "metadata": {},
     "output_type": "display_data"
    },
    {
     "data": {
      "text/html": [
       " View run at <a href='https://wandb.ai/suwon-pabby/sweep-test/runs/e7y1racm' target=\"_blank\">https://wandb.ai/suwon-pabby/sweep-test/runs/e7y1racm</a>"
      ],
      "text/plain": [
       "<IPython.core.display.HTML object>"
      ]
     },
     "metadata": {},
     "output_type": "display_data"
    },
    {
     "name": "stderr",
     "output_type": "stream",
     "text": [
      "GPU available: True (mps), used: True\n",
      "TPU available: False, using: 0 TPU cores\n",
      "IPU available: False, using: 0 IPUs\n",
      "HPU available: False, using: 0 HPUs\n",
      "\n",
      "  | Name  | Type     | Params\n",
      "-----------------------------------\n",
      "0 | model | CNNModel | 429 K \n",
      "-----------------------------------\n",
      "429 K     Trainable params\n",
      "0         Non-trainable params\n",
      "429 K     Total params\n",
      "1.717     Total estimated model params size (MB)\n"
     ]
    },
    {
     "name": "stdout",
     "output_type": "stream",
     "text": [
      "Epoch 0: 100%|██████████| 1125/1125 [00:36<00:00, 30.79it/s, v_num=racm, train_acc=0.817, train_loss=0.675]\n",
      "Epoch 0, Avg. Training Loss: 1.477, Avg. Training Accuracy: 0.618 Avg. Validation Loss: 0.634, Avg. Validation Accuracy: 0.809\n",
      "Epoch 1: 100%|██████████| 1125/1125 [00:36<00:00, 31.14it/s, v_num=racm, train_acc=0.950, train_loss=0.420]\n",
      "Epoch 1, Avg. Training Loss: 0.475, Avg. Training Accuracy: 0.835 Avg. Validation Loss: 0.373, Avg. Validation Accuracy: 0.863\n",
      "Epoch 1: 100%|██████████| 1125/1125 [00:54<00:00, 20.72it/s, v_num=racm, train_acc=0.950, train_loss=0.420]"
     ]
    },
    {
     "name": "stderr",
     "output_type": "stream",
     "text": [
      "`Trainer.fit` stopped: `max_epochs=2` reached.\n"
     ]
    },
    {
     "name": "stdout",
     "output_type": "stream",
     "text": [
      "Epoch 1: 100%|██████████| 1125/1125 [00:54<00:00, 20.70it/s, v_num=racm, train_acc=0.950, train_loss=0.420]\n",
      "Testing DataLoader 0: 100%|██████████| 313/313 [00:07<00:00, 44.07it/s]\n"
     ]
    },
    {
     "data": {
      "text/html": [
       "<pre style=\"white-space:pre;overflow-x:auto;line-height:normal;font-family:Menlo,'DejaVu Sans Mono',consolas,'Courier New',monospace\">┏━━━━━━━━━━━━━━━━━━━━━━━━━━━┳━━━━━━━━━━━━━━━━━━━━━━━━━━━┓\n",
       "┃<span style=\"font-weight: bold\">        Test metric        </span>┃<span style=\"font-weight: bold\">       DataLoader 0        </span>┃\n",
       "┡━━━━━━━━━━━━━━━━━━━━━━━━━━━╇━━━━━━━━━━━━━━━━━━━━━━━━━━━┩\n",
       "│<span style=\"color: #008080; text-decoration-color: #008080\">         test_acc          </span>│<span style=\"color: #800080; text-decoration-color: #800080\">    0.8759726285934448     </span>│\n",
       "│<span style=\"color: #008080; text-decoration-color: #008080\">         test_loss         </span>│<span style=\"color: #800080; text-decoration-color: #800080\">    0.3675419092178345     </span>│\n",
       "└───────────────────────────┴───────────────────────────┘\n",
       "</pre>\n"
      ],
      "text/plain": [
       "┏━━━━━━━━━━━━━━━━━━━━━━━━━━━┳━━━━━━━━━━━━━━━━━━━━━━━━━━━┓\n",
       "┃\u001b[1m \u001b[0m\u001b[1m       Test metric       \u001b[0m\u001b[1m \u001b[0m┃\u001b[1m \u001b[0m\u001b[1m      DataLoader 0       \u001b[0m\u001b[1m \u001b[0m┃\n",
       "┡━━━━━━━━━━━━━━━━━━━━━━━━━━━╇━━━━━━━━━━━━━━━━━━━━━━━━━━━┩\n",
       "│\u001b[36m \u001b[0m\u001b[36m        test_acc         \u001b[0m\u001b[36m \u001b[0m│\u001b[35m \u001b[0m\u001b[35m   0.8759726285934448    \u001b[0m\u001b[35m \u001b[0m│\n",
       "│\u001b[36m \u001b[0m\u001b[36m        test_loss        \u001b[0m\u001b[36m \u001b[0m│\u001b[35m \u001b[0m\u001b[35m   0.3675419092178345    \u001b[0m\u001b[35m \u001b[0m│\n",
       "└───────────────────────────┴───────────────────────────┘\n"
      ]
     },
     "metadata": {},
     "output_type": "display_data"
    },
    {
     "data": {
      "text/html": [
       "Waiting for W&B process to finish... <strong style=\"color:green\">(success).</strong>"
      ],
      "text/plain": [
       "<IPython.core.display.HTML object>"
      ]
     },
     "metadata": {},
     "output_type": "display_data"
    },
    {
     "data": {
      "text/html": [
       "<style>\n",
       "    table.wandb td:nth-child(1) { padding: 0 10px; text-align: left ; width: auto;} td:nth-child(2) {text-align: left ; width: 100%}\n",
       "    .wandb-row { display: flex; flex-direction: row; flex-wrap: wrap; justify-content: flex-start; width: 100% }\n",
       "    .wandb-col { display: flex; flex-direction: column; flex-basis: 100%; flex: 1; padding: 10px; }\n",
       "    </style>\n",
       "<div class=\"wandb-row\"><div class=\"wandb-col\"><h3>Run history:</h3><br/><table class=\"wandb\"><tr><td>epoch</td><td>▁▁▁▁▁▁▁▁▁▁▁▁▁▁▁▁▁▁▁▁▅▅▅▅▅▅▅▅▅▅▅▅▅▅▅▅▅▅▅█</td></tr><tr><td>test_acc</td><td>▁</td></tr><tr><td>test_loss</td><td>▁</td></tr><tr><td>train_acc</td><td>▁▁▃▂▂▄▄▄▅▆▆▇▄▇▆▇▆▆▇█▇▇▆▆▅█▆██▇▇▇▇▆▇▇▇▆▇█</td></tr><tr><td>train_avg_acc</td><td>▁█</td></tr><tr><td>train_avg_loss</td><td>█▁</td></tr><tr><td>train_loss</td><td>█████▇▇▆▆▅▅▃▄▃▃▃▃▃▂▂▂▂▂▂▂▁▂▁▁▁▂▂▁▂▂▂▁▂▂▂</td></tr><tr><td>trainer/global_step</td><td>▁▁▁▁▂▂▂▂▂▃▃▃▃▃▄▄▄▄▄▄▅▅▅▅▅▆▆▆▆▆▇▇▇▇▇█████</td></tr><tr><td>val_acc</td><td>▁█</td></tr><tr><td>val_avg_acc</td><td>▁█</td></tr><tr><td>val_avg_loss</td><td>█▁</td></tr><tr><td>val_loss</td><td>█▁</td></tr></table><br/></div><div class=\"wandb-col\"><h3>Run summary:</h3><br/><table class=\"wandb\"><tr><td>epoch</td><td>2</td></tr><tr><td>test_acc</td><td>0.87597</td></tr><tr><td>test_loss</td><td>0.36754</td></tr><tr><td>train_acc</td><td>0.95</td></tr><tr><td>train_avg_acc</td><td>0.83507</td></tr><tr><td>train_avg_loss</td><td>0.47481</td></tr><tr><td>train_loss</td><td>0.42017</td></tr><tr><td>trainer/global_step</td><td>2250</td></tr><tr><td>val_acc</td><td>0.86282</td></tr><tr><td>val_avg_acc</td><td>0.86282</td></tr><tr><td>val_avg_loss</td><td>0.37344</td></tr><tr><td>val_loss</td><td>0.37344</td></tr></table><br/></div></div>"
      ],
      "text/plain": [
       "<IPython.core.display.HTML object>"
      ]
     },
     "metadata": {},
     "output_type": "display_data"
    },
    {
     "data": {
      "text/html": [
       " View run <strong style=\"color:#cdcd00\">v16_s14</strong> at: <a href='https://wandb.ai/suwon-pabby/sweep-test/runs/e7y1racm' target=\"_blank\">https://wandb.ai/suwon-pabby/sweep-test/runs/e7y1racm</a><br/>Synced 6 W&B file(s), 0 media file(s), 0 artifact file(s) and 0 other file(s)"
      ],
      "text/plain": [
       "<IPython.core.display.HTML object>"
      ]
     },
     "metadata": {},
     "output_type": "display_data"
    },
    {
     "data": {
      "text/html": [
       "Find logs at: <code>./wandb/run-20230725_143139-e7y1racm/logs</code>"
      ],
      "text/plain": [
       "<IPython.core.display.HTML object>"
      ]
     },
     "metadata": {},
     "output_type": "display_data"
    },
    {
     "name": "stderr",
     "output_type": "stream",
     "text": [
      "\u001b[34m\u001b[1mwandb\u001b[0m: Sweep Agent: Waiting for job.\n",
      "\u001b[34m\u001b[1mwandb\u001b[0m: Sweep Agent: Exiting.\n"
     ]
    }
   ],
   "source": [
    "def generate_train_func(cfg):\n",
    "    def find_key(cfg, query, new_value):\n",
    "        for key, value in cfg.items():\n",
    "            if key == query:\n",
    "                cfg[key] = new_value\n",
    "                return True\n",
    "            elif isinstance(value, DictConfig):\n",
    "                if find_key(value, query, new_value):\n",
    "                    return True\n",
    "        return False\n",
    "\n",
    "    def train():\n",
    "        try:\n",
    "            # Set Constant\n",
    "            CHECKPOINT_PATH = \"./checkpoints\"\n",
    "            CONFIGS_PATH = \"./configs\"\n",
    "\n",
    "            # Get Global Version Info\n",
    "            with open(\"global.yaml\", \"r\") as f:\n",
    "                global_data = yaml.safe_load(f)\n",
    "            version_count = global_data[\"next_version_count\"]\n",
    "            sweep_count = global_data[\"next_sweep_count\"]\n",
    "\n",
    "            # Initalize Wandb\n",
    "            if \"name\" in cfg.train:\n",
    "                name = cfg.train.name + f\"_s{sweep_count}\"\n",
    "            else:\n",
    "                name = f\"v{version_count}_s{sweep_count}\"\n",
    "            wandb.init(name=name)\n",
    "\n",
    "            # Get config.yaml file\n",
    "            with open(\"config.yaml\", \"r\") as f:\n",
    "                cfg_data = yaml.safe_load(f)\n",
    "\n",
    "            # Save Version Config Info On Configs Folder\n",
    "            if sweep_count == 0:\n",
    "                with open(f\"{CONFIGS_PATH}/version_{version_count}_config.yaml\",\n",
    "                          \"w\") as f:\n",
    "                    yaml.dump(cfg_data, f)\n",
    "\n",
    "            # Set Sweeping Setting\n",
    "            for key, item in wandb.config.items():\n",
    "                if not find_key(cfg, key, item):\n",
    "                    print(\n",
    "                        f\"key: {key} in your sweeping configuration was not found in your configuration\")\n",
    "\n",
    "            # Load Data Module\n",
    "            data_module = MNISTDataModule(\n",
    "                **cfg.data)\n",
    "\n",
    "            # Load Training Configuration\n",
    "            models = [instantiate(cfg.models[model])\n",
    "                      for model in dir(cfg.models)]\n",
    "\n",
    "            # Add Callbacks\n",
    "            cfg_callbacks = cfg.train.callbacks\n",
    "            callbacks = []\n",
    "            checkpoint_callback = ModelCheckpoint(**cfg_callbacks.checkpoint_callback,\n",
    "                                                  dirpath=f\"{CHECKPOINT_PATH}/v{version_count}_s{sweep_count}/\"\n",
    "                                                  )\n",
    "            callbacks.append(checkpoint_callback)\n",
    "\n",
    "            early_stop_callback = EarlyStopping(\n",
    "                **cfg_callbacks.early_stop_callback)\n",
    "            callbacks.append(early_stop_callback)\n",
    "\n",
    "            # Set Logger\n",
    "            logger = instantiate(\n",
    "                cfg.train.logger, name=f\"version_{version_count}\")\n",
    "\n",
    "            # Train\n",
    "            for model in models:\n",
    "                # Set Optimizer\n",
    "                optimizer = instantiate(\n",
    "                    cfg.task.optimizer, params=model.parameters())\n",
    "\n",
    "                # Set Lr Scheduler If exists\n",
    "                if cfg.task.lr_scheduler.scheduler._target_ is not None:\n",
    "                    lr_scheduler = {}\n",
    "                    lr_scheduler[\"scheduler\"] = instantiate(\n",
    "                        cfg.task.lr_scheduler.scheduler, optimizer=optimizer)\n",
    "                    lr_scheduler[\"interval\"] = cfg.task.lr_scheduler.interval\n",
    "                else:\n",
    "                    lr_scheduler = None\n",
    "\n",
    "                # Define Task\n",
    "                cfg_task = OmegaConf.to_container(cfg.task)\n",
    "                cfg_task.pop(\"optimizer\")\n",
    "                if cfg_task[\"lr_scheduler\"][\"scheduler\"][\"_target_\"] is not None:\n",
    "                    cfg_task.pop(\"lr_scheduler\")\n",
    "                task = ClassificationTask(**cfg_task,\n",
    "                                          model=model, optimizer=optimizer, lr_scheduler=lr_scheduler)\n",
    "\n",
    "                # Train and Test\n",
    "                trainer = pl.Trainer(**cfg.train.trainer,\n",
    "                                     callbacks=callbacks, logger=logger)\n",
    "                trainer.fit(task, data_module)\n",
    "                trainer.test(task, datamodule=data_module)\n",
    "                trainer.save_checkpoint(f\"{CHECKPOINT_PATH}/best_model.ckpt\")\n",
    "\n",
    "            # Save Version Config Info On Checkpoints Folder\n",
    "            with open(f\"{CHECKPOINT_PATH}/v{version_count}_s{sweep_count}/version_config.yaml\",\n",
    "                      \"w\") as f:\n",
    "                yaml.dump(cfg_data, f)\n",
    "\n",
    "            # Set Sweep Info\n",
    "            global_data[\"next_sweep_count\"] += 1\n",
    "            with open(\"global.yaml\", \"w\") as f:\n",
    "                yaml.dump(global_data, f)\n",
    "\n",
    "            # Finish wandb\n",
    "            if cfg.train.logger._target_ == \"pytorch_lightning.loggers.WandbLogger\":\n",
    "                wandb.finish()\n",
    "        except Exception:\n",
    "            # Finish wandb\n",
    "            if cfg.train.logger._target_ == \"pytorch_lightning.loggers.WandbLogger\":\n",
    "                wandb.finish()\n",
    "\n",
    "            print(\"An error occurred:\")\n",
    "            print(traceback.format_exc())\n",
    "            return\n",
    "    return train\n",
    "\n",
    "\n",
    "# Load Configuration Object\n",
    "with initialize(version_base=None, config_path=\"./\"):\n",
    "    cfg = compose(config_name=\"config.yaml\")\n",
    "\n",
    "# Get Sweep ID\n",
    "sweep_id = wandb.sweep(OmegaConf.to_container(\n",
    "    cfg.sweep), project=\"sweep-test\")\n",
    "\n",
    "# Apply Sweeping\n",
    "wandb.agent(sweep_id, function=generate_train_func(cfg))\n",
    "\n",
    "# Update Version / Sweep Info\n",
    "with open(\"global.yaml\", \"r\") as f:\n",
    "    global_data = yaml.safe_load(f)\n",
    "global_data[\"next_version_count\"] += 1\n",
    "global_data[\"next_sweep_count\"] = 0\n",
    "with open(\"global.yaml\", \"w\") as f:\n",
    "    yaml.dump(global_data, f)"
   ]
  },
  {
   "cell_type": "code",
   "execution_count": null,
   "metadata": {},
   "outputs": [],
   "source": []
  },
  {
   "cell_type": "code",
   "execution_count": 7,
   "metadata": {},
   "outputs": [],
   "source": [
    "wandb.finish()\n"
   ]
  },
  {
   "cell_type": "code",
   "execution_count": 8,
   "metadata": {},
   "outputs": [],
   "source": [
    "# # 만일 이전 결과에서 Epoch을 이어서 실행하고 싶다면?\n",
    "# model = CNNModel(config=config)  # 기존에 학습 때 사용한 모델\n",
    "# task = ClassificationTask.load_from_checkpoint(\n",
    "#     \"test_checkpoints/checkpoints/last.ckpt\", model=model)  # 기존 최신 모델에서 체크포인트를 가져옴\n",
    "# trainer = pl.Trainer(max_epochs=30, callbacks=callbacks)\n",
    "# trainer.fit(task, data_module)"
   ]
  },
  {
   "attachments": {},
   "cell_type": "markdown",
   "metadata": {},
   "source": [
    "## Model Prediction\n",
    "\n",
    "직접 Model Prediction을 수행하여 모델이 제대로 동작하는지 검증합니다.\n"
   ]
  },
  {
   "cell_type": "code",
   "execution_count": 9,
   "metadata": {},
   "outputs": [
    {
     "ename": "TypeError",
     "evalue": "MNISTDataModule.__init__() missing 4 required positional arguments: 'data_dir', 'batch_size', 'pred_batch_size', and 'train_ratio'",
     "output_type": "error",
     "traceback": [
      "\u001b[0;31m---------------------------------------------------------------------------\u001b[0m",
      "\u001b[0;31mTypeError\u001b[0m                                 Traceback (most recent call last)",
      "Cell \u001b[0;32mIn[9], line 1\u001b[0m\n\u001b[0;32m----> 1\u001b[0m data_module \u001b[39m=\u001b[39m MNISTDataModule()\n\u001b[1;32m      2\u001b[0m \u001b[39m# MNIST 테스트 데이터셋 로드\u001b[39;00m\n\u001b[1;32m      3\u001b[0m predict_dataset \u001b[39m=\u001b[39m datasets\u001b[39m.\u001b[39mMNIST(\n\u001b[1;32m      4\u001b[0m     root\u001b[39m=\u001b[39m\u001b[39m'\u001b[39m\u001b[39m./\u001b[39m\u001b[39m'\u001b[39m, train\u001b[39m=\u001b[39m\u001b[39mFalse\u001b[39;00m, download\u001b[39m=\u001b[39m\u001b[39mTrue\u001b[39;00m)\n",
      "\u001b[0;31mTypeError\u001b[0m: MNISTDataModule.__init__() missing 4 required positional arguments: 'data_dir', 'batch_size', 'pred_batch_size', and 'train_ratio'"
     ]
    }
   ],
   "source": [
    "data_module = MNISTDataModule()\n",
    "# MNIST 테스트 데이터셋 로드\n",
    "predict_dataset = datasets.MNIST(\n",
    "    root='./', train=False, download=True)\n",
    "\n",
    "# 랜덤 이미지 선택\n",
    "random_idx = torch.randint(len(predict_dataset), size=(1,)).item()\n",
    "image, true_label = predict_dataset[random_idx]\n",
    "\n",
    "# 이미지 확인 (optional)\n",
    "transform = torchvision.transforms.ToTensor()\n",
    "image_tensor = transform(image)\n",
    "plt.imshow(image_tensor[0].squeeze(), cmap='gray')\n",
    "plt.show()\n",
    "\n",
    "\n",
    "# 모델 생성 및 학습된 가중치 로드\n",
    "model_config = {}\n",
    "model = ClassificationTask.load_from_checkpoint(\n",
    "    \"test_checkpoints/best_model.ckpt\", model=CNNModel(config=model_config))\n",
    "\n",
    "model.eval()\n",
    "with torch.no_grad():\n",
    "    x, y = data_module.predict_instantly([image], [true_label])\n",
    "    loss, logits = model(x, y)\n",
    "\n",
    "# Predict Data를 원하는 DataLoader로 직접 만들어서 predict를 수행하고자 할 경우\n",
    "# data_module.predicted_dataloader_attr = your_dataloader\n",
    "# trainer = pl.Trainer()\n",
    "# loss, logits = trainer.predict(model, datamodule=data_module)\n",
    "\n",
    "\n",
    "# 가장 높은 확률을 가진 클래스 예측\n",
    "_, predicted_class = torch.max(logits, dim=1)\n",
    "\n",
    "print(f'True label: {true_label}, Predicted label: {predicted_class.item()}')\n"
   ]
  }
 ],
 "metadata": {
  "kernelspec": {
   "display_name": "jobVS_infra_test",
   "language": "python",
   "name": "python3"
  },
  "language_info": {
   "codemirror_mode": {
    "name": "ipython",
    "version": 3
   },
   "file_extension": ".py",
   "mimetype": "text/x-python",
   "name": "python",
   "nbconvert_exporter": "python",
   "pygments_lexer": "ipython3",
   "version": "3.10.12"
  },
  "orig_nbformat": 4
 },
 "nbformat": 4,
 "nbformat_minor": 2
}
