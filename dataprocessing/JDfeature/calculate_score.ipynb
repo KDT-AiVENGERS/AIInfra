{
 "cells": [
  {
   "cell_type": "markdown",
   "metadata": {},
   "source": [
    "## Best 모델 고르기\n",
    "- 모델 별 유사도가 계산된 csv 파일을 받아 loss값을 계산\n",
    "- 가장 작은 loss값을 가진 모델로 선정\n",
    "- 계산과정  \n",
    "    * 모델 유사도 min_max_normarlization -> abs(분류 - 모델 유사도)의 average 계산"
   ]
  },
  {
   "cell_type": "code",
   "execution_count": 25,
   "metadata": {},
   "outputs": [],
   "source": [
    "import pandas as pd\n",
    "import numpy as np"
   ]
  },
  {
   "cell_type": "code",
   "execution_count": 26,
   "metadata": {},
   "outputs": [],
   "source": [
    "# 실험용 dummy data random으로 집어넣은 값\n",
    "# df= pd.read_csv('../dataset/samplejd_ver02.csv')\n",
    "# df['모델 유사도'] = list(np.random.randint(0, 100, 38)/100)\n",
    "# df"
   ]
  },
  {
   "cell_type": "code",
   "execution_count": 46,
   "metadata": {},
   "outputs": [],
   "source": [
    "#모델 추가 부분\n",
    "klu_bert = pd.read_csv('../dataset/0803_klue_bert.csv')\n",
    "multilingual_base = pd.read_csv('../dataset/_multilingual_base.csv')\n",
    "\n",
    "\n",
    "model_dic = {'klu_bert':klu_bert,\n",
    "             'multilingual_base':multilingual_base\n",
    "             }\n",
    "# kc_bert_large = pd.read_csv('')"
   ]
  },
  {
   "cell_type": "code",
   "execution_count": 47,
   "metadata": {},
   "outputs": [],
   "source": [
    "def score(classification, similarity):\n",
    "   return sum(abs(classification - (similarity - min(similarity))/(max(similarity)-min(similarity))))/len(similarity)\n"
   ]
  },
  {
   "cell_type": "code",
   "execution_count": 49,
   "metadata": {},
   "outputs": [
    {
     "name": "stdout",
     "output_type": "stream",
     "text": [
      "klu_bert score:  0.5123798249271543\n",
      "multilingual_base score:  0.5794042999056151\n"
     ]
    }
   ],
   "source": [
    "#분류 column과 모델유사도 column을 넣은 loss값\n",
    "\n",
    "for model_name, model in model_dic.items():\n",
    "    print(f'{model_name} score: ',score(model['분류'], model['모델 유사도']))"
   ]
  },
  {
   "cell_type": "code",
   "execution_count": null,
   "metadata": {},
   "outputs": [],
   "source": []
  },
  {
   "cell_type": "code",
   "execution_count": null,
   "metadata": {},
   "outputs": [],
   "source": []
  }
 ],
 "metadata": {
  "kernelspec": {
   "display_name": "env_light",
   "language": "python",
   "name": "python3"
  },
  "language_info": {
   "codemirror_mode": {
    "name": "ipython",
    "version": 3
   },
   "file_extension": ".py",
   "mimetype": "text/x-python",
   "name": "python",
   "nbconvert_exporter": "python",
   "pygments_lexer": "ipython3",
   "version": "3.10.12"
  },
  "orig_nbformat": 4
 },
 "nbformat": 4,
 "nbformat_minor": 2
}
